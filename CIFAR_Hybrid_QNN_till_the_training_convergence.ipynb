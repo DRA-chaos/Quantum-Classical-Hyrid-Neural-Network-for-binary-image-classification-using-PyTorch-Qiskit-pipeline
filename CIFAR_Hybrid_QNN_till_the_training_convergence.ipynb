{
  "nbformat": 4,
  "nbformat_minor": 0,
  "metadata": {
    "colab": {
      "name": "CIFAR Hybrid QNN till the training convergence.ipynb",
      "provenance": [],
      "authorship_tag": "ABX9TyMJPyZYqRgBQy0xQS8SXmxW",
      "include_colab_link": true
    },
    "kernelspec": {
      "name": "python3",
      "display_name": "Python 3"
    },
    "language_info": {
      "name": "python"
    },
    "widgets": {
      "application/vnd.jupyter.widget-state+json": {
        "dee60a8691e84f8f883a1817db5327af": {
          "model_module": "@jupyter-widgets/controls",
          "model_name": "HBoxModel",
          "state": {
            "_view_name": "HBoxView",
            "_dom_classes": [],
            "_model_name": "HBoxModel",
            "_view_module": "@jupyter-widgets/controls",
            "_model_module_version": "1.5.0",
            "_view_count": null,
            "_view_module_version": "1.5.0",
            "box_style": "",
            "layout": "IPY_MODEL_5f6eff3959e24446a01506dbc0eb4102",
            "_model_module": "@jupyter-widgets/controls",
            "children": [
              "IPY_MODEL_9b10b07ed8bc450fb8ac28083a3fbd84",
              "IPY_MODEL_50dcdb553c514fc39b5c50c09a02ba5a"
            ]
          }
        },
        "5f6eff3959e24446a01506dbc0eb4102": {
          "model_module": "@jupyter-widgets/base",
          "model_name": "LayoutModel",
          "state": {
            "_view_name": "LayoutView",
            "grid_template_rows": null,
            "right": null,
            "justify_content": null,
            "_view_module": "@jupyter-widgets/base",
            "overflow": null,
            "_model_module_version": "1.2.0",
            "_view_count": null,
            "flex_flow": null,
            "width": null,
            "min_width": null,
            "border": null,
            "align_items": null,
            "bottom": null,
            "_model_module": "@jupyter-widgets/base",
            "top": null,
            "grid_column": null,
            "overflow_y": null,
            "overflow_x": null,
            "grid_auto_flow": null,
            "grid_area": null,
            "grid_template_columns": null,
            "flex": null,
            "_model_name": "LayoutModel",
            "justify_items": null,
            "grid_row": null,
            "max_height": null,
            "align_content": null,
            "visibility": null,
            "align_self": null,
            "height": null,
            "min_height": null,
            "padding": null,
            "grid_auto_rows": null,
            "grid_gap": null,
            "max_width": null,
            "order": null,
            "_view_module_version": "1.2.0",
            "grid_template_areas": null,
            "object_position": null,
            "object_fit": null,
            "grid_auto_columns": null,
            "margin": null,
            "display": null,
            "left": null
          }
        },
        "9b10b07ed8bc450fb8ac28083a3fbd84": {
          "model_module": "@jupyter-widgets/controls",
          "model_name": "FloatProgressModel",
          "state": {
            "_view_name": "ProgressView",
            "style": "IPY_MODEL_399ccad68afe46e38ed56ecdcca6f3e8",
            "_dom_classes": [],
            "description": "",
            "_model_name": "FloatProgressModel",
            "bar_style": "success",
            "max": 170498071,
            "_view_module": "@jupyter-widgets/controls",
            "_model_module_version": "1.5.0",
            "value": 170498071,
            "_view_count": null,
            "_view_module_version": "1.5.0",
            "orientation": "horizontal",
            "min": 0,
            "description_tooltip": null,
            "_model_module": "@jupyter-widgets/controls",
            "layout": "IPY_MODEL_d7e66699729b41f2b00cbacf565828d1"
          }
        },
        "50dcdb553c514fc39b5c50c09a02ba5a": {
          "model_module": "@jupyter-widgets/controls",
          "model_name": "HTMLModel",
          "state": {
            "_view_name": "HTMLView",
            "style": "IPY_MODEL_a5df6608b8ce41ee96883c08191c7a34",
            "_dom_classes": [],
            "description": "",
            "_model_name": "HTMLModel",
            "placeholder": "​",
            "_view_module": "@jupyter-widgets/controls",
            "_model_module_version": "1.5.0",
            "value": " 170499072/? [00:14&lt;00:00, 11589588.83it/s]",
            "_view_count": null,
            "_view_module_version": "1.5.0",
            "description_tooltip": null,
            "_model_module": "@jupyter-widgets/controls",
            "layout": "IPY_MODEL_06940b4fc39141bbb6f9c403594a1e2d"
          }
        },
        "399ccad68afe46e38ed56ecdcca6f3e8": {
          "model_module": "@jupyter-widgets/controls",
          "model_name": "ProgressStyleModel",
          "state": {
            "_view_name": "StyleView",
            "_model_name": "ProgressStyleModel",
            "description_width": "initial",
            "_view_module": "@jupyter-widgets/base",
            "_model_module_version": "1.5.0",
            "_view_count": null,
            "_view_module_version": "1.2.0",
            "bar_color": null,
            "_model_module": "@jupyter-widgets/controls"
          }
        },
        "d7e66699729b41f2b00cbacf565828d1": {
          "model_module": "@jupyter-widgets/base",
          "model_name": "LayoutModel",
          "state": {
            "_view_name": "LayoutView",
            "grid_template_rows": null,
            "right": null,
            "justify_content": null,
            "_view_module": "@jupyter-widgets/base",
            "overflow": null,
            "_model_module_version": "1.2.0",
            "_view_count": null,
            "flex_flow": null,
            "width": null,
            "min_width": null,
            "border": null,
            "align_items": null,
            "bottom": null,
            "_model_module": "@jupyter-widgets/base",
            "top": null,
            "grid_column": null,
            "overflow_y": null,
            "overflow_x": null,
            "grid_auto_flow": null,
            "grid_area": null,
            "grid_template_columns": null,
            "flex": null,
            "_model_name": "LayoutModel",
            "justify_items": null,
            "grid_row": null,
            "max_height": null,
            "align_content": null,
            "visibility": null,
            "align_self": null,
            "height": null,
            "min_height": null,
            "padding": null,
            "grid_auto_rows": null,
            "grid_gap": null,
            "max_width": null,
            "order": null,
            "_view_module_version": "1.2.0",
            "grid_template_areas": null,
            "object_position": null,
            "object_fit": null,
            "grid_auto_columns": null,
            "margin": null,
            "display": null,
            "left": null
          }
        },
        "a5df6608b8ce41ee96883c08191c7a34": {
          "model_module": "@jupyter-widgets/controls",
          "model_name": "DescriptionStyleModel",
          "state": {
            "_view_name": "StyleView",
            "_model_name": "DescriptionStyleModel",
            "description_width": "",
            "_view_module": "@jupyter-widgets/base",
            "_model_module_version": "1.5.0",
            "_view_count": null,
            "_view_module_version": "1.2.0",
            "_model_module": "@jupyter-widgets/controls"
          }
        },
        "06940b4fc39141bbb6f9c403594a1e2d": {
          "model_module": "@jupyter-widgets/base",
          "model_name": "LayoutModel",
          "state": {
            "_view_name": "LayoutView",
            "grid_template_rows": null,
            "right": null,
            "justify_content": null,
            "_view_module": "@jupyter-widgets/base",
            "overflow": null,
            "_model_module_version": "1.2.0",
            "_view_count": null,
            "flex_flow": null,
            "width": null,
            "min_width": null,
            "border": null,
            "align_items": null,
            "bottom": null,
            "_model_module": "@jupyter-widgets/base",
            "top": null,
            "grid_column": null,
            "overflow_y": null,
            "overflow_x": null,
            "grid_auto_flow": null,
            "grid_area": null,
            "grid_template_columns": null,
            "flex": null,
            "_model_name": "LayoutModel",
            "justify_items": null,
            "grid_row": null,
            "max_height": null,
            "align_content": null,
            "visibility": null,
            "align_self": null,
            "height": null,
            "min_height": null,
            "padding": null,
            "grid_auto_rows": null,
            "grid_gap": null,
            "max_width": null,
            "order": null,
            "_view_module_version": "1.2.0",
            "grid_template_areas": null,
            "object_position": null,
            "object_fit": null,
            "grid_auto_columns": null,
            "margin": null,
            "display": null,
            "left": null
          }
        }
      }
    }
  },
  "cells": [
    {
      "cell_type": "markdown",
      "metadata": {
        "id": "view-in-github",
        "colab_type": "text"
      },
      "source": [
        "<a href=\"https://colab.research.google.com/github/DRA-chaos/Quantum-Convolutional-Neural-Network/blob/main/CIFAR_Hybrid_QNN_till_the_training_convergence.ipynb\" target=\"_parent\"><img src=\"https://colab.research.google.com/assets/colab-badge.svg\" alt=\"Open In Colab\"/></a>"
      ]
    },
    {
      "cell_type": "code",
      "metadata": {
        "colab": {
          "base_uri": "https://localhost:8080/"
        },
        "id": "9WjWDZUtmThn",
        "outputId": "81de7388-7991-43f2-d367-6457232157ed"
      },
      "source": [
        "!pip install qiskit"
      ],
      "execution_count": 1,
      "outputs": [
        {
          "output_type": "stream",
          "text": [
            "Collecting qiskit\n",
            "  Downloading https://files.pythonhosted.org/packages/79/19/44f002f6633c64b4ab88d274dd036857624e4ba8b701cd90a408103a3791/qiskit-0.27.0.tar.gz\n",
            "Collecting qiskit-terra==0.17.4\n",
            "\u001b[?25l  Downloading https://files.pythonhosted.org/packages/b3/0c/3c7a8dd451dae0907263e9de9e3e34909e15e18c88a589b44581972c8511/qiskit_terra-0.17.4-cp37-cp37m-manylinux2010_x86_64.whl (6.0MB)\n",
            "\u001b[K     |████████████████████████████████| 6.0MB 4.2MB/s \n",
            "\u001b[?25hCollecting qiskit-aer==0.8.2\n",
            "\u001b[?25l  Downloading https://files.pythonhosted.org/packages/c2/d2/6ff15c370b5465b32529b528bf3f4ce1e01f74498be16203aa1c04b67022/qiskit_aer-0.8.2-cp37-cp37m-manylinux2010_x86_64.whl (18.0MB)\n",
            "\u001b[K     |████████████████████████████████| 18.0MB 217kB/s \n",
            "\u001b[?25hCollecting qiskit-ibmq-provider==0.14.0\n",
            "\u001b[?25l  Downloading https://files.pythonhosted.org/packages/83/2f/6f3b53b633cc477dbe601728c8c3fc8674441cb9554d14517254a52d0c8a/qiskit_ibmq_provider-0.14.0-py3-none-any.whl (229kB)\n",
            "\u001b[K     |████████████████████████████████| 235kB 43.8MB/s \n",
            "\u001b[?25hCollecting qiskit-ignis==0.6.0\n",
            "\u001b[?25l  Downloading https://files.pythonhosted.org/packages/54/be/a13c828e457e09d979667a61bddbd8c7246aafa94e2501b6a9154429cbea/qiskit_ignis-0.6.0-py3-none-any.whl (207kB)\n",
            "\u001b[K     |████████████████████████████████| 215kB 53.1MB/s \n",
            "\u001b[?25hCollecting qiskit-aqua==0.9.2\n",
            "\u001b[?25l  Downloading https://files.pythonhosted.org/packages/81/00/1f71631bbc3fd24537d7ec1c52adfcf4fa0851c13fefc05d6babcb11a1f8/qiskit_aqua-0.9.2-py3-none-any.whl (2.1MB)\n",
            "\u001b[K     |████████████████████████████████| 2.1MB 38.4MB/s \n",
            "\u001b[?25hCollecting python-constraint>=1.4\n",
            "  Downloading https://files.pythonhosted.org/packages/37/8b/5f1bc2734ca611943e1d6733ee244238679f6410a10cd45ede55a61a8402/python-constraint-1.4.0.tar.bz2\n",
            "Requirement already satisfied: numpy>=1.17 in /usr/local/lib/python3.7/dist-packages (from qiskit-terra==0.17.4->qiskit) (1.19.5)\n",
            "Requirement already satisfied: dill>=0.3 in /usr/local/lib/python3.7/dist-packages (from qiskit-terra==0.17.4->qiskit) (0.3.3)\n",
            "Requirement already satisfied: sympy>=1.3 in /usr/local/lib/python3.7/dist-packages (from qiskit-terra==0.17.4->qiskit) (1.7.1)\n",
            "Collecting retworkx>=0.8.0\n",
            "\u001b[?25l  Downloading https://files.pythonhosted.org/packages/9e/cd/70d436f170aa1ead2ac9e4c19c8838633355d48b530f09455eab0af2f98e/retworkx-0.9.0-cp37-cp37m-manylinux_2_5_x86_64.manylinux1_x86_64.manylinux_2_12_x86_64.manylinux2010_x86_64.whl (1.4MB)\n",
            "\u001b[K     |████████████████████████████████| 1.5MB 27.6MB/s \n",
            "\u001b[?25hRequirement already satisfied: jsonschema>=2.6 in /usr/local/lib/python3.7/dist-packages (from qiskit-terra==0.17.4->qiskit) (2.6.0)\n",
            "Collecting fastjsonschema>=2.10\n",
            "  Downloading https://files.pythonhosted.org/packages/d1/fb/ea090e917b18320f79be31d754bbe496b715175e865603cfce1eaed2e774/fastjsonschema-2.15.1-py3-none-any.whl\n",
            "Requirement already satisfied: scipy>=1.4 in /usr/local/lib/python3.7/dist-packages (from qiskit-terra==0.17.4->qiskit) (1.4.1)\n",
            "Requirement already satisfied: python-dateutil>=2.8.0 in /usr/local/lib/python3.7/dist-packages (from qiskit-terra==0.17.4->qiskit) (2.8.1)\n",
            "Requirement already satisfied: psutil>=5 in /usr/local/lib/python3.7/dist-packages (from qiskit-terra==0.17.4->qiskit) (5.4.8)\n",
            "Collecting ply>=3.10\n",
            "\u001b[?25l  Downloading https://files.pythonhosted.org/packages/a3/58/35da89ee790598a0700ea49b2a66594140f44dec458c07e8e3d4979137fc/ply-3.11-py2.py3-none-any.whl (49kB)\n",
            "\u001b[K     |████████████████████████████████| 51kB 5.8MB/s \n",
            "\u001b[?25hCollecting pybind11>=2.6\n",
            "\u001b[?25l  Downloading https://files.pythonhosted.org/packages/8d/43/7339dbabbc2793718d59703aace4166f53c29ee1c202f6ff5bf8a26c4d91/pybind11-2.6.2-py2.py3-none-any.whl (191kB)\n",
            "\u001b[K     |████████████████████████████████| 194kB 44.0MB/s \n",
            "\u001b[?25hCollecting requests-ntlm>=1.1.0\n",
            "  Downloading https://files.pythonhosted.org/packages/03/4b/8b9a1afde8072c4d5710d9fa91433d504325821b038e00237dc8d6d833dc/requests_ntlm-1.1.0-py2.py3-none-any.whl\n",
            "Collecting websocket-client>=1.0.1\n",
            "\u001b[?25l  Downloading https://files.pythonhosted.org/packages/ca/5f/3c211d168b2e9f9342cfb53bcfc26aab0eac63b998015e7af7bcae66119d/websocket_client-1.1.0-py2.py3-none-any.whl (68kB)\n",
            "\u001b[K     |████████████████████████████████| 71kB 7.6MB/s \n",
            "\u001b[?25hRequirement already satisfied: urllib3>=1.21.1 in /usr/local/lib/python3.7/dist-packages (from qiskit-ibmq-provider==0.14.0->qiskit) (1.24.3)\n",
            "Requirement already satisfied: requests>=2.19 in /usr/local/lib/python3.7/dist-packages (from qiskit-ibmq-provider==0.14.0->qiskit) (2.23.0)\n",
            "Requirement already satisfied: setuptools>=40.1.0 in /usr/local/lib/python3.7/dist-packages (from qiskit-ignis==0.6.0->qiskit) (57.0.0)\n",
            "Collecting yfinance\n",
            "  Downloading https://files.pythonhosted.org/packages/a7/ee/315752b9ef281ba83c62aa7ec2e2074f85223da6e7e74efb4d3e11c0f510/yfinance-0.1.59.tar.gz\n",
            "Requirement already satisfied: scikit-learn>=0.20.0 in /usr/local/lib/python3.7/dist-packages (from qiskit-aqua==0.9.2->qiskit) (0.22.2.post1)\n",
            "Requirement already satisfied: h5py in /usr/local/lib/python3.7/dist-packages (from qiskit-aqua==0.9.2->qiskit) (3.1.0)\n",
            "Requirement already satisfied: fastdtw<=0.3.4 in /usr/local/lib/python3.7/dist-packages (from qiskit-aqua==0.9.2->qiskit) (0.3.4)\n",
            "Collecting docplex<=2.20.204; sys_platform != \"darwin\"\n",
            "\u001b[?25l  Downloading https://files.pythonhosted.org/packages/87/99/6f7c219b39fd58c84688ad0713eb932bfcf6be81fc74519e43ea9c915b56/docplex-2.20.204.tar.gz (611kB)\n",
            "\u001b[K     |████████████████████████████████| 614kB 29.3MB/s \n",
            "\u001b[?25hCollecting quandl\n",
            "  Downloading https://files.pythonhosted.org/packages/8b/2b/feefb36015beaecc5c0f9f2533e815b409621d9fa7b50b2aac621796f828/Quandl-3.6.1-py2.py3-none-any.whl\n",
            "Requirement already satisfied: pandas in /usr/local/lib/python3.7/dist-packages (from qiskit-aqua==0.9.2->qiskit) (1.1.5)\n",
            "Collecting dlx<=1.0.4\n",
            "  Downloading https://files.pythonhosted.org/packages/54/c0/b8fb5bb727e983b6f5251433ef941b48f38c65bb0bd6ec509e9185bcd406/dlx-1.0.4.tar.gz\n",
            "Requirement already satisfied: mpmath>=0.19 in /usr/local/lib/python3.7/dist-packages (from sympy>=1.3->qiskit-terra==0.17.4->qiskit) (1.2.1)\n",
            "Requirement already satisfied: six>=1.5 in /usr/local/lib/python3.7/dist-packages (from python-dateutil>=2.8.0->qiskit-terra==0.17.4->qiskit) (1.15.0)\n",
            "Collecting cryptography>=1.3\n",
            "\u001b[?25l  Downloading https://files.pythonhosted.org/packages/b2/26/7af637e6a7e87258b963f1731c5982fb31cd507f0d90d91836e446955d02/cryptography-3.4.7-cp36-abi3-manylinux2014_x86_64.whl (3.2MB)\n",
            "\u001b[K     |████████████████████████████████| 3.2MB 36.3MB/s \n",
            "\u001b[?25hCollecting ntlm-auth>=1.0.2\n",
            "  Downloading https://files.pythonhosted.org/packages/ff/84/97c550164b54942b0e908c31ef09d9469f3ba4cd7332a671e2125732f63b/ntlm_auth-1.5.0-py2.py3-none-any.whl\n",
            "Requirement already satisfied: certifi>=2017.4.17 in /usr/local/lib/python3.7/dist-packages (from requests>=2.19->qiskit-ibmq-provider==0.14.0->qiskit) (2021.5.30)\n",
            "Requirement already satisfied: chardet<4,>=3.0.2 in /usr/local/lib/python3.7/dist-packages (from requests>=2.19->qiskit-ibmq-provider==0.14.0->qiskit) (3.0.4)\n",
            "Requirement already satisfied: idna<3,>=2.5 in /usr/local/lib/python3.7/dist-packages (from requests>=2.19->qiskit-ibmq-provider==0.14.0->qiskit) (2.10)\n",
            "Requirement already satisfied: multitasking>=0.0.7 in /usr/local/lib/python3.7/dist-packages (from yfinance->qiskit-aqua==0.9.2->qiskit) (0.0.9)\n",
            "Collecting lxml>=4.5.1\n",
            "\u001b[?25l  Downloading https://files.pythonhosted.org/packages/30/c0/d0526314971fc661b083ab135747dc68446a3022686da8c16d25fcf6ef07/lxml-4.6.3-cp37-cp37m-manylinux2014_x86_64.whl (6.3MB)\n",
            "\u001b[K     |████████████████████████████████| 6.3MB 25.5MB/s \n",
            "\u001b[?25hRequirement already satisfied: joblib>=0.11 in /usr/local/lib/python3.7/dist-packages (from scikit-learn>=0.20.0->qiskit-aqua==0.9.2->qiskit) (1.0.1)\n",
            "Requirement already satisfied: cached-property; python_version < \"3.8\" in /usr/local/lib/python3.7/dist-packages (from h5py->qiskit-aqua==0.9.2->qiskit) (1.5.2)\n",
            "Collecting inflection>=0.3.1\n",
            "  Downloading https://files.pythonhosted.org/packages/59/91/aa6bde563e0085a02a435aa99b49ef75b0a4b062635e606dab23ce18d720/inflection-0.5.1-py2.py3-none-any.whl\n",
            "Requirement already satisfied: more-itertools in /usr/local/lib/python3.7/dist-packages (from quandl->qiskit-aqua==0.9.2->qiskit) (8.8.0)\n",
            "Requirement already satisfied: pytz>=2017.2 in /usr/local/lib/python3.7/dist-packages (from pandas->qiskit-aqua==0.9.2->qiskit) (2018.9)\n",
            "Requirement already satisfied: cffi>=1.12 in /usr/local/lib/python3.7/dist-packages (from cryptography>=1.3->requests-ntlm>=1.1.0->qiskit-ibmq-provider==0.14.0->qiskit) (1.14.5)\n",
            "Requirement already satisfied: pycparser in /usr/local/lib/python3.7/dist-packages (from cffi>=1.12->cryptography>=1.3->requests-ntlm>=1.1.0->qiskit-ibmq-provider==0.14.0->qiskit) (2.20)\n",
            "Building wheels for collected packages: qiskit, python-constraint, yfinance, docplex, dlx\n",
            "  Building wheel for qiskit (setup.py) ... \u001b[?25l\u001b[?25hdone\n",
            "  Created wheel for qiskit: filename=qiskit-0.27.0-cp37-none-any.whl size=10505 sha256=c52635b008cc02e1201774a206a5a3725aa71a08569261d91f5e352ace2122ac\n",
            "  Stored in directory: /root/.cache/pip/wheels/c6/54/d9/f0f711dc20aff31947456951374132d0e23ec527da8c15295d\n",
            "  Building wheel for python-constraint (setup.py) ... \u001b[?25l\u001b[?25hdone\n",
            "  Created wheel for python-constraint: filename=python_constraint-1.4.0-py2.py3-none-any.whl size=24079 sha256=76945b37c67705dc6852d84f7fd6d4e86ba6b506d8064f70bae7a8b94ede888c\n",
            "  Stored in directory: /root/.cache/pip/wheels/34/31/15/7b070b25d0a549d20ce2e9fe6d727471c2c61ef904720fd40c\n",
            "  Building wheel for yfinance (setup.py) ... \u001b[?25l\u001b[?25hdone\n",
            "  Created wheel for yfinance: filename=yfinance-0.1.59-py2.py3-none-any.whl size=23455 sha256=1e0d3f391ab22cc95d3a5ad337760cccdb598388ae37f65c5f175d615f9dd469\n",
            "  Stored in directory: /root/.cache/pip/wheels/f8/2a/0f/4b5a86e1d52e451757eb6bc17fd899629f0925c777741b6d04\n",
            "  Building wheel for docplex (setup.py) ... \u001b[?25l\u001b[?25hdone\n",
            "  Created wheel for docplex: filename=docplex-2.20.204-cp37-none-any.whl size=675396 sha256=db8f5b9b660c5e386d7458d21ac824f22280203d7b98d7e5a8cfc16390e84be7\n",
            "  Stored in directory: /root/.cache/pip/wheels/ae/2c/e2/a099ebb6fda8adeba9c5fc2e25659d195ad2f5c6cc5fb75fd4\n",
            "  Building wheel for dlx (setup.py) ... \u001b[?25l\u001b[?25hdone\n",
            "  Created wheel for dlx: filename=dlx-1.0.4-cp37-none-any.whl size=5720 sha256=bdd9f6e2677c43e69b877cb637b79218a569ade4286b6b208c669f6ee9c40883\n",
            "  Stored in directory: /root/.cache/pip/wheels/bb/ba/15/fdd0deb104df3254912998150ba9245668db06b00af5912d1a\n",
            "Successfully built qiskit python-constraint yfinance docplex dlx\n",
            "Installing collected packages: python-constraint, retworkx, fastjsonschema, ply, qiskit-terra, pybind11, qiskit-aer, cryptography, ntlm-auth, requests-ntlm, websocket-client, qiskit-ibmq-provider, qiskit-ignis, lxml, yfinance, docplex, inflection, quandl, dlx, qiskit-aqua, qiskit\n",
            "  Found existing installation: lxml 4.2.6\n",
            "    Uninstalling lxml-4.2.6:\n",
            "      Successfully uninstalled lxml-4.2.6\n",
            "Successfully installed cryptography-3.4.7 dlx-1.0.4 docplex-2.20.204 fastjsonschema-2.15.1 inflection-0.5.1 lxml-4.6.3 ntlm-auth-1.5.0 ply-3.11 pybind11-2.6.2 python-constraint-1.4.0 qiskit-0.27.0 qiskit-aer-0.8.2 qiskit-aqua-0.9.2 qiskit-ibmq-provider-0.14.0 qiskit-ignis-0.6.0 qiskit-terra-0.17.4 quandl-3.6.1 requests-ntlm-1.1.0 retworkx-0.9.0 websocket-client-1.1.0 yfinance-0.1.59\n"
          ],
          "name": "stdout"
        }
      ]
    },
    {
      "cell_type": "code",
      "metadata": {
        "id": "91GPJpHnpW9_"
      },
      "source": [
        "import numpy as np\n",
        "import matplotlib.pyplot as plt\n",
        "\n",
        "import torch\n",
        "from torch.autograd import Function\n",
        "from torchvision import datasets, transforms\n",
        "import torch.optim as optim\n",
        "import torch.nn as nn\n",
        "import torch.nn.functional as F\n",
        "\n",
        "import qiskit\n",
        "from qiskit import transpile, assemble\n",
        "from qiskit.visualization import *"
      ],
      "execution_count": 2,
      "outputs": []
    },
    {
      "cell_type": "markdown",
      "metadata": {
        "id": "16n-mC4GzOPu"
      },
      "source": [
        "To connect PyTorch to Qiskit, we need to define a function that converts tensors so obtained from PyTorch to a list so that the list could be fed into the Quantum Circuit in Qiskit."
      ]
    },
    {
      "cell_type": "code",
      "metadata": {
        "id": "LlQ-IkgXo2I7"
      },
      "source": [
        "def to_numbers(tensor_list):\n",
        "    num_list = []\n",
        "    for tensor in tensor_list:\n",
        "        num_list += [tensor.item()]\n",
        "    return num_list"
      ],
      "execution_count": 3,
      "outputs": []
    },
    {
      "cell_type": "code",
      "metadata": {
        "id": "0ZqC396wo7Ej"
      },
      "source": [
        "\n",
        "import numpy as np\n",
        "import torch\n",
        "from torch.autograd import Function\n",
        "import torch.optim as optim\n",
        "import torch.nn as nn\n",
        "import torch.nn.functional as F\n",
        "import torchvision\n",
        "from torchvision import datasets, transforms\n",
        "from qiskit import QuantumRegister, QuantumCircuit, ClassicalRegister, execute\n",
        "from qiskit.circuit import Parameter\n",
        "from qiskit import Aer\n",
        "from tqdm import tqdm\n",
        "from matplotlib import pyplot as plt\n",
        "%matplotlib inline"
      ],
      "execution_count": 4,
      "outputs": []
    },
    {
      "cell_type": "markdown",
      "metadata": {
        "id": "jOOnAYGVz64U"
      },
      "source": [
        "We use a 1 qubit circuit with 1 trainable parameter to create a 'Quantum Class'"
      ]
    },
    {
      "cell_type": "code",
      "metadata": {
        "id": "L9DZ_PEBMRdS"
      },
      "source": [
        "class QuantumCircuit:\n",
        "    \"\"\" \n",
        "    This class provides a simple interface for interaction \n",
        "    with the quantum circuit \n",
        "    \"\"\"\n",
        "    \n",
        "    def __init__(self, n_qubits, backend, shots):\n",
        "        # --- Circuit definition ---\n",
        "        self._circuit = qiskit.QuantumCircuit(n_qubits)\n",
        "        \n",
        "        all_qubits = [i for i in range(n_qubits)]\n",
        "        self.theta = qiskit.circuit.Parameter('theta')\n",
        "        \n",
        "        self._circuit.h(all_qubits)\n",
        "        self._circuit.barrier()\n",
        "        self._circuit.ry(self.theta, all_qubits)\n",
        "        \n",
        "        self._circuit.measure_all()\n",
        "        # ---------------------------\n",
        "\n",
        "        self.backend = backend\n",
        "        self.shots = shots\n",
        "    \n",
        "    def run(self, thetas):\n",
        "        t_qc = transpile(self._circuit,\n",
        "                         self.backend)\n",
        "        qobj = assemble(t_qc,\n",
        "                        shots=self.shots,\n",
        "                        parameter_binds = [{self.theta: theta} for theta in thetas])\n",
        "        job = self.backend.run(qobj)\n",
        "        result = job.result().get_counts()\n",
        "        \n",
        "        counts = np.array(list(result.values()))\n",
        "        states = np.array(list(result.keys())).astype(float)\n",
        "        \n",
        "        # Compute probabilities for each state\n",
        "        probabilities = counts / self.shots\n",
        "        # Get state expectation\n",
        "        expectation = np.sum(states * probabilities)\n",
        "        \n",
        "        return np.array([expectation])"
      ],
      "execution_count": 5,
      "outputs": []
    },
    {
      "cell_type": "markdown",
      "metadata": {
        "id": "UIkWGi24z6El"
      },
      "source": [
        "To measure the output (in the z basis), the expectation must be calculated, so let's test the implementation below"
      ]
    },
    {
      "cell_type": "code",
      "metadata": {
        "colab": {
          "base_uri": "https://localhost:8080/",
          "height": 110
        },
        "id": "-dhwKUDzMVfE",
        "outputId": "f75a7a89-ddab-4a82-954f-52b8043cffdf"
      },
      "source": [
        "simulator = qiskit.Aer.get_backend('qasm_simulator')\n",
        "\n",
        "circuit = QuantumCircuit(1, simulator, 100)\n",
        "print('Expected value for rotation pi {}'.format(circuit.run([np.pi])[0]))\n",
        "circuit._circuit.draw()"
      ],
      "execution_count": 6,
      "outputs": [
        {
          "output_type": "stream",
          "text": [
            "Expected value for rotation pi 0.56\n"
          ],
          "name": "stdout"
        },
        {
          "output_type": "execute_result",
          "data": {
            "text/html": [
              "<pre style=\"word-wrap: normal;white-space: pre;background: #fff0;line-height: 1.1;font-family: &quot;Courier New&quot;,Courier,monospace\">        ┌───┐ ░ ┌───────────┐ ░ ┌─┐\n",
              "   q_0: ┤ H ├─░─┤ RY(theta) ├─░─┤M├\n",
              "        └───┘ ░ └───────────┘ ░ └╥┘\n",
              "meas: 1/═════════════════════════╩═\n",
              "                                 0 </pre>"
            ],
            "text/plain": [
              "        ┌───┐ ░ ┌───────────┐ ░ ┌─┐\n",
              "   q_0: ┤ H ├─░─┤ RY(theta) ├─░─┤M├\n",
              "        └───┘ ░ └───────────┘ ░ └╥┘\n",
              "meas: 1/═════════════════════════╩═\n",
              "                                 0 "
            ]
          },
          "metadata": {
            "tags": []
          },
          "execution_count": 6
        }
      ]
    },
    {
      "cell_type": "markdown",
      "metadata": {
        "id": "Xp2b_2xyMi2l"
      },
      "source": [
        "**Creating the quantum classical hybrid class using Pytorch**\n",
        "\n",
        "The functions needed for backpropagation can be created by PyTorch (using the parameter shift rule). The forward and backward passes contain elements from the Qiskit class"
      ]
    },
    {
      "cell_type": "code",
      "metadata": {
        "id": "y-MIKaAcMiLF"
      },
      "source": [
        "class HybridFunction(Function):\n",
        "    \"\"\" Hybrid quantum - classical function definition \"\"\"\n",
        "    \n",
        "    @staticmethod\n",
        "    def forward(ctx, input, quantum_circuit, shift):\n",
        "        \"\"\" Forward pass computation \"\"\"\n",
        "        ctx.shift = shift\n",
        "        ctx.quantum_circuit = quantum_circuit\n",
        "\n",
        "        expectation_z = ctx.quantum_circuit.run(input[0].tolist())\n",
        "        result = torch.tensor([expectation_z])\n",
        "        ctx.save_for_backward(input, result)\n",
        "\n",
        "        return result\n",
        "        \n",
        "    @staticmethod\n",
        "    def backward(ctx, grad_output):\n",
        "        \"\"\" Backward pass computation \"\"\"\n",
        "        input, expectation_z = ctx.saved_tensors\n",
        "        input_list = np.array(input.tolist())\n",
        "        \n",
        "        shift_right = input_list + np.ones(input_list.shape) * ctx.shift\n",
        "        shift_left = input_list - np.ones(input_list.shape) * ctx.shift\n",
        "        \n",
        "        gradients = []\n",
        "        for i in range(len(input_list)):\n",
        "            expectation_right = ctx.quantum_circuit.run(shift_right[i])\n",
        "            expectation_left  = ctx.quantum_circuit.run(shift_left[i])\n",
        "            \n",
        "            gradient = torch.tensor([expectation_right]) - torch.tensor([expectation_left])\n",
        "            gradients.append(gradient)\n",
        "        gradients = np.array([gradients]).T\n",
        "        return torch.tensor([gradients]).float() * grad_output.float(), None, None\n",
        "\n",
        "class Hybrid(nn.Module):\n",
        "    \"\"\" Hybrid quantum - classical layer definition \"\"\"\n",
        "    \n",
        "    def __init__(self, backend, shots, shift):\n",
        "        super(Hybrid, self).__init__()\n",
        "        self.quantum_circuit = QuantumCircuit(1, backend, shots)\n",
        "        self.shift = shift\n",
        "        \n",
        "    def forward(self, input):\n",
        "        return HybridFunction.apply(input, self.quantum_circuit, self.shift)"
      ],
      "execution_count": 7,
      "outputs": []
    },
    {
      "cell_type": "markdown",
      "metadata": {
        "id": "vP8UlcERp_Pt"
      },
      "source": [
        "## **Data loading and pre-processing**\n",
        "\n",
        "Here , we create a simple hybrid neural network to classify images of two types ; Aeroplanes and Automobiles (labelled 0 and 1) from the CIFAR-10 dataset."
      ]
    },
    {
      "cell_type": "markdown",
      "metadata": {
        "id": "G-pJk3Ym8vsp"
      },
      "source": [
        "Let's first load the training data"
      ]
    },
    {
      "cell_type": "code",
      "metadata": {
        "colab": {
          "base_uri": "https://localhost:8080/",
          "height": 99,
          "referenced_widgets": [
            "dee60a8691e84f8f883a1817db5327af",
            "5f6eff3959e24446a01506dbc0eb4102",
            "9b10b07ed8bc450fb8ac28083a3fbd84",
            "50dcdb553c514fc39b5c50c09a02ba5a",
            "399ccad68afe46e38ed56ecdcca6f3e8",
            "d7e66699729b41f2b00cbacf565828d1",
            "a5df6608b8ce41ee96883c08191c7a34",
            "06940b4fc39141bbb6f9c403594a1e2d"
          ]
        },
        "id": "KOCP-PVyqD71",
        "outputId": "9bcd7f1a-3f32-4ca0-ed26-8695d99527b0"
      },
      "source": [
        "import torchvision\n",
        "transform = torchvision.transforms.Compose([torchvision.transforms.ToTensor()]) # transform images to tensors/vectors\n",
        "cifar_trainset = datasets.CIFAR10(root='./data1', train=True, download=True, transform=transform)\n",
        "\n",
        "labels = cifar_trainset.targets # get the labels for the data\n",
        "labels = np.array(labels)\n",
        "\n",
        "idx1 = np.where(labels == 0) # filter on aeroplanes\n",
        "idx2 = np.where(labels == 1) # filter on automobiles\n",
        "\n",
        "# Specify number of datapoints per class (i.e. there will be n pictures of automobiles and n pictures of aeroplanes in the training set)\n",
        "n=100\n",
        "\n",
        "# concatenate the data indices\n",
        "idx = np.concatenate((idx1[0][0:n],idx2[0][0:n])) \n",
        "\n",
        "# create the filtered dataset for our training set\n",
        "cifar_trainset.targets = labels[idx] \n",
        "cifar_trainset.data = cifar_trainset.data[idx]\n",
        "\n",
        "train_loader = torch.utils.data.DataLoader(cifar_trainset, batch_size=1, shuffle=True)"
      ],
      "execution_count": 8,
      "outputs": [
        {
          "output_type": "stream",
          "text": [
            "Downloading https://www.cs.toronto.edu/~kriz/cifar-10-python.tar.gz to ./data1/cifar-10-python.tar.gz\n"
          ],
          "name": "stdout"
        },
        {
          "output_type": "display_data",
          "data": {
            "application/vnd.jupyter.widget-view+json": {
              "model_id": "dee60a8691e84f8f883a1817db5327af",
              "version_minor": 0,
              "version_major": 2
            },
            "text/plain": [
              "HBox(children=(FloatProgress(value=0.0, max=170498071.0), HTML(value='')))"
            ]
          },
          "metadata": {
            "tags": []
          }
        },
        {
          "output_type": "stream",
          "text": [
            "\n",
            "Extracting ./data1/cifar-10-python.tar.gz to ./data1\n"
          ],
          "name": "stdout"
        }
      ]
    },
    {
      "cell_type": "markdown",
      "metadata": {
        "id": "ot1Mk5dU9etZ"
      },
      "source": [
        "We now filter for pictures containing Aeroplanes and Automobiles (labelled 0 and 1 respectively)"
      ]
    },
    {
      "cell_type": "code",
      "metadata": {
        "colab": {
          "base_uri": "https://localhost:8080/",
          "height": 110
        },
        "id": "M67UWxgDqu96",
        "outputId": "6a66c91d-4aea-49f2-a00e-0f4840c35709"
      },
      "source": [
        "import numpy as np  \n",
        "import matplotlib.pyplot as plt\n",
        "\n",
        "n_samples_show = 8\n",
        "\n",
        "data_iter = iter(train_loader)\n",
        "fig, axes = plt.subplots(nrows=1, ncols=n_samples_show, figsize=(10, 2))\n",
        "\n",
        "while n_samples_show > 0:\n",
        "    images, targets = data_iter.__next__()\n",
        "    images=images.squeeze()\n",
        "    #axes[n_samples_show - 1].imshow( tf.shape( tf.squeeze(images[0]) ),cmap='gray' )\n",
        "    #plt.imshow((tf.squeeze(images[0])))\n",
        "      \n",
        "    #plt.imshow( tf.shape( tf.squeeze(x_train) ) )\n",
        "    #axes[n_samples_show - 1].imshow(images[0].numpy().squeeze(), cmap='gray')\n",
        "    axes[n_samples_show - 1].imshow(images[0].numpy(), cmap='gray')\n",
        "    axes[n_samples_show - 1].set_xticks([])\n",
        "    axes[n_samples_show - 1].set_yticks([])\n",
        "    axes[n_samples_show - 1].set_title(\"Labeled: {}\".format(targets.item()))\n",
        "    \n",
        "    n_samples_show -= 1"
      ],
      "execution_count": 9,
      "outputs": [
        {
          "output_type": "display_data",
          "data": {
            "image/png": "[encoded data removed]",
            "text/plain": [
              "<Figure size 720x144 with 8 Axes>"
            ]
          },
          "metadata": {
            "tags": []
          }
        }
      ]
    },
    {
      "cell_type": "markdown",
      "metadata": {
        "id": "UqI3vuefYIYa"
      },
      "source": [
        "Now let's look at the testing data"
      ]
    },
    {
      "cell_type": "code",
      "metadata": {
        "colab": {
          "base_uri": "https://localhost:8080/"
        },
        "id": "GGbi3LCbu48T",
        "outputId": "3f7f8151-60d0-4906-e80a-b12724fcaae6"
      },
      "source": [
        "#Testing data\n",
        "\n",
        "transform = torchvision.transforms.Compose([torchvision.transforms.ToTensor()]) # transform images to tensors/vectors\n",
        "cifar_testset = datasets.CIFAR10(root='./data1', train=False, download=True, transform=transform)\n",
        "\n",
        "labels1 = cifar_testset.targets # get the labels for the data\n",
        "labels1 = np.array(labels1)\n",
        "\n",
        "idx1_ae = np.where(labels1 == 0) # filter on aeroplanes\n",
        "idx2_au = np.where(labels1 == 1) # filter on automobiles\n",
        "\n",
        "# Specify number of datapoints per class (i.e. there will be n pictures of automobiles and n pictures of aeroplanes in the training set)\n",
        "\n",
        "n=50\n",
        "\n",
        "# concatenate the data indices\n",
        "idxa = np.concatenate((idx1_ae[0][0:n],idx2_au[0][0:n])) \n",
        "\n",
        "# create the filtered dataset for our training set\n",
        "cifar_testset.targets = labels[idxa] \n",
        "cifar_testset.data = cifar_testset.data[idxa]\n",
        "\n",
        "test_loader = torch.utils.data.DataLoader(cifar_testset, batch_size=1, shuffle=True)"
      ],
      "execution_count": 10,
      "outputs": [
        {
          "output_type": "stream",
          "text": [
            "Files already downloaded and verified\n"
          ],
          "name": "stdout"
        }
      ]
    },
    {
      "cell_type": "code",
      "metadata": {
        "id": "s_8Jf6tQAD1y"
      },
      "source": [
        ""
      ],
      "execution_count": 10,
      "outputs": []
    },
    {
      "cell_type": "markdown",
      "metadata": {
        "id": "n6G4_pDuAHHT"
      },
      "source": [
        "**Creating the hybrid Neural Network**\n",
        "\n",
        "We create a typical Convolutional Neural Network with two fully-connected layers at the end. The value of the last neuron of the fully-connected layer is fed as the parameter  \n",
        "θ\n",
        "  into our quantum circuit."
      ]
    },
    {
      "cell_type": "code",
      "metadata": {
        "id": "_xmz9iOuvfAh"
      },
      "source": [
        "class Net(nn.Module):\n",
        "    def __init__(self):\n",
        "        super(Net, self).__init__()\n",
        "        self.conv1 = nn.Conv2d(3, 10, kernel_size=5)\n",
        "        self.conv2 = nn.Conv2d(10, 20, kernel_size=5)\n",
        "        self.dropout = nn.Dropout2d()\n",
        "        self.fc1 = nn.Linear(500, 500)\n",
        "        self.fc2 = nn.Linear(500, 1)\n",
        "        self.hybrid = Hybrid(qiskit.Aer.get_backend('qasm_simulator'), 100, np.pi / 2)\n",
        "\n",
        "    def forward(self, x):\n",
        "        x = F.relu(self.conv1(x))\n",
        "        x = F.max_pool2d(x, 2)\n",
        "        x = F.relu(self.conv2(x))\n",
        "        x = F.max_pool2d(x, 2)\n",
        "        x = self.dropout(x)\n",
        "        x = x.view(1, -1)\n",
        "        x = F.relu(self.fc1(x))\n",
        "        x = self.fc2(x)\n",
        "        x = self.hybrid(x)\n",
        "        return torch.cat((x, 1 - x), -1)"
      ],
      "execution_count": 11,
      "outputs": []
    },
    {
      "cell_type": "code",
      "metadata": {
        "colab": {
          "base_uri": "https://localhost:8080/",
          "height": 128
        },
        "id": "RZH95APjvtTQ",
        "outputId": "fc7dc55f-eada-40f3-8760-a37fb64a1c18"
      },
      "source": [
        "#qc = TorchCircuit.apply \n",
        "Ignore this cell\n",
        "class Net(nn.Module):\n",
        "    def __init__(self):\n",
        "        super(Net, self).__init__()\n",
        "        self.conv1 = nn.Conv2d(3, 10, kernel_size=5)\n",
        "        self.conv2 = nn.Conv2d(10, 20, kernel_size=5)\n",
        "        self.conv2_drop = nn.Dropout2d()\n",
        "        self.h1 = nn.Linear(500, 500)\n",
        "        self.h2 = nn.Linear(500, 1)\n",
        "\n",
        "    def forward(self,x):\n",
        "        x = F.relu(F.max_pool2d(self.conv1(x), 2))\n",
        "        x = F.relu(F.max_pool2d(self.conv2_drop(self.conv2(x)), 2))\n",
        "        x = x.view(-1, 500)\n",
        "        x = F.relu(self.h1(x))\n",
        "        x = F.dropout(x, training=self.training)\n",
        "        x = self.h2(x)\n",
        "        x = qc(x)\n",
        "        x = (x+1)/2  # Normalise the inputs to 1 or 0\n",
        "        x = torch.cat((x, 1-x), -1)\n",
        "        return x"
      ],
      "execution_count": 12,
      "outputs": [
        {
          "output_type": "error",
          "ename": "SyntaxError",
          "evalue": "ignored",
          "traceback": [
            "\u001b[0;36m  File \u001b[0;32m\"<ipython-input-12-c0028aefd4a5>\"\u001b[0;36m, line \u001b[0;32m2\u001b[0m\n\u001b[0;31m    Ignore this cell\u001b[0m\n\u001b[0m              ^\u001b[0m\n\u001b[0;31mSyntaxError\u001b[0m\u001b[0;31m:\u001b[0m invalid syntax\n"
          ]
        }
      ]
    },
    {
      "cell_type": "markdown",
      "metadata": {
        "id": "NOXHpD1CYiOB"
      },
      "source": [
        "**Now let's train the network**\n",
        "\n",
        "We can specify any PyTorch optimiser (here we use the Adam optimiser), learning rate and cost/loss function in order to train over multiple epochs. In this instance, we use  a learning rate of 0.001 and the negative log-likelihood loss function.\n",
        "We then plot the training graph. We do this for 5, 10, 20, 30 epochs"
      ]
    },
    {
      "cell_type": "code",
      "metadata": {
        "colab": {
          "base_uri": "https://localhost:8080/",
          "height": 396
        },
        "id": "MDuIGqSowAdw",
        "outputId": "f65604cb-3f8e-4b84-bdc3-c70a624203f7"
      },
      "source": [
        "model = Net()\n",
        "optimizer = optim.Adam(model.parameters(), lr=0.001)\n",
        "loss_func = nn.NLLLoss()\n",
        "\n",
        "epochs = 5\n",
        "loss_list = []\n",
        "\n",
        "model.train()\n",
        "for epoch in range(epochs):\n",
        "    total_loss = []\n",
        "    for batch_idx, (data, target) in enumerate(train_loader):\n",
        "        optimizer.zero_grad()\n",
        "        # Forward pass\n",
        "        output = model(data)\n",
        "        # Calculating loss\n",
        "        loss = loss_func(output, target)\n",
        "        # Backward pass\n",
        "        loss.backward()\n",
        "        # Optimize the weights\n",
        "        optimizer.step()\n",
        "        \n",
        "        total_loss.append(loss.item())\n",
        "    loss_list.append(sum(total_loss)/len(total_loss))\n",
        "    print('Training [{:.0f}%]\\tLoss: {:.4f}'.format(100. * (epoch + 1) / epochs, loss_list[-1]))\n",
        "\n",
        "#Now plotting the training graph\n",
        "plt.plot(loss_list)\n",
        "plt.title('Hybrid NN Training Convergence')\n",
        "plt.xlabel('Training Iterations')\n",
        "plt.ylabel('Neg Log Likelihood Loss')\n"
      ],
      "execution_count": 13,
      "outputs": [
        {
          "output_type": "stream",
          "text": [
            "Training [20%]\tLoss: -0.4872\n",
            "Training [40%]\tLoss: -0.4643\n",
            "Training [60%]\tLoss: -0.5186\n",
            "Training [80%]\tLoss: -0.4919\n",
            "Training [100%]\tLoss: -0.5368\n"
          ],
          "name": "stdout"
        },
        {
          "output_type": "execute_result",
          "data": {
            "text/plain": [
              "Text(0, 0.5, 'Neg Log Likelihood Loss')"
            ]
          },
          "metadata": {
            "tags": []
          },
          "execution_count": 13
        },
        {
          "output_type": "display_data",
          "data": {
            "image/png": "[encoded data removed]",
            "text/plain": [
              "<Figure size 432x288 with 1 Axes>"
            ]
          },
          "metadata": {
            "tags": [],
            "needs_background": "light"
          }
        }
      ]
    },
    {
      "cell_type": "code",
      "metadata": {
        "colab": {
          "base_uri": "https://localhost:8080/",
          "height": 480
        },
        "id": "CkXIUStc7Z93",
        "outputId": "ef9b621e-722f-4fcf-dadd-6c7df70fe533"
      },
      "source": [
        "model = Net()\n",
        "optimizer = optim.Adam(model.parameters(), lr=0.001)\n",
        "loss_func = nn.NLLLoss()\n",
        "\n",
        "epochs = 10\n",
        "loss_list1 = []\n",
        "\n",
        "model.train()\n",
        "for epoch in range(epochs):\n",
        "    total_loss = []\n",
        "    for batch_idx, (data, target) in enumerate(train_loader):\n",
        "        optimizer.zero_grad()\n",
        "        # Forward pass\n",
        "        output = model(data)\n",
        "        # Calculating loss\n",
        "        loss = loss_func(output, target)\n",
        "        # Backward pass\n",
        "        loss.backward()\n",
        "        # Optimize the weights\n",
        "        optimizer.step()\n",
        "        \n",
        "        total_loss.append(loss.item())\n",
        "    loss_list1.append(sum(total_loss)/len(total_loss))\n",
        "    print('Training [{:.0f}%]\\tLoss: {:.4f}'.format(\n",
        "        100. * (epoch + 1) / epochs, loss_list1[-1]))\n",
        "    \n",
        "#Alongside, let's also plot the data\n",
        "plt.plot(loss_list1)\n",
        "plt.title('Hybrid NN Training Convergence')\n",
        "plt.xlabel('Training Iterations')\n",
        "plt.ylabel('Neg Log Likelihood Loss')"
      ],
      "execution_count": 14,
      "outputs": [
        {
          "output_type": "stream",
          "text": [
            "Training [10%]\tLoss: -0.5438\n",
            "Training [20%]\tLoss: -0.5173\n",
            "Training [30%]\tLoss: -0.5160\n",
            "Training [40%]\tLoss: -0.4851\n",
            "Training [50%]\tLoss: -0.4658\n",
            "Training [60%]\tLoss: -0.4957\n",
            "Training [70%]\tLoss: -0.4913\n",
            "Training [80%]\tLoss: -0.4873\n",
            "Training [90%]\tLoss: -0.4996\n",
            "Training [100%]\tLoss: -0.4691\n"
          ],
          "name": "stdout"
        },
        {
          "output_type": "execute_result",
          "data": {
            "text/plain": [
              "Text(0, 0.5, 'Neg Log Likelihood Loss')"
            ]
          },
          "metadata": {
            "tags": []
          },
          "execution_count": 14
        },
        {
          "output_type": "display_data",
          "data": {
            "image/png": "[encoded data removed]",
            "text/plain": [
              "<Figure size 432x288 with 1 Axes>"
            ]
          },
          "metadata": {
            "tags": [],
            "needs_background": "light"
          }
        }
      ]
    },
    {
      "cell_type": "code",
      "metadata": {
        "colab": {
          "base_uri": "https://localhost:8080/",
          "height": 648
        },
        "id": "rKKgfO0d7aSo",
        "outputId": "63ff5960-02d7-4a89-b95d-2775b2d5dc8d"
      },
      "source": [
        "model = Net()\n",
        "optimizer = optim.Adam(model.parameters(), lr=0.001)\n",
        "loss_func = nn.NLLLoss()\n",
        "\n",
        "epochs = 20\n",
        "loss_list2 = []\n",
        "\n",
        "model.train()\n",
        "for epoch in range(epochs):\n",
        "    total_loss = []\n",
        "    for batch_idx, (data, target) in enumerate(train_loader):\n",
        "        optimizer.zero_grad()\n",
        "        # Forward pass\n",
        "        output = model(data)\n",
        "        # Calculating loss\n",
        "        loss = loss_func(output, target)\n",
        "        # Backward pass\n",
        "        loss.backward()\n",
        "        # Optimize the weights\n",
        "        optimizer.step()\n",
        "        \n",
        "        total_loss.append(loss.item())\n",
        "    loss_list2.append(sum(total_loss)/len(total_loss))\n",
        "    print('Training [{:.0f}%]\\tLoss: {:.4f}'.format(\n",
        "        100. * (epoch + 1) / epochs, loss_list2[-1]))\n",
        "    \n",
        "#Alongside, let's also plot the data\n",
        "plt.plot(loss_list2)\n",
        "plt.title('Hybrid NN Training Convergence')\n",
        "plt.xlabel('Training Iterations')\n",
        "plt.ylabel('Neg Log Likelihood Loss')"
      ],
      "execution_count": 15,
      "outputs": [
        {
          "output_type": "stream",
          "text": [
            "Training [5%]\tLoss: -0.5167\n",
            "Training [10%]\tLoss: -0.5259\n",
            "Training [15%]\tLoss: -0.5402\n",
            "Training [20%]\tLoss: -0.4940\n",
            "Training [25%]\tLoss: -0.5419\n",
            "Training [30%]\tLoss: -0.5417\n",
            "Training [35%]\tLoss: -0.5135\n",
            "Training [40%]\tLoss: -0.5137\n",
            "Training [45%]\tLoss: -0.5025\n",
            "Training [50%]\tLoss: -0.5928\n",
            "Training [55%]\tLoss: -0.6706\n",
            "Training [60%]\tLoss: -0.6488\n",
            "Training [65%]\tLoss: -0.6905\n",
            "Training [70%]\tLoss: -0.7176\n",
            "Training [75%]\tLoss: -0.7081\n",
            "Training [80%]\tLoss: -0.7300\n",
            "Training [85%]\tLoss: -0.7321\n",
            "Training [90%]\tLoss: -0.7666\n",
            "Training [95%]\tLoss: -0.7437\n",
            "Training [100%]\tLoss: -0.7683\n"
          ],
          "name": "stdout"
        },
        {
          "output_type": "execute_result",
          "data": {
            "text/plain": [
              "Text(0, 0.5, 'Neg Log Likelihood Loss')"
            ]
          },
          "metadata": {
            "tags": []
          },
          "execution_count": 15
        },
        {
          "output_type": "display_data",
          "data": {
            "image/png": "[encoded data removed]",
            "text/plain": [
              "<Figure size 432x288 with 1 Axes>"
            ]
          },
          "metadata": {
            "tags": [],
            "needs_background": "light"
          }
        }
      ]
    },
    {
      "cell_type": "code",
      "metadata": {
        "colab": {
          "base_uri": "https://localhost:8080/",
          "height": 816
        },
        "id": "_rmIC24D7acN",
        "outputId": "26080841-e69b-4baa-e596-56b4f2a18e68"
      },
      "source": [
        "model = Net()\n",
        "optimizer = optim.Adam(model.parameters(), lr=0.001)\n",
        "loss_func = nn.NLLLoss()\n",
        "\n",
        "epochs = 30\n",
        "loss_list3 = []\n",
        "\n",
        "model.train()\n",
        "for epoch in range(epochs):\n",
        "    total_loss = []\n",
        "    for batch_idx, (data, target) in enumerate(train_loader):\n",
        "        optimizer.zero_grad()\n",
        "        # Forward pass\n",
        "        output = model(data)\n",
        "        # Calculating loss\n",
        "        loss = loss_func(output, target)\n",
        "        # Backward pass\n",
        "        loss.backward()\n",
        "        # Optimize the weights\n",
        "        optimizer.step()\n",
        "        \n",
        "        total_loss.append(loss.item())\n",
        "    loss_list3.append(sum(total_loss)/len(total_loss))\n",
        "    print('Training [{:.0f}%]\\tLoss: {:.4f}'.format(\n",
        "        100. * (epoch + 1) / epochs, loss_list3[-1]))\n",
        "    \n",
        "#Alongside, let's also plot the data\n",
        "plt.plot(loss_list3)\n",
        "plt.title('Hybrid NN Training Convergence')\n",
        "plt.xlabel('Training Iterations')\n",
        "plt.ylabel('Neg Log Likelihood Loss')"
      ],
      "execution_count": 16,
      "outputs": [
        {
          "output_type": "stream",
          "text": [
            "Training [3%]\tLoss: -0.4788\n",
            "Training [7%]\tLoss: -0.4985\n",
            "Training [10%]\tLoss: -0.5498\n",
            "Training [13%]\tLoss: -0.5183\n",
            "Training [17%]\tLoss: -0.5128\n",
            "Training [20%]\tLoss: -0.5343\n",
            "Training [23%]\tLoss: -0.4899\n",
            "Training [27%]\tLoss: -0.5428\n",
            "Training [30%]\tLoss: -0.5309\n",
            "Training [33%]\tLoss: -0.5986\n",
            "Training [37%]\tLoss: -0.6220\n",
            "Training [40%]\tLoss: -0.6752\n",
            "Training [43%]\tLoss: -0.6938\n",
            "Training [47%]\tLoss: -0.7152\n",
            "Training [50%]\tLoss: -0.7206\n",
            "Training [53%]\tLoss: -0.7293\n",
            "Training [57%]\tLoss: -0.7235\n",
            "Training [60%]\tLoss: -0.7490\n",
            "Training [63%]\tLoss: -0.7850\n",
            "Training [67%]\tLoss: -0.7538\n",
            "Training [70%]\tLoss: -0.7903\n",
            "Training [73%]\tLoss: -0.7889\n",
            "Training [77%]\tLoss: -0.8095\n",
            "Training [80%]\tLoss: -0.7946\n",
            "Training [83%]\tLoss: -0.8276\n",
            "Training [87%]\tLoss: -0.8250\n",
            "Training [90%]\tLoss: -0.8471\n",
            "Training [93%]\tLoss: -0.8419\n",
            "Training [97%]\tLoss: -0.8673\n",
            "Training [100%]\tLoss: -0.8488\n"
          ],
          "name": "stdout"
        },
        {
          "output_type": "execute_result",
          "data": {
            "text/plain": [
              "Text(0, 0.5, 'Neg Log Likelihood Loss')"
            ]
          },
          "metadata": {
            "tags": []
          },
          "execution_count": 16
        },
        {
          "output_type": "display_data",
          "data": {
            "image/png": "[encoded data removed]",
            "text/plain": [
              "<Figure size 432x288 with 1 Axes>"
            ]
          },
          "metadata": {
            "tags": [],
            "needs_background": "light"
          }
        }
      ]
    },
    {
      "cell_type": "code",
      "metadata": {
        "id": "FXW7gL7jJA73"
      },
      "source": [
        ""
      ],
      "execution_count": null,
      "outputs": []
    },
    {
      "cell_type": "markdown",
      "metadata": {
        "id": "lE9LnkFdJMPJ"
      },
      "source": [
        "Testing the network"
      ]
    },
    {
      "cell_type": "code",
      "metadata": {
        "id": "67_cQ1hGi1ZU"
      },
      "source": [
        "model.eval()\n",
        "with torch.no_grad():\n",
        "    \n",
        "    correct = 0\n",
        "    for batch_idx, (data, target) in enumerate(test_loader):\n",
        "        output = model(data)\n",
        "        \n",
        "        pred = output.argmax(dim=1, keepdim=True) \n",
        "        correct += pred.eq(target.view_as(pred)).sum().item()\n",
        "        \n",
        "        loss = loss_func(output, target)\n",
        "        total_loss.append(loss.item())\n",
        "        \n",
        "    print('Performance on test data:\\n\\tLoss: {:.4f}\\n\\tAccuracy: {:.1f}%'.format(\n",
        "        sum(total_loss) / len(total_loss),\n",
        "        correct / len(test_loader) * 100)\n",
        "        )"
      ],
      "execution_count": null,
      "outputs": []
    },
    {
      "cell_type": "code",
      "metadata": {
        "id": "wQ3Ri3_zkF_8"
      },
      "source": [
        "model.eval()\n",
        "with torch.no_grad():\n",
        "    \n",
        "    correct = 0\n",
        "    for batch_idx, (data, target) in enumerate(test_loader):\n",
        "        output = model(data)\n",
        "        \n",
        "        pred = output.argmax(dim=1, keepdim=True) \n",
        "        correct += pred.eq(target.view_as(pred)).sum().item()\n",
        "        \n",
        "        loss = loss_func(output, target)\n",
        "        total_loss.append(loss.item())\n",
        "        \n",
        "    print('Performance on test data:\\n\\tLoss: {:.4f}\\n\\tAccuracy: {:.1f}%'.format(\n",
        "        sum(total_loss) / len(total_loss),\n",
        "        correct / len(test_loader) * 100)\n",
        "        )"
      ],
      "execution_count": null,
      "outputs": []
    },
    {
      "cell_type": "code",
      "metadata": {
        "id": "4kkBqjpvJPuV"
      },
      "source": [
        "model.eval()\n",
        "with torch.no_grad():\n",
        "    \n",
        "    correct = 0\n",
        "    for batch_idx, (data, target) in enumerate(test_loader):\n",
        "        output = model(data)\n",
        "        \n",
        "        pred = output.argmax(dim=1, keepdim=True) \n",
        "        correct += pred.eq(target.view_as(pred)).sum().item()\n",
        "        \n",
        "        loss = loss_func(output, target)\n",
        "        total_loss.append(loss.item())\n",
        "        \n",
        "    print('Performance on test data:\\n\\tLoss: {:.4f}\\n\\tAccuracy: {:.1f}%'.format(\n",
        "        sum(total_loss) / len(total_loss),\n",
        "        correct / len(test_loader) * 100)\n",
        "        )"
      ],
      "execution_count": null,
      "outputs": []
    },
    {
      "cell_type": "code",
      "metadata": {
        "id": "ZJqPvO-IcuoZ"
      },
      "source": [
        "import torch\n",
        "import torchvision\n",
        "import torchvision.transforms as transforms"
      ],
      "execution_count": null,
      "outputs": []
    },
    {
      "cell_type": "markdown",
      "metadata": {
        "id": "DqhilM6PYlF5"
      },
      "source": [
        ""
      ]
    },
    {
      "cell_type": "code",
      "metadata": {
        "id": "0Qr3jD5Nx6-P"
      },
      "source": [
        "plt.plot(loss_list)\n",
        "plt.title('Hybrid NN Training Convergence')\n",
        "plt.xlabel('Training Iterations')\n",
        "plt.ylabel('Neg Log Likelihood Loss')"
      ],
      "execution_count": null,
      "outputs": []
    },
    {
      "cell_type": "code",
      "metadata": {
        "id": "YjjYpTXQxW3B"
      },
      "source": [
        "model = Net()\n",
        "optimizer = optim.Adam(model.parameters(), lr=0.001)\n",
        "loss_func = nn.NLLLoss()\n",
        "\n",
        "epochs = 10\n",
        "loss_list = []\n",
        "\n",
        "model.train()\n",
        "for epoch in range(epochs):\n",
        "    total_loss = []\n",
        "    for batch_idx, (data, target) in enumerate(train_loader):\n",
        "        optimizer.zero_grad()\n",
        "        # Forward pass\n",
        "        output = model(data)\n",
        "        # Calculating loss\n",
        "        loss = loss_func(output, target)\n",
        "        # Backward pass\n",
        "        loss.backward()\n",
        "        # Optimize the weights\n",
        "        optimizer.step()\n",
        "        \n",
        "        total_loss.append(loss.item())\n",
        "    loss_list.append(sum(total_loss)/len(total_loss))\n",
        "    print('Training [{:.0f}%]\\tLoss: {:.4f}'.format(\n",
        "        100. * (epoch + 1) / epochs, loss_list[-1]))"
      ],
      "execution_count": null,
      "outputs": []
    },
    {
      "cell_type": "code",
      "metadata": {
        "id": "tvlupNtkxtEg"
      },
      "source": [
        "plt.plot(loss_list)\n",
        "plt.title('Hybrid NN Training Convergence')\n",
        "plt.xlabel('Training Iterations')\n",
        "plt.ylabel('Neg Log Likelihood Loss')"
      ],
      "execution_count": null,
      "outputs": []
    },
    {
      "cell_type": "code",
      "metadata": {
        "id": "2qkted-WyO-J"
      },
      "source": [
        "model = Net()\n",
        "optimizer = optim.Adam(model.parameters(), lr=0.001)\n",
        "loss_func = nn.NLLLoss()\n",
        "\n",
        "epochs = 20\n",
        "loss_list = []\n",
        "\n",
        "model.train()\n",
        "for epoch in range(epochs):\n",
        "    total_loss = []\n",
        "    for batch_idx, (data, target) in enumerate(train_loader):\n",
        "        optimizer.zero_grad()\n",
        "        # Forward pass\n",
        "        output = model(data)\n",
        "        # Calculating loss\n",
        "        loss = loss_func(output, target)\n",
        "        # Backward pass\n",
        "        loss.backward()\n",
        "        # Optimize the weights\n",
        "        optimizer.step()\n",
        "        \n",
        "        total_loss.append(loss.item())\n",
        "    loss_list.append(sum(total_loss)/len(total_loss))\n",
        "    print('Training [{:.0f}%]\\tLoss: {:.4f}'.format(\n",
        "        100. * (epoch + 1) / epochs, loss_list[-1]))"
      ],
      "execution_count": null,
      "outputs": []
    },
    {
      "cell_type": "code",
      "metadata": {
        "id": "n57Sanp9yyOZ"
      },
      "source": [
        "plt.plot(loss_list)\n",
        "plt.title('Hybrid NN Training Convergence')\n",
        "plt.xlabel('Training Iterations')\n",
        "plt.ylabel('Neg Log Likelihood Loss')"
      ],
      "execution_count": null,
      "outputs": []
    },
    {
      "cell_type": "code",
      "metadata": {
        "id": "WW0tK5Mcy9Ul"
      },
      "source": [
        "#Testing the  quantum hybrid in order to comapre it with the classical one\n",
        "model.eval()\n",
        "with torch.no_grad():\n",
        "    \n",
        "    correct = 0\n",
        "    for batch_idx, (data, target) in enumerate(test_loader):\n",
        "        output = model(data)\n",
        "        \n",
        "        pred = output.argmax(dim=1, keepdim=True) \n",
        "        correct += pred.eq(target.view_as(pred)).sum().item()\n",
        "        \n",
        "        loss = loss_func(output, target)\n",
        "        total_loss.append(loss.item())\n",
        "        \n",
        "    print('Performance on test data:\\n\\tLoss: {:.4f}\\n\\tAccuracy: {:.1f}%'.format(\n",
        "        sum(total_loss) / len(total_loss),\n",
        "        correct / len(test_loader) * 100)\n",
        "        )"
      ],
      "execution_count": null,
      "outputs": []
    },
    {
      "cell_type": "code",
      "metadata": {
        "id": "cWNATteX3d10"
      },
      "source": [
        "class Net(nn.Module):\n",
        "    def __init__(self):\n",
        "        super(Net, self).__init__()\n",
        "        self.conv1 = nn.Conv2d(3, 10, kernel_size=5)\n",
        "        self.conv2 = nn.Conv2d(10, 20, kernel_size=5)\n",
        "        self.dropout = nn.Dropout2d()\n",
        "        self.fc1 = nn.Linear(500, 500)\n",
        "        self.fc2 = nn.Linear(500,49)\n",
        "        self.hybrid = Hybrid(qiskit.Aer.get_backend('qasm_simulator'), 100, np.pi / 2)\n",
        "\n",
        "    def forward(self, x):\n",
        "        x = F.relu(self.conv1(x))\n",
        "        x = F.max_pool2d(x, 2)\n",
        "        x = F.relu(self.conv2(x))\n",
        "        x = F.max_pool2d(x, 2)\n",
        "        x = self.dropout(x)\n",
        "        x = x.view(1, -1)\n",
        "        x = F.relu(self.fc1(x))\n",
        "        x = self.fc2(x)\n",
        "        x = self.hybrid(x)\n",
        "        return torch.cat((x, 1 - x), -1)"
      ],
      "execution_count": null,
      "outputs": []
    },
    {
      "cell_type": "code",
      "metadata": {
        "id": "NecmVf-pJChf"
      },
      "source": [
        "class Net(nn.Module):\n",
        "    def __init__(self):\n",
        "        super(Net, self).__init__()\n",
        "        self.conv1 = nn.Conv2d(1, 10, kernel_size=5)\n",
        "        self.conv2 = nn.Conv2d(10, 20, kernel_size=5)\n",
        "        self.conv2_drop = nn.Dropout2d()\n",
        "        self.fc1 = nn.Linear(320, 50)\n",
        "        self.fc2 = nn.Linear(50, 99)\n",
        "\n",
        "    def forward(self, x):\n",
        "        x = F.relu(F.max_pool2d(self.conv1(x), 2))\n",
        "        x = F.relu(F.max_pool2d(self.conv2_drop(self.conv2(x)), 2))\n",
        "        x = x.view(-1, 320)\n",
        "        x = F.relu(self.fc1(x))\n",
        "        x = F.dropout(x, training=self.training)\n",
        "        x = self.fc2(x)\n",
        "        return F.softmax(x)"
      ],
      "execution_count": null,
      "outputs": []
    }
  ]
}