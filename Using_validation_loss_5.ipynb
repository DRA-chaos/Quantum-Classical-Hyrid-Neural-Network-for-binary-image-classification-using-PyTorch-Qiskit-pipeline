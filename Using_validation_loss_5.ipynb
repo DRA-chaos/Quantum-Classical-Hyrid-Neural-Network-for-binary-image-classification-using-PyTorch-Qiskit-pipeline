{
  "nbformat": 4,
  "nbformat_minor": 0,
  "metadata": {
    "colab": {
      "name": "Using validation loss 4.ipynb",
      "provenance": [],
      "collapsed_sections": [],
      "authorship_tag": "ABX9TyO9PIuVR91aLolesNJxfvee",
      "include_colab_link": true
    },
    "kernelspec": {
      "name": "python3",
      "display_name": "Python 3"
    },
    "language_info": {
      "name": "python"
    },
    "widgets": {
      "application/vnd.jupyter.widget-state+json": {
        "e26476261db9416296c33489cc3fc5ed": {
          "model_module": "@jupyter-widgets/controls",
          "model_name": "HBoxModel",
          "state": {
            "_view_name": "HBoxView",
            "_dom_classes": [],
            "_model_name": "HBoxModel",
            "_view_module": "@jupyter-widgets/controls",
            "_model_module_version": "1.5.0",
            "_view_count": null,
            "_view_module_version": "1.5.0",
            "box_style": "",
            "layout": "IPY_MODEL_1b400381095d4178981c3f5c17d8b2c1",
            "_model_module": "@jupyter-widgets/controls",
            "children": [
              "IPY_MODEL_cd2e5dd639f94646b0c5e03d43d13e01",
              "IPY_MODEL_cdc14ae1c34c43a9b1cabd03bdd28331"
            ]
          }
        },
        "1b400381095d4178981c3f5c17d8b2c1": {
          "model_module": "@jupyter-widgets/base",
          "model_name": "LayoutModel",
          "state": {
            "_view_name": "LayoutView",
            "grid_template_rows": null,
            "right": null,
            "justify_content": null,
            "_view_module": "@jupyter-widgets/base",
            "overflow": null,
            "_model_module_version": "1.2.0",
            "_view_count": null,
            "flex_flow": null,
            "width": null,
            "min_width": null,
            "border": null,
            "align_items": null,
            "bottom": null,
            "_model_module": "@jupyter-widgets/base",
            "top": null,
            "grid_column": null,
            "overflow_y": null,
            "overflow_x": null,
            "grid_auto_flow": null,
            "grid_area": null,
            "grid_template_columns": null,
            "flex": null,
            "_model_name": "LayoutModel",
            "justify_items": null,
            "grid_row": null,
            "max_height": null,
            "align_content": null,
            "visibility": null,
            "align_self": null,
            "height": null,
            "min_height": null,
            "padding": null,
            "grid_auto_rows": null,
            "grid_gap": null,
            "max_width": null,
            "order": null,
            "_view_module_version": "1.2.0",
            "grid_template_areas": null,
            "object_position": null,
            "object_fit": null,
            "grid_auto_columns": null,
            "margin": null,
            "display": null,
            "left": null
          }
        },
        "cd2e5dd639f94646b0c5e03d43d13e01": {
          "model_module": "@jupyter-widgets/controls",
          "model_name": "FloatProgressModel",
          "state": {
            "_view_name": "ProgressView",
            "style": "IPY_MODEL_42748ac0b960488b86bf7ccc8d3e3463",
            "_dom_classes": [],
            "description": "",
            "_model_name": "FloatProgressModel",
            "bar_style": "success",
            "max": 170498071,
            "_view_module": "@jupyter-widgets/controls",
            "_model_module_version": "1.5.0",
            "value": 170498071,
            "_view_count": null,
            "_view_module_version": "1.5.0",
            "orientation": "horizontal",
            "min": 0,
            "description_tooltip": null,
            "_model_module": "@jupyter-widgets/controls",
            "layout": "IPY_MODEL_4a3e8c067fa24172a10c4a387df31943"
          }
        },
        "cdc14ae1c34c43a9b1cabd03bdd28331": {
          "model_module": "@jupyter-widgets/controls",
          "model_name": "HTMLModel",
          "state": {
            "_view_name": "HTMLView",
            "style": "IPY_MODEL_d6bc701289504611a72ed43c592f5676",
            "_dom_classes": [],
            "description": "",
            "_model_name": "HTMLModel",
            "placeholder": "​",
            "_view_module": "@jupyter-widgets/controls",
            "_model_module_version": "1.5.0",
            "value": " 170499072/? [00:19&lt;00:00, 8836431.67it/s]",
            "_view_count": null,
            "_view_module_version": "1.5.0",
            "description_tooltip": null,
            "_model_module": "@jupyter-widgets/controls",
            "layout": "IPY_MODEL_8f4545bd06fb4c51946167751d783e9a"
          }
        },
        "42748ac0b960488b86bf7ccc8d3e3463": {
          "model_module": "@jupyter-widgets/controls",
          "model_name": "ProgressStyleModel",
          "state": {
            "_view_name": "StyleView",
            "_model_name": "ProgressStyleModel",
            "description_width": "initial",
            "_view_module": "@jupyter-widgets/base",
            "_model_module_version": "1.5.0",
            "_view_count": null,
            "_view_module_version": "1.2.0",
            "bar_color": null,
            "_model_module": "@jupyter-widgets/controls"
          }
        },
        "4a3e8c067fa24172a10c4a387df31943": {
          "model_module": "@jupyter-widgets/base",
          "model_name": "LayoutModel",
          "state": {
            "_view_name": "LayoutView",
            "grid_template_rows": null,
            "right": null,
            "justify_content": null,
            "_view_module": "@jupyter-widgets/base",
            "overflow": null,
            "_model_module_version": "1.2.0",
            "_view_count": null,
            "flex_flow": null,
            "width": null,
            "min_width": null,
            "border": null,
            "align_items": null,
            "bottom": null,
            "_model_module": "@jupyter-widgets/base",
            "top": null,
            "grid_column": null,
            "overflow_y": null,
            "overflow_x": null,
            "grid_auto_flow": null,
            "grid_area": null,
            "grid_template_columns": null,
            "flex": null,
            "_model_name": "LayoutModel",
            "justify_items": null,
            "grid_row": null,
            "max_height": null,
            "align_content": null,
            "visibility": null,
            "align_self": null,
            "height": null,
            "min_height": null,
            "padding": null,
            "grid_auto_rows": null,
            "grid_gap": null,
            "max_width": null,
            "order": null,
            "_view_module_version": "1.2.0",
            "grid_template_areas": null,
            "object_position": null,
            "object_fit": null,
            "grid_auto_columns": null,
            "margin": null,
            "display": null,
            "left": null
          }
        },
        "d6bc701289504611a72ed43c592f5676": {
          "model_module": "@jupyter-widgets/controls",
          "model_name": "DescriptionStyleModel",
          "state": {
            "_view_name": "StyleView",
            "_model_name": "DescriptionStyleModel",
            "description_width": "",
            "_view_module": "@jupyter-widgets/base",
            "_model_module_version": "1.5.0",
            "_view_count": null,
            "_view_module_version": "1.2.0",
            "_model_module": "@jupyter-widgets/controls"
          }
        },
        "8f4545bd06fb4c51946167751d783e9a": {
          "model_module": "@jupyter-widgets/base",
          "model_name": "LayoutModel",
          "state": {
            "_view_name": "LayoutView",
            "grid_template_rows": null,
            "right": null,
            "justify_content": null,
            "_view_module": "@jupyter-widgets/base",
            "overflow": null,
            "_model_module_version": "1.2.0",
            "_view_count": null,
            "flex_flow": null,
            "width": null,
            "min_width": null,
            "border": null,
            "align_items": null,
            "bottom": null,
            "_model_module": "@jupyter-widgets/base",
            "top": null,
            "grid_column": null,
            "overflow_y": null,
            "overflow_x": null,
            "grid_auto_flow": null,
            "grid_area": null,
            "grid_template_columns": null,
            "flex": null,
            "_model_name": "LayoutModel",
            "justify_items": null,
            "grid_row": null,
            "max_height": null,
            "align_content": null,
            "visibility": null,
            "align_self": null,
            "height": null,
            "min_height": null,
            "padding": null,
            "grid_auto_rows": null,
            "grid_gap": null,
            "max_width": null,
            "order": null,
            "_view_module_version": "1.2.0",
            "grid_template_areas": null,
            "object_position": null,
            "object_fit": null,
            "grid_auto_columns": null,
            "margin": null,
            "display": null,
            "left": null
          }
        }
      }
    },
    "accelerator": "GPU"
  },
  "cells": [
    {
      "cell_type": "markdown",
      "metadata": {
        "id": "view-in-github",
        "colab_type": "text"
      },
      "source": [
        "<a href=\"https://colab.research.google.com/github/DRA-chaos/Quantum-Convolutional-Neural-Network/blob/main/Using_validation_loss_5.ipynb\" target=\"_parent\"><img src=\"https://colab.research.google.com/assets/colab-badge.svg\" alt=\"Open In Colab\"/></a>"
      ]
    },
    {
      "cell_type": "code",
      "metadata": {
        "colab": {
          "base_uri": "https://localhost:8080/"
        },
        "id": "4BE4HL0SJrYa",
        "outputId": "7e49267e-e9a1-46a0-d3f4-7d973b4c936f"
      },
      "source": [
        "!pip install qiskit"
      ],
      "execution_count": 1,
      "outputs": [
        {
          "output_type": "stream",
          "text": [
            "Collecting qiskit\n",
            "  Downloading https://files.pythonhosted.org/packages/79/19/44f002f6633c64b4ab88d274dd036857624e4ba8b701cd90a408103a3791/qiskit-0.27.0.tar.gz\n",
            "Collecting qiskit-terra==0.17.4\n",
            "\u001b[?25l  Downloading https://files.pythonhosted.org/packages/b3/0c/3c7a8dd451dae0907263e9de9e3e34909e15e18c88a589b44581972c8511/qiskit_terra-0.17.4-cp37-cp37m-manylinux2010_x86_64.whl (6.0MB)\n",
            "\u001b[K     |████████████████████████████████| 6.0MB 10.9MB/s \n",
            "\u001b[?25hCollecting qiskit-aer==0.8.2\n",
            "\u001b[?25l  Downloading https://files.pythonhosted.org/packages/c2/d2/6ff15c370b5465b32529b528bf3f4ce1e01f74498be16203aa1c04b67022/qiskit_aer-0.8.2-cp37-cp37m-manylinux2010_x86_64.whl (18.0MB)\n",
            "\u001b[K     |████████████████████████████████| 18.0MB 178kB/s \n",
            "\u001b[?25hCollecting qiskit-ibmq-provider==0.14.0\n",
            "\u001b[?25l  Downloading https://files.pythonhosted.org/packages/83/2f/6f3b53b633cc477dbe601728c8c3fc8674441cb9554d14517254a52d0c8a/qiskit_ibmq_provider-0.14.0-py3-none-any.whl (229kB)\n",
            "\u001b[K     |████████████████████████████████| 235kB 40.9MB/s \n",
            "\u001b[?25hCollecting qiskit-ignis==0.6.0\n",
            "\u001b[?25l  Downloading https://files.pythonhosted.org/packages/54/be/a13c828e457e09d979667a61bddbd8c7246aafa94e2501b6a9154429cbea/qiskit_ignis-0.6.0-py3-none-any.whl (207kB)\n",
            "\u001b[K     |████████████████████████████████| 215kB 37.1MB/s \n",
            "\u001b[?25hCollecting qiskit-aqua==0.9.2\n",
            "\u001b[?25l  Downloading https://files.pythonhosted.org/packages/81/00/1f71631bbc3fd24537d7ec1c52adfcf4fa0851c13fefc05d6babcb11a1f8/qiskit_aqua-0.9.2-py3-none-any.whl (2.1MB)\n",
            "\u001b[K     |████████████████████████████████| 2.1MB 31.9MB/s \n",
            "\u001b[?25hRequirement already satisfied: jsonschema>=2.6 in /usr/local/lib/python3.7/dist-packages (from qiskit-terra==0.17.4->qiskit) (2.6.0)\n",
            "Requirement already satisfied: python-dateutil>=2.8.0 in /usr/local/lib/python3.7/dist-packages (from qiskit-terra==0.17.4->qiskit) (2.8.1)\n",
            "Collecting ply>=3.10\n",
            "\u001b[?25l  Downloading https://files.pythonhosted.org/packages/a3/58/35da89ee790598a0700ea49b2a66594140f44dec458c07e8e3d4979137fc/ply-3.11-py2.py3-none-any.whl (49kB)\n",
            "\u001b[K     |████████████████████████████████| 51kB 7.3MB/s \n",
            "\u001b[?25hCollecting retworkx>=0.8.0\n",
            "\u001b[?25l  Downloading https://files.pythonhosted.org/packages/9e/cd/70d436f170aa1ead2ac9e4c19c8838633355d48b530f09455eab0af2f98e/retworkx-0.9.0-cp37-cp37m-manylinux_2_5_x86_64.manylinux1_x86_64.manylinux_2_12_x86_64.manylinux2010_x86_64.whl (1.4MB)\n",
            "\u001b[K     |████████████████████████████████| 1.5MB 30.7MB/s \n",
            "\u001b[?25hRequirement already satisfied: scipy>=1.4 in /usr/local/lib/python3.7/dist-packages (from qiskit-terra==0.17.4->qiskit) (1.4.1)\n",
            "Requirement already satisfied: sympy>=1.3 in /usr/local/lib/python3.7/dist-packages (from qiskit-terra==0.17.4->qiskit) (1.7.1)\n",
            "Collecting fastjsonschema>=2.10\n",
            "  Downloading https://files.pythonhosted.org/packages/d1/fb/ea090e917b18320f79be31d754bbe496b715175e865603cfce1eaed2e774/fastjsonschema-2.15.1-py3-none-any.whl\n",
            "Collecting python-constraint>=1.4\n",
            "  Downloading https://files.pythonhosted.org/packages/37/8b/5f1bc2734ca611943e1d6733ee244238679f6410a10cd45ede55a61a8402/python-constraint-1.4.0.tar.bz2\n",
            "Requirement already satisfied: numpy>=1.17 in /usr/local/lib/python3.7/dist-packages (from qiskit-terra==0.17.4->qiskit) (1.19.5)\n",
            "Requirement already satisfied: psutil>=5 in /usr/local/lib/python3.7/dist-packages (from qiskit-terra==0.17.4->qiskit) (5.4.8)\n",
            "Requirement already satisfied: dill>=0.3 in /usr/local/lib/python3.7/dist-packages (from qiskit-terra==0.17.4->qiskit) (0.3.4)\n",
            "Collecting pybind11>=2.6\n",
            "\u001b[?25l  Downloading https://files.pythonhosted.org/packages/8d/43/7339dbabbc2793718d59703aace4166f53c29ee1c202f6ff5bf8a26c4d91/pybind11-2.6.2-py2.py3-none-any.whl (191kB)\n",
            "\u001b[K     |████████████████████████████████| 194kB 39.3MB/s \n",
            "\u001b[?25hCollecting websocket-client>=1.0.1\n",
            "\u001b[?25l  Downloading https://files.pythonhosted.org/packages/ca/5f/3c211d168b2e9f9342cfb53bcfc26aab0eac63b998015e7af7bcae66119d/websocket_client-1.1.0-py2.py3-none-any.whl (68kB)\n",
            "\u001b[K     |████████████████████████████████| 71kB 7.8MB/s \n",
            "\u001b[?25hRequirement already satisfied: urllib3>=1.21.1 in /usr/local/lib/python3.7/dist-packages (from qiskit-ibmq-provider==0.14.0->qiskit) (1.24.3)\n",
            "Collecting requests-ntlm>=1.1.0\n",
            "  Downloading https://files.pythonhosted.org/packages/03/4b/8b9a1afde8072c4d5710d9fa91433d504325821b038e00237dc8d6d833dc/requests_ntlm-1.1.0-py2.py3-none-any.whl\n",
            "Requirement already satisfied: requests>=2.19 in /usr/local/lib/python3.7/dist-packages (from qiskit-ibmq-provider==0.14.0->qiskit) (2.23.0)\n",
            "Requirement already satisfied: setuptools>=40.1.0 in /usr/local/lib/python3.7/dist-packages (from qiskit-ignis==0.6.0->qiskit) (57.0.0)\n",
            "Requirement already satisfied: pandas in /usr/local/lib/python3.7/dist-packages (from qiskit-aqua==0.9.2->qiskit) (1.1.5)\n",
            "Collecting quandl\n",
            "  Downloading https://files.pythonhosted.org/packages/8b/2b/feefb36015beaecc5c0f9f2533e815b409621d9fa7b50b2aac621796f828/Quandl-3.6.1-py2.py3-none-any.whl\n",
            "Requirement already satisfied: scikit-learn>=0.20.0 in /usr/local/lib/python3.7/dist-packages (from qiskit-aqua==0.9.2->qiskit) (0.22.2.post1)\n",
            "Requirement already satisfied: h5py in /usr/local/lib/python3.7/dist-packages (from qiskit-aqua==0.9.2->qiskit) (3.1.0)\n",
            "Requirement already satisfied: fastdtw<=0.3.4 in /usr/local/lib/python3.7/dist-packages (from qiskit-aqua==0.9.2->qiskit) (0.3.4)\n",
            "Collecting docplex<=2.20.204; sys_platform != \"darwin\"\n",
            "\u001b[?25l  Downloading https://files.pythonhosted.org/packages/87/99/6f7c219b39fd58c84688ad0713eb932bfcf6be81fc74519e43ea9c915b56/docplex-2.20.204.tar.gz (611kB)\n",
            "\u001b[K     |████████████████████████████████| 614kB 33.1MB/s \n",
            "\u001b[?25hCollecting dlx<=1.0.4\n",
            "  Downloading https://files.pythonhosted.org/packages/54/c0/b8fb5bb727e983b6f5251433ef941b48f38c65bb0bd6ec509e9185bcd406/dlx-1.0.4.tar.gz\n",
            "Collecting yfinance\n",
            "  Downloading https://files.pythonhosted.org/packages/a7/ee/315752b9ef281ba83c62aa7ec2e2074f85223da6e7e74efb4d3e11c0f510/yfinance-0.1.59.tar.gz\n",
            "Requirement already satisfied: six>=1.5 in /usr/local/lib/python3.7/dist-packages (from python-dateutil>=2.8.0->qiskit-terra==0.17.4->qiskit) (1.15.0)\n",
            "Requirement already satisfied: mpmath>=0.19 in /usr/local/lib/python3.7/dist-packages (from sympy>=1.3->qiskit-terra==0.17.4->qiskit) (1.2.1)\n",
            "Collecting ntlm-auth>=1.0.2\n",
            "  Downloading https://files.pythonhosted.org/packages/ff/84/97c550164b54942b0e908c31ef09d9469f3ba4cd7332a671e2125732f63b/ntlm_auth-1.5.0-py2.py3-none-any.whl\n",
            "Collecting cryptography>=1.3\n",
            "\u001b[?25l  Downloading https://files.pythonhosted.org/packages/b2/26/7af637e6a7e87258b963f1731c5982fb31cd507f0d90d91836e446955d02/cryptography-3.4.7-cp36-abi3-manylinux2014_x86_64.whl (3.2MB)\n",
            "\u001b[K     |████████████████████████████████| 3.2MB 31.0MB/s \n",
            "\u001b[?25hRequirement already satisfied: certifi>=2017.4.17 in /usr/local/lib/python3.7/dist-packages (from requests>=2.19->qiskit-ibmq-provider==0.14.0->qiskit) (2021.5.30)\n",
            "Requirement already satisfied: idna<3,>=2.5 in /usr/local/lib/python3.7/dist-packages (from requests>=2.19->qiskit-ibmq-provider==0.14.0->qiskit) (2.10)\n",
            "Requirement already satisfied: chardet<4,>=3.0.2 in /usr/local/lib/python3.7/dist-packages (from requests>=2.19->qiskit-ibmq-provider==0.14.0->qiskit) (3.0.4)\n",
            "Requirement already satisfied: pytz>=2017.2 in /usr/local/lib/python3.7/dist-packages (from pandas->qiskit-aqua==0.9.2->qiskit) (2018.9)\n",
            "Requirement already satisfied: more-itertools in /usr/local/lib/python3.7/dist-packages (from quandl->qiskit-aqua==0.9.2->qiskit) (8.8.0)\n",
            "Collecting inflection>=0.3.1\n",
            "  Downloading https://files.pythonhosted.org/packages/59/91/aa6bde563e0085a02a435aa99b49ef75b0a4b062635e606dab23ce18d720/inflection-0.5.1-py2.py3-none-any.whl\n",
            "Requirement already satisfied: joblib>=0.11 in /usr/local/lib/python3.7/dist-packages (from scikit-learn>=0.20.0->qiskit-aqua==0.9.2->qiskit) (1.0.1)\n",
            "Requirement already satisfied: cached-property; python_version < \"3.8\" in /usr/local/lib/python3.7/dist-packages (from h5py->qiskit-aqua==0.9.2->qiskit) (1.5.2)\n",
            "Requirement already satisfied: multitasking>=0.0.7 in /usr/local/lib/python3.7/dist-packages (from yfinance->qiskit-aqua==0.9.2->qiskit) (0.0.9)\n",
            "Collecting lxml>=4.5.1\n",
            "\u001b[?25l  Downloading https://files.pythonhosted.org/packages/30/c0/d0526314971fc661b083ab135747dc68446a3022686da8c16d25fcf6ef07/lxml-4.6.3-cp37-cp37m-manylinux2014_x86_64.whl (6.3MB)\n",
            "\u001b[K     |████████████████████████████████| 6.3MB 30.3MB/s \n",
            "\u001b[?25hRequirement already satisfied: cffi>=1.12 in /usr/local/lib/python3.7/dist-packages (from cryptography>=1.3->requests-ntlm>=1.1.0->qiskit-ibmq-provider==0.14.0->qiskit) (1.14.5)\n",
            "Requirement already satisfied: pycparser in /usr/local/lib/python3.7/dist-packages (from cffi>=1.12->cryptography>=1.3->requests-ntlm>=1.1.0->qiskit-ibmq-provider==0.14.0->qiskit) (2.20)\n",
            "Building wheels for collected packages: qiskit, python-constraint, docplex, dlx, yfinance\n",
            "  Building wheel for qiskit (setup.py) ... \u001b[?25l\u001b[?25hdone\n",
            "  Created wheel for qiskit: filename=qiskit-0.27.0-cp37-none-any.whl size=10505 sha256=b78df8f94886a5e80f8ce630f88302713a3148c046011c234de5d339b0538cc3\n",
            "  Stored in directory: /root/.cache/pip/wheels/c6/54/d9/f0f711dc20aff31947456951374132d0e23ec527da8c15295d\n",
            "  Building wheel for python-constraint (setup.py) ... \u001b[?25l\u001b[?25hdone\n",
            "  Created wheel for python-constraint: filename=python_constraint-1.4.0-py2.py3-none-any.whl size=24079 sha256=679065c4a8c0a9ba518f707363e50a3a09a9b1f02da21f8b5a198e0d73e79678\n",
            "  Stored in directory: /root/.cache/pip/wheels/34/31/15/7b070b25d0a549d20ce2e9fe6d727471c2c61ef904720fd40c\n",
            "  Building wheel for docplex (setup.py) ... \u001b[?25l\u001b[?25hdone\n",
            "  Created wheel for docplex: filename=docplex-2.20.204-cp37-none-any.whl size=675396 sha256=f300ef089df8df7070c0a942c447071045c5479d29639330f10b46ffb452debc\n",
            "  Stored in directory: /root/.cache/pip/wheels/ae/2c/e2/a099ebb6fda8adeba9c5fc2e25659d195ad2f5c6cc5fb75fd4\n",
            "  Building wheel for dlx (setup.py) ... \u001b[?25l\u001b[?25hdone\n",
            "  Created wheel for dlx: filename=dlx-1.0.4-cp37-none-any.whl size=5720 sha256=d31d1613269787a1323a86845d52b029ab2b6160f73a2801b33e507bc511a7a7\n",
            "  Stored in directory: /root/.cache/pip/wheels/bb/ba/15/fdd0deb104df3254912998150ba9245668db06b00af5912d1a\n",
            "  Building wheel for yfinance (setup.py) ... \u001b[?25l\u001b[?25hdone\n",
            "  Created wheel for yfinance: filename=yfinance-0.1.59-py2.py3-none-any.whl size=23455 sha256=43b5fdc492c51c4e4b0762c4c85980930a4eb94ef18af5c1cbbaae00d65a4e11\n",
            "  Stored in directory: /root/.cache/pip/wheels/f8/2a/0f/4b5a86e1d52e451757eb6bc17fd899629f0925c777741b6d04\n",
            "Successfully built qiskit python-constraint docplex dlx yfinance\n",
            "Installing collected packages: ply, retworkx, fastjsonschema, python-constraint, qiskit-terra, pybind11, qiskit-aer, websocket-client, ntlm-auth, cryptography, requests-ntlm, qiskit-ibmq-provider, qiskit-ignis, inflection, quandl, docplex, dlx, lxml, yfinance, qiskit-aqua, qiskit\n",
            "  Found existing installation: lxml 4.2.6\n",
            "    Uninstalling lxml-4.2.6:\n",
            "      Successfully uninstalled lxml-4.2.6\n",
            "Successfully installed cryptography-3.4.7 dlx-1.0.4 docplex-2.20.204 fastjsonschema-2.15.1 inflection-0.5.1 lxml-4.6.3 ntlm-auth-1.5.0 ply-3.11 pybind11-2.6.2 python-constraint-1.4.0 qiskit-0.27.0 qiskit-aer-0.8.2 qiskit-aqua-0.9.2 qiskit-ibmq-provider-0.14.0 qiskit-ignis-0.6.0 qiskit-terra-0.17.4 quandl-3.6.1 requests-ntlm-1.1.0 retworkx-0.9.0 websocket-client-1.1.0 yfinance-0.1.59\n"
          ],
          "name": "stdout"
        }
      ]
    },
    {
      "cell_type": "code",
      "metadata": {
        "colab": {
          "base_uri": "https://localhost:8080/"
        },
        "id": "mPVMDRDsPS58",
        "outputId": "1308b1f8-7596-4a0e-b449-8f36a32eb183"
      },
      "source": [
        "# check if CUDA is available\n",
        "import torch\n",
        "train_on_gpu = torch.cuda.is_available()\n",
        "\n",
        "if not train_on_gpu:\n",
        "    print('CUDA is not available.  Training on CPU ...')\n",
        "else:\n",
        "    print('CUDA is available!  Training on GPU ...')"
      ],
      "execution_count": 2,
      "outputs": [
        {
          "output_type": "stream",
          "text": [
            "CUDA is available!  Training on GPU ...\n"
          ],
          "name": "stdout"
        }
      ]
    },
    {
      "cell_type": "code",
      "metadata": {
        "id": "cen8pzlVbzDF"
      },
      "source": [
        "\n",
        "import numpy as np\n",
        "import matplotlib.pyplot as plt\n",
        "\n",
        "import torch\n",
        "from torch.autograd import Function\n",
        "from torchvision import datasets, transforms\n",
        "import torch.optim as optim\n",
        "import torch.nn as nn\n",
        "import torch.nn.functional as F\n",
        "\n",
        "import qiskit\n",
        "from qiskit import transpile, assemble\n",
        "from qiskit.visualization import *"
      ],
      "execution_count": 3,
      "outputs": []
    },
    {
      "cell_type": "code",
      "metadata": {
        "id": "pYRqHiA4J_yw"
      },
      "source": [
        "import numpy as np\n",
        "import torch\n",
        "from torch.autograd import Function\n",
        "import torch.optim as optim\n",
        "import torch.nn as nn\n",
        "import torch.nn.functional as F\n",
        "import torchvision\n",
        "from torchvision import datasets, transforms\n",
        "from qiskit import QuantumRegister, QuantumCircuit, ClassicalRegister, execute\n",
        "from qiskit.circuit import Parameter\n",
        "from qiskit import Aer\n",
        "from tqdm import tqdm\n",
        "from matplotlib import pyplot as plt\n",
        "%matplotlib inline"
      ],
      "execution_count": 4,
      "outputs": []
    },
    {
      "cell_type": "code",
      "metadata": {
        "id": "uS6nwoWxdqQT"
      },
      "source": [
        "def to_numbers(tensor_list):\n",
        "    num_list = []\n",
        "    for tensor in tensor_list:\n",
        "        num_list += [tensor.item()]\n",
        "    return num_list"
      ],
      "execution_count": 5,
      "outputs": []
    },
    {
      "cell_type": "code",
      "metadata": {
        "id": "9Zxv2aYdJ_7W"
      },
      "source": [
        "class QuantumCircuit:\n",
        "    \"\"\" \n",
        "    This class provides a simple interface for interaction \n",
        "    with the quantum circuit \n",
        "    \"\"\"\n",
        "    \n",
        "    def __init__(self, n_qubits, backend, shots):\n",
        "        # --- Circuit definition ---\n",
        "        self._circuit = qiskit.QuantumCircuit(n_qubits)\n",
        "        \n",
        "        all_qubits = [i for i in range(n_qubits)]\n",
        "        self.theta = qiskit.circuit.Parameter('theta')\n",
        "        \n",
        "        self._circuit.h(all_qubits)\n",
        "        self._circuit.barrier()\n",
        "        self._circuit.ry(self.theta, all_qubits)\n",
        "        \n",
        "        self._circuit.measure_all()\n",
        "        # ---------------------------\n",
        "\n",
        "        self.backend = backend\n",
        "        self.shots = shots\n",
        "    \n",
        "    def run(self, thetas):\n",
        "        t_qc = transpile(self._circuit,\n",
        "                         self.backend)\n",
        "        qobj = assemble(t_qc,\n",
        "                        shots=self.shots,\n",
        "                        parameter_binds = [{self.theta: theta} for theta in thetas])\n",
        "        job = self.backend.run(qobj)\n",
        "        result = job.result().get_counts()\n",
        "        \n",
        "        counts = np.array(list(result.values()))\n",
        "        states = np.array(list(result.keys())).astype(float)\n",
        "        \n",
        "        # Compute probabilities for each state\n",
        "        probabilities = counts / self.shots\n",
        "        # Get state expectation\n",
        "        expectation = np.sum(states * probabilities)\n",
        "        \n",
        "        return np.array([expectation])"
      ],
      "execution_count": 6,
      "outputs": []
    },
    {
      "cell_type": "code",
      "metadata": {
        "id": "jcTJjA7aKVT-"
      },
      "source": [
        "class HybridFunction(Function):\n",
        "    \"\"\" Hybrid quantum - classical function definition \"\"\"\n",
        "    \n",
        "    @staticmethod\n",
        "    def forward(ctx, input, quantum_circuit, shift):\n",
        "        \"\"\" Forward pass computation \"\"\"\n",
        "        ctx.shift = shift\n",
        "        ctx.quantum_circuit = quantum_circuit\n",
        "\n",
        "        expectation_z = ctx.quantum_circuit.run(input[0].tolist())\n",
        "        result = torch.tensor([expectation_z])\n",
        "        ctx.save_for_backward(input, result)\n",
        "\n",
        "        return result\n",
        "        \n",
        "    @staticmethod\n",
        "    def backward(ctx, grad_output):\n",
        "        \"\"\" Backward pass computation \"\"\"\n",
        "        input, expectation_z = ctx.saved_tensors\n",
        "        input_list = np.array(input.tolist())\n",
        "        \n",
        "        shift_right = input_list + np.ones(input_list.shape) * ctx.shift\n",
        "        shift_left = input_list - np.ones(input_list.shape) * ctx.shift\n",
        "        \n",
        "        gradients = []\n",
        "        for i in range(len(input_list)):\n",
        "            expectation_right = ctx.quantum_circuit.run(shift_right[i])\n",
        "            expectation_left  = ctx.quantum_circuit.run(shift_left[i])\n",
        "            \n",
        "            gradient = torch.tensor([expectation_right]) - torch.tensor([expectation_left])\n",
        "            gradients.append(gradient)\n",
        "        gradients = np.array([gradients]).T\n",
        "        return torch.tensor([gradients]).float() * grad_output.float(), None, None\n",
        "\n",
        "class Hybrid(nn.Module):\n",
        "    \"\"\" Hybrid quantum - classical layer definition \"\"\"\n",
        "    \n",
        "    def __init__(self, backend, shots, shift):\n",
        "        super(Hybrid, self).__init__()\n",
        "        self.quantum_circuit = QuantumCircuit(1, backend, shots)\n",
        "        self.shift = shift\n",
        "        \n",
        "    def forward(self, input):\n",
        "        return HybridFunction.apply(input, self.quantum_circuit, self.shift)"
      ],
      "execution_count": 7,
      "outputs": []
    },
    {
      "cell_type": "code",
      "metadata": {
        "colab": {
          "base_uri": "https://localhost:8080/",
          "height": 99,
          "referenced_widgets": [
            "e26476261db9416296c33489cc3fc5ed",
            "1b400381095d4178981c3f5c17d8b2c1",
            "cd2e5dd639f94646b0c5e03d43d13e01",
            "cdc14ae1c34c43a9b1cabd03bdd28331",
            "42748ac0b960488b86bf7ccc8d3e3463",
            "4a3e8c067fa24172a10c4a387df31943",
            "d6bc701289504611a72ed43c592f5676",
            "8f4545bd06fb4c51946167751d783e9a"
          ]
        },
        "id": "jF_gcTnMKXNs",
        "outputId": "e17a20e4-59f4-413d-a04d-d77279cd6ca6"
      },
      "source": [
        "import torchvision\n",
        "transform = torchvision.transforms.Compose([torchvision.transforms.ToTensor()]) # transform images to tensors/vectors\n",
        "cifar_trainset = datasets.CIFAR10(root='./data1', train=True, download=True, transform=transform)"
      ],
      "execution_count": 8,
      "outputs": [
        {
          "output_type": "stream",
          "text": [
            "Downloading https://www.cs.toronto.edu/~kriz/cifar-10-python.tar.gz to ./data1/cifar-10-python.tar.gz\n"
          ],
          "name": "stdout"
        },
        {
          "output_type": "display_data",
          "data": {
            "application/vnd.jupyter.widget-view+json": {
              "model_id": "e26476261db9416296c33489cc3fc5ed",
              "version_minor": 0,
              "version_major": 2
            },
            "text/plain": [
              "HBox(children=(FloatProgress(value=0.0, max=170498071.0), HTML(value='')))"
            ]
          },
          "metadata": {
            "tags": []
          }
        },
        {
          "output_type": "stream",
          "text": [
            "\n",
            "Extracting ./data1/cifar-10-python.tar.gz to ./data1\n"
          ],
          "name": "stdout"
        }
      ]
    },
    {
      "cell_type": "code",
      "metadata": {
        "colab": {
          "base_uri": "https://localhost:8080/"
        },
        "id": "LleGzzGrKjmY",
        "outputId": "2fdcb46c-7250-44f7-dc79-572fe589eacd"
      },
      "source": [
        "len(cifar_trainset)"
      ],
      "execution_count": 9,
      "outputs": [
        {
          "output_type": "execute_result",
          "data": {
            "text/plain": [
              "50000"
            ]
          },
          "metadata": {
            "tags": []
          },
          "execution_count": 9
        }
      ]
    },
    {
      "cell_type": "code",
      "metadata": {
        "id": "wLYWsG_zKnyI"
      },
      "source": [
        "from torch.utils.data import DataLoader, random_split"
      ],
      "execution_count": 10,
      "outputs": []
    },
    {
      "cell_type": "code",
      "metadata": {
        "id": "51xN5aJDKo1S"
      },
      "source": [
        "#cifar_trainset = datasets.CIFAR10(root='./data1', train=True, download=True, transform=transform)\n",
        "\n",
        "\n",
        "labels = cifar_trainset.targets # get the labels for the data\n",
        "labels = np.array(labels)\n",
        "\n",
        "idx1 = np.where(labels == 0) # filter on aeroplanes\n",
        "idx2 = np.where(labels == 1) # filter on automobiles\n",
        "\n",
        "# Specify number of datapoints per class (i.e. there will be n pictures of automobiles and n pictures of aeroplanes in the training set)\n",
        "n=100\n",
        "\n",
        "# concatenate the data indices\n",
        "idx = np.concatenate((idx1[0][0:n],idx2[0][0:n])) \n",
        "\n",
        "# create the filtered dataset for our training set\n",
        "cifar_trainset.targets = labels[idx] \n",
        "cifar_trainset.data = cifar_trainset.data[idx]\n",
        "\n",
        "cifar_trainset, valid = random_split(cifar_trainset,[150,50])\n",
        "\n",
        "train_loader = torch.utils.data.DataLoader(cifar_trainset, batch_size=1, shuffle=True)\n",
        "valid_loader = torch.utils.data.DataLoader(valid, batch_size=1, shuffle=True)"
      ],
      "execution_count": 11,
      "outputs": []
    },
    {
      "cell_type": "code",
      "metadata": {
        "id": "pZtFi8B9LmvE"
      },
      "source": [
        "@torch.no_grad()\n",
        "def get_all_preds(model, train_loader):\n",
        "    all_preds = torch.tensor([])\n",
        "    for batch in train_loader:\n",
        "        images, labels = batch\n",
        "\n",
        "        preds = model(images)\n",
        "        all_preds = torch.cat(\n",
        "            (all_preds, preds)\n",
        "            ,dim=0\n",
        "        )\n",
        "    return all_preds"
      ],
      "execution_count": 12,
      "outputs": []
    },
    {
      "cell_type": "code",
      "metadata": {
        "colab": {
          "base_uri": "https://localhost:8080/",
          "height": 130
        },
        "id": "_wUCuMmHLowP",
        "outputId": "7c5c1133-5c3b-40c2-e152-0c008a31cf71"
      },
      "source": [
        "import numpy as np  \n",
        "import matplotlib.pyplot as plt\n",
        "\n",
        "n_samples_show = 6\n",
        "\n",
        "data_iter = iter(train_loader)\n",
        "fig, axes = plt.subplots(nrows=1, ncols=n_samples_show, figsize=(10, 2))\n",
        "\n",
        "while n_samples_show > 0:\n",
        "    images, targets = data_iter.__next__()\n",
        "    images=images.squeeze()\n",
        "  \n",
        "    axes[n_samples_show - 1].imshow(images[0].numpy(), cmap='gray')\n",
        "    axes[n_samples_show - 1].set_xticks([])\n",
        "    axes[n_samples_show - 1].set_yticks([])\n",
        "    axes[n_samples_show - 1].set_title(\"Labeled: {}\".format(targets.item()))\n",
        "    \n",
        "    n_samples_show -= 1"
      ],
      "execution_count": 13,
      "outputs": [
        {
          "output_type": "display_data",
          "data": {
            "image/png": "[encoded data removed]",
            "text/plain": [
              "<Figure size 720x144 with 6 Axes>"
            ]
          },
          "metadata": {
            "tags": []
          }
        }
      ]
    },
    {
      "cell_type": "code",
      "metadata": {
        "id": "tsft9NG8MZZG"
      },
      "source": [
        ""
      ],
      "execution_count": null,
      "outputs": []
    },
    {
      "cell_type": "code",
      "metadata": {
        "colab": {
          "base_uri": "https://localhost:8080/"
        },
        "id": "GGbi3LCbu48T",
        "outputId": "582215f7-59b3-452a-b323-04600d82a81d"
      },
      "source": [
        "import torchvision\n",
        "transform = torchvision.transforms.Compose([torchvision.transforms.ToTensor()]) # transform images to tensors/vectors\n",
        "cifar_testset = datasets.CIFAR10(root='./data1', train=False, download=True, transform=transform)\n",
        "\n",
        "labels = cifar_testset.targets # get the labels for the data\n",
        "labels = np.array(labels)\n",
        "\n",
        "idx1 = np.where(labels == 0) # filter on aeroplanes\n",
        "idx2 = np.where(labels == 1) # filter on automobiles\n",
        "\n",
        "# Specify number of datapoints per class (i.e. there will be n pictures of automobiles and n pictures of aeroplanes in the training set)\n",
        "n=100\n",
        "\n",
        "# concatenate the data indices\n",
        "idx = np.concatenate((idx1[0][0:n],idx2[0][0:n])) \n",
        "\n",
        "# create the filtered dataset for our training set\n",
        "cifar_testset.targets = labels[idx] \n",
        "cifar_testset.data = cifar_testset.data[idx]\n",
        "\n",
        "test_loader = torch.utils.data.DataLoader(cifar_testset, batch_size=1, shuffle=False)"
      ],
      "execution_count": 14,
      "outputs": [
        {
          "output_type": "stream",
          "text": [
            "Files already downloaded and verified\n"
          ],
          "name": "stdout"
        }
      ]
    },
    {
      "cell_type": "code",
      "metadata": {
        "colab": {
          "base_uri": "https://localhost:8080/"
        },
        "id": "6EepnrZFBtZ6",
        "outputId": "b4eeb9c2-6a70-4ed2-89f2-c97b7ca175f2"
      },
      "source": [
        "len(cifar_testset)"
      ],
      "execution_count": 15,
      "outputs": [
        {
          "output_type": "execute_result",
          "data": {
            "text/plain": [
              "200"
            ]
          },
          "metadata": {
            "tags": []
          },
          "execution_count": 15
        }
      ]
    },
    {
      "cell_type": "code",
      "metadata": {
        "id": "_xmz9iOuvfAh"
      },
      "source": [
        "class Net(nn.Module):\n",
        "    def __init__(self):\n",
        "        super(Net, self).__init__()\n",
        "        self.conv1 = nn.Conv2d(3, 10, kernel_size=5)\n",
        "        self.conv2 = nn.Conv2d(10, 20, kernel_size=5)\n",
        "        self.dropout = nn.Dropout2d()\n",
        "        self.fc1 = nn.Linear(500, 500)\n",
        "        self.fc2 = nn.Linear(500, 1)\n",
        "        self.hybrid = Hybrid(qiskit.Aer.get_backend('qasm_simulator'), 100, np.pi / 2)\n",
        "\n",
        "    def forward(self, x):\n",
        "        x = F.relu(self.conv1(x))\n",
        "        x = F.max_pool2d(x, 2)\n",
        "        x = F.relu(self.conv2(x))\n",
        "        x = F.max_pool2d(x, 2)\n",
        "        x = self.dropout(x)\n",
        "        x = x.view(1, -1)\n",
        "        x = F.relu(self.fc1(x))\n",
        "        x = self.fc2(x)\n",
        "        x = self.hybrid(x)\n",
        "        return torch.cat((x, 1 - x), -1)"
      ],
      "execution_count": 15,
      "outputs": []
    },
    {
      "cell_type": "code",
      "metadata": {
        "id": "n13enf8c1tYK"
      },
      "source": [
        ""
      ],
      "execution_count": null,
      "outputs": []
    },
    {
      "cell_type": "code",
      "metadata": {
        "colab": {
          "base_uri": "https://localhost:8080/",
          "height": 366
        },
        "id": "1I5RzKqe1tbC",
        "outputId": "d57e1043-9127-44f9-b7ae-5968738be81e"
      },
      "source": [
        "%matplotlib inline\n",
        "import matplotlib.pyplot as plt\n",
        "model = Net()\n",
        "valid_loss_min = np.Inf # track change in validation loss\n",
        "optimizer = optim.Adam(model.parameters(), lr=0.001)\n",
        "loss_func = nn.NLLLoss()\n",
        "\n",
        "epochs = 5\n",
        "loss_list = []\n",
        "loss_list_V = []\n",
        "\n",
        "#training the model\n",
        "model.train()\n",
        "for epoch in range(epochs):\n",
        "    train_loss = []\n",
        "    for batch_idx, (data, target) in enumerate(train_loader):\n",
        "        optimizer.zero_grad()\n",
        "        # Forward pass\n",
        "        output = model(data)\n",
        "        # Calculating loss\n",
        "        loss = loss_func(output, target)\n",
        "        # Backward pass\n",
        "        loss.backward()\n",
        "        # Optimize the weights\n",
        "        optimizer.step()\n",
        "        \n",
        "        train_loss.append(loss.item())\n",
        "    loss_list.append(sum(train_loss)/len(train_loss))\n",
        "    #print('Training [{:.0f}%]\\tLoss: {:.4f}'.format(100. * (epoch + 1) / epochs, loss_list[-1]))\n",
        "\n",
        "\n",
        "#Validate the model\n",
        "\n",
        "model.eval()\n",
        "for epoch in range(epochs):\n",
        "    valid_loss = []\n",
        "    for batch_idx, (data, target) in enumerate(valid_loader):\n",
        "        optimizer.zero_grad()\n",
        "        # Forward pass\n",
        "        output = model(data)\n",
        "        # Calculating loss\n",
        "        validation_loss = loss_func(output, target)\n",
        "        # Backward pass\n",
        "        validation_loss.backward()\n",
        "        # Optimize the weights\n",
        "        optimizer.step()\n",
        "        \n",
        "        valid_loss.append(validation_loss.item())\n",
        "    loss_list_V.append(sum(valid_loss)/len(valid_loss))\n",
        "    #print('Training [{:.0f}%]\\tLoss: {:.4f}'.format(100. * (epoch + 1) / epochs, loss_list_V[-1]))\n",
        "    print('Epoch: {} \\tTraining Loss: {:.6f} \\tValidation Loss: {:.6f}'.format(\n",
        "        epoch, loss_list[-1], loss_list_V[-1]))\n",
        "\n",
        "if (validation_loss)<=(valid_loss_min):\n",
        "        print('Validation loss decreased ({:.6f} --> {:.6f}).  Saving model ...'.format(\n",
        "        valid_loss_min,\n",
        "        validation_loss))\n",
        "        torch.save(model.state_dict(), 'model_cifar.pt')\n",
        "        valid_loss_min = validation_loss\n",
        "\n",
        "\n",
        "#Now plotting the training graph\n",
        "plt.plot(loss_list,label='Training Loss')  \n",
        "plt.plot(loss_list_V,label='Validation Loss')  \n",
        "plt.legend()  \n",
        "plt.show() "
      ],
      "execution_count": 22,
      "outputs": [
        {
          "output_type": "stream",
          "text": [
            "Epoch: 0 \tTraining Loss: -0.626067 \tValidation Loss: -0.637600\n",
            "Epoch: 1 \tTraining Loss: -0.626067 \tValidation Loss: -0.733400\n",
            "Epoch: 2 \tTraining Loss: -0.626067 \tValidation Loss: -0.742800\n",
            "Epoch: 3 \tTraining Loss: -0.626067 \tValidation Loss: -0.802200\n",
            "Epoch: 4 \tTraining Loss: -0.626067 \tValidation Loss: -0.835800\n",
            "Validation loss decreased (inf --> -0.740000).  Saving model ...\n"
          ],
          "name": "stdout"
        },
        {
          "output_type": "display_data",
          "data": {
            "image/png": "[encoded data removed]",
            "text/plain": [
              "<Figure size 432x288 with 1 Axes>"
            ]
          },
          "metadata": {
            "tags": [],
            "needs_background": "light"
          }
        }
      ]
    },
    {
      "cell_type": "code",
      "metadata": {
        "colab": {
          "base_uri": "https://localhost:8080/"
        },
        "id": "weUsOEF81td4",
        "outputId": "52efdadd-a54c-4324-f04c-5391dcc904fd"
      },
      "source": [
        "model.load_state_dict(torch.load('model_cifar.pt'))"
      ],
      "execution_count": 23,
      "outputs": [
        {
          "output_type": "execute_result",
          "data": {
            "text/plain": [
              "<All keys matched successfully>"
            ]
          },
          "metadata": {
            "tags": []
          },
          "execution_count": 23
        }
      ]
    },
    {
      "cell_type": "code",
      "metadata": {
        "colab": {
          "base_uri": "https://localhost:8080/"
        },
        "id": "ZQNiaglJ5-sg",
        "outputId": "18aa78aa-daf0-4e00-d899-81bb0b1e703b"
      },
      "source": [
        "total_loss=[]\n",
        "model.eval()\n",
        "with torch.no_grad():\n",
        "    \n",
        "    correct = 0\n",
        "    for batch_idx, (data, target) in enumerate(test_loader):\n",
        "        output = model(data)\n",
        "        \n",
        "        pred = output.argmax(dim=1, keepdim=True) \n",
        "        correct += pred.eq(target.view_as(pred)).sum().item()\n",
        "        \n",
        "        loss = loss_func(output, target)\n",
        "        total_loss.append(loss.item())\n",
        "        \n",
        "    print('Performance on train data:\\n\\tLoss: {:.4f}\\n\\tAccuracy: {:.1f}%'.format(\n",
        "        sum(total_loss) / len(total_loss),\n",
        "        correct / len(test_loader) * 100)\n",
        "        )\n"
      ],
      "execution_count": 24,
      "outputs": [
        {
          "output_type": "stream",
          "text": [
            "Performance on train data:\n",
            "\tLoss: -0.7084\n",
            "\tAccuracy: 75.0%\n"
          ],
          "name": "stdout"
        }
      ]
    },
    {
      "cell_type": "code",
      "metadata": {
        "colab": {
          "base_uri": "https://localhost:8080/",
          "height": 332
        },
        "id": "wr0yuenn5-2O",
        "outputId": "6f1871f2-85c6-4931-fc2d-eeaac95aa5ed"
      },
      "source": [
        "%matplotlib inline\n",
        "import matplotlib.pyplot as plt\n",
        "model = Net()\n",
        "valid_loss_min = np.Inf # track change in validation loss\n",
        "optimizer = optim.Adam(model.parameters(), lr=0.001)\n",
        "loss_func = nn.NLLLoss()\n",
        "\n",
        "epochs = 3\n",
        "loss_list = []\n",
        "loss_list_V = []\n",
        "\n",
        "#training the model\n",
        "model.train()\n",
        "for epoch in range(epochs):\n",
        "    train_loss = []\n",
        "    for batch_idx, (data, target) in enumerate(train_loader):\n",
        "        optimizer.zero_grad()\n",
        "        # Forward pass\n",
        "        output = model(data)\n",
        "        # Calculating loss\n",
        "        loss = loss_func(output, target)\n",
        "        # Backward pass\n",
        "        loss.backward()\n",
        "        # Optimize the weights\n",
        "        optimizer.step()\n",
        "        \n",
        "        train_loss.append(loss.item())\n",
        "    loss_list.append(sum(train_loss)/len(train_loss))\n",
        "    #print('Training [{:.0f}%]\\tLoss: {:.4f}'.format(100. * (epoch + 1) / epochs, loss_list[-1]))\n",
        "\n",
        "\n",
        "#Validate the model\n",
        "\n",
        "model.eval()\n",
        "for epoch in range(epochs):\n",
        "    valid_loss = []\n",
        "    for batch_idx, (data, target) in enumerate(valid_loader):\n",
        "        optimizer.zero_grad()\n",
        "        # Forward pass\n",
        "        output = model(data)\n",
        "        # Calculating loss\n",
        "        validation_loss = loss_func(output, target)\n",
        "        # Backward pass\n",
        "        validation_loss.backward()\n",
        "        # Optimize the weights\n",
        "        optimizer.step()\n",
        "        \n",
        "        valid_loss.append(validation_loss.item())\n",
        "    loss_list_V.append(sum(valid_loss)/len(valid_loss))\n",
        "    #print('Training [{:.0f}%]\\tLoss: {:.4f}'.format(100. * (epoch + 1) / epochs, loss_list_V[-1]))\n",
        "    print('Epoch: {} \\tTraining Loss: {:.6f} \\tValidation Loss: {:.6f}'.format(\n",
        "        epoch, loss_list[-1], loss_list_V[-1]))\n",
        "\n",
        "if (validation_loss)<=(valid_loss_min):\n",
        "        print('Validation loss decreased ({:.6f} --> {:.6f}).  Saving model ...'.format(\n",
        "        valid_loss_min,\n",
        "        validation_loss))\n",
        "        torch.save(model.state_dict(), 'model_cifar.pt')\n",
        "        valid_loss_min = validation_loss\n",
        "\n",
        "\n",
        "#Now plotting the training graph\n",
        "plt.plot(loss_list,label='Training Loss')  \n",
        "plt.plot(loss_list_V,label='Validation Loss')  \n",
        "plt.legend()  \n",
        "plt.show() "
      ],
      "execution_count": 25,
      "outputs": [
        {
          "output_type": "stream",
          "text": [
            "Epoch: 0 \tTraining Loss: -0.707400 \tValidation Loss: -0.730200\n",
            "Epoch: 1 \tTraining Loss: -0.707400 \tValidation Loss: -0.806400\n",
            "Epoch: 2 \tTraining Loss: -0.707400 \tValidation Loss: -0.814400\n",
            "Validation loss decreased (inf --> -0.920000).  Saving model ...\n"
          ],
          "name": "stdout"
        },
        {
          "output_type": "display_data",
          "data": {
            "image/png": "[encoded data removed]",
            "text/plain": [
              "<Figure size 432x288 with 1 Axes>"
            ]
          },
          "metadata": {
            "tags": [],
            "needs_background": "light"
          }
        }
      ]
    },
    {
      "cell_type": "code",
      "metadata": {
        "colab": {
          "base_uri": "https://localhost:8080/"
        },
        "id": "OPoZqaAE-04a",
        "outputId": "2eb8dbf9-bdb8-4fb5-d00d-2efd5ef71ec9"
      },
      "source": [
        "total_loss=[]\n",
        "model.eval()\n",
        "with torch.no_grad():\n",
        "    \n",
        "    correct = 0\n",
        "    for batch_idx, (data, target) in enumerate(test_loader):\n",
        "        output = model(data)\n",
        "        \n",
        "        pred = output.argmax(dim=1, keepdim=True) \n",
        "        correct += pred.eq(target.view_as(pred)).sum().item()\n",
        "        \n",
        "        loss = loss_func(output, target)\n",
        "        total_loss.append(loss.item())\n",
        "        \n",
        "    print('Performance on train data:\\n\\tLoss: {:.4f}\\n\\tAccuracy: {:.1f}%'.format(\n",
        "        sum(total_loss) / len(total_loss),\n",
        "        correct / len(test_loader) * 100)\n",
        "        )"
      ],
      "execution_count": 26,
      "outputs": [
        {
          "output_type": "stream",
          "text": [
            "Performance on train data:\n",
            "\tLoss: -0.6828\n",
            "\tAccuracy: 68.0%\n"
          ],
          "name": "stdout"
        }
      ]
    },
    {
      "cell_type": "markdown",
      "metadata": {
        "id": "hjli-TaC-6BW"
      },
      "source": [
        "# With an LR of 0.0008 and epochs =15"
      ]
    },
    {
      "cell_type": "code",
      "metadata": {
        "colab": {
          "base_uri": "https://localhost:8080/",
          "height": 534
        },
        "id": "hRan7SL3-6ZN",
        "outputId": "9d8ca8cf-f733-4c82-d599-683519032b75"
      },
      "source": [
        "%matplotlib inline\n",
        "import matplotlib.pyplot as plt\n",
        "model = Net()\n",
        "valid_loss_min = np.Inf # track change in validation loss\n",
        "optimizer = optim.Adam(model.parameters(), lr=0.0008)\n",
        "loss_func = nn.NLLLoss()\n",
        "\n",
        "epochs = 15\n",
        "loss_list = []\n",
        "loss_list_V = []\n",
        "\n",
        "#training the model\n",
        "model.train()\n",
        "for epoch in range(epochs):\n",
        "    train_loss = []\n",
        "    for batch_idx, (data, target) in enumerate(train_loader):\n",
        "        optimizer.zero_grad()\n",
        "        # Forward pass\n",
        "        output = model(data)\n",
        "        # Calculating loss\n",
        "        loss = loss_func(output, target)\n",
        "        # Backward pass\n",
        "        loss.backward()\n",
        "        # Optimize the weights\n",
        "        optimizer.step()\n",
        "        \n",
        "        train_loss.append(loss.item())\n",
        "    loss_list.append(sum(train_loss)/len(train_loss))\n",
        "    #print('Training [{:.0f}%]\\tLoss: {:.4f}'.format(100. * (epoch + 1) / epochs, loss_list[-1]))\n",
        "\n",
        "\n",
        "#Validate the model\n",
        "\n",
        "model.eval()\n",
        "for epoch in range(epochs):\n",
        "    valid_loss = []\n",
        "    for batch_idx, (data, target) in enumerate(valid_loader):\n",
        "        optimizer.zero_grad()\n",
        "        # Forward pass\n",
        "        output = model(data)\n",
        "        # Calculating loss\n",
        "        validation_loss = loss_func(output, target)\n",
        "        # Backward pass\n",
        "        validation_loss.backward()\n",
        "        # Optimize the weights\n",
        "        optimizer.step()\n",
        "        \n",
        "        valid_loss.append(validation_loss.item())\n",
        "    loss_list_V.append(sum(valid_loss)/len(valid_loss))\n",
        "    #print('Training [{:.0f}%]\\tLoss: {:.4f}'.format(100. * (epoch + 1) / epochs, loss_list_V[-1]))\n",
        "    print('Epoch: {} \\tTraining Loss: {:.6f} \\tValidation Loss: {:.6f}'.format(\n",
        "        epoch, loss_list[-1], loss_list_V[-1]))\n",
        "\n",
        "if (validation_loss)<=(valid_loss_min):\n",
        "        print('Validation loss decreased ({:.6f} --> {:.6f}).  Saving model ...'.format(\n",
        "        valid_loss_min,\n",
        "        validation_loss))\n",
        "        torch.save(model.state_dict(), 'model_cifar.pt')\n",
        "        valid_loss_min = validation_loss\n",
        "\n",
        "\n",
        "#Now plotting the training graph\n",
        "plt.plot(loss_list,label='Training Loss')  \n",
        "plt.plot(loss_list_V,label='Validation Loss')  \n",
        "plt.legend()  \n",
        "plt.show() "
      ],
      "execution_count": 29,
      "outputs": [
        {
          "output_type": "stream",
          "text": [
            "Epoch: 0 \tTraining Loss: -0.788600 \tValidation Loss: -0.750600\n",
            "Epoch: 1 \tTraining Loss: -0.788600 \tValidation Loss: -0.816400\n",
            "Epoch: 2 \tTraining Loss: -0.788600 \tValidation Loss: -0.865800\n",
            "Epoch: 3 \tTraining Loss: -0.788600 \tValidation Loss: -0.900200\n",
            "Epoch: 4 \tTraining Loss: -0.788600 \tValidation Loss: -0.923800\n",
            "Epoch: 5 \tTraining Loss: -0.788600 \tValidation Loss: -0.931600\n",
            "Epoch: 6 \tTraining Loss: -0.788600 \tValidation Loss: -0.943400\n",
            "Epoch: 7 \tTraining Loss: -0.788600 \tValidation Loss: -0.962000\n",
            "Epoch: 8 \tTraining Loss: -0.788600 \tValidation Loss: -0.974000\n",
            "Epoch: 9 \tTraining Loss: -0.788600 \tValidation Loss: -0.985000\n",
            "Epoch: 10 \tTraining Loss: -0.788600 \tValidation Loss: -0.987600\n",
            "Epoch: 11 \tTraining Loss: -0.788600 \tValidation Loss: -0.988000\n",
            "Epoch: 12 \tTraining Loss: -0.788600 \tValidation Loss: -0.994200\n",
            "Epoch: 13 \tTraining Loss: -0.788600 \tValidation Loss: -0.992400\n",
            "Epoch: 14 \tTraining Loss: -0.788600 \tValidation Loss: -0.994400\n",
            "Validation loss decreased (inf --> -1.000000).  Saving model ...\n"
          ],
          "name": "stdout"
        },
        {
          "output_type": "display_data",
          "data": {
            "image/png": "[encoded data removed]",
            "text/plain": [
              "<Figure size 432x288 with 1 Axes>"
            ]
          },
          "metadata": {
            "tags": [],
            "needs_background": "light"
          }
        }
      ]
    },
    {
      "cell_type": "code",
      "metadata": {
        "colab": {
          "base_uri": "https://localhost:8080/"
        },
        "id": "yhyQgtzA_6hC",
        "outputId": "8359e9c7-0c1b-4db6-c273-c436f7e03253"
      },
      "source": [
        "model.load_state_dict(torch.load('model_cifar.pt'))"
      ],
      "execution_count": 30,
      "outputs": [
        {
          "output_type": "execute_result",
          "data": {
            "text/plain": [
              "<All keys matched successfully>"
            ]
          },
          "metadata": {
            "tags": []
          },
          "execution_count": 30
        }
      ]
    },
    {
      "cell_type": "code",
      "metadata": {
        "colab": {
          "base_uri": "https://localhost:8080/"
        },
        "id": "3_gnDGca_6nQ",
        "outputId": "7dfedf62-539d-4754-86b1-473563420e9d"
      },
      "source": [
        "total_loss=[]\n",
        "model.eval()\n",
        "with torch.no_grad():\n",
        "    \n",
        "    correct = 0\n",
        "    for batch_idx, (data, target) in enumerate(test_loader):\n",
        "        output = model(data)\n",
        "        \n",
        "        pred = output.argmax(dim=1, keepdim=True) \n",
        "        correct += pred.eq(target.view_as(pred)).sum().item()\n",
        "        \n",
        "        loss = loss_func(output, target)\n",
        "        total_loss.append(loss.item())\n",
        "        \n",
        "    print('Performance on test data:\\n\\tLoss: {:.4f}\\n\\tAccuracy: {:.1f}%'.format(\n",
        "        sum(total_loss) / len(total_loss),\n",
        "        correct / len(test_loader) * 100)\n",
        "        )"
      ],
      "execution_count": 31,
      "outputs": [
        {
          "output_type": "stream",
          "text": [
            "Performance on train data:\n",
            "\tLoss: -0.7916\n",
            "\tAccuracy: 81.5%\n"
          ],
          "name": "stdout"
        }
      ]
    },
    {
      "cell_type": "markdown",
      "metadata": {
        "id": "RsR5Ra-C6Jnt"
      },
      "source": [
        ""
      ]
    },
    {
      "cell_type": "markdown",
      "metadata": {
        "id": "cX5zJA6XEyoY"
      },
      "source": [
        ""
      ]
    },
    {
      "cell_type": "code",
      "metadata": {
        "colab": {
          "base_uri": "https://localhost:8080/",
          "height": 702
        },
        "id": "e5IR5KKPEwgw",
        "outputId": "0b93dbfd-71ed-42a0-f700-30a221b073f6"
      },
      "source": [
        "%matplotlib inline\n",
        "import matplotlib.pyplot as plt\n",
        "model = Net()\n",
        "valid_loss_min = np.Inf # track change in validation loss\n",
        "optimizer = optim.Adam(model.parameters(), lr=0.0008)\n",
        "loss_func = nn.NLLLoss()\n",
        "\n",
        "epochs = 25\n",
        "loss_list = []\n",
        "loss_list_V = []\n",
        "\n",
        "#training the model\n",
        "model.train()\n",
        "for epoch in range(epochs):\n",
        "    train_loss = []\n",
        "    for batch_idx, (data, target) in enumerate(train_loader):\n",
        "        optimizer.zero_grad()\n",
        "        # Forward pass\n",
        "        output = model(data)\n",
        "        # Calculating loss\n",
        "        loss = loss_func(output, target)\n",
        "        # Backward pass\n",
        "        loss.backward()\n",
        "        # Optimize the weights\n",
        "        optimizer.step()\n",
        "        \n",
        "        train_loss.append(loss.item())\n",
        "    loss_list.append(sum(train_loss)/len(train_loss))\n",
        "    #print('Training [{:.0f}%]\\tLoss: {:.4f}'.format(100. * (epoch + 1) / epochs, loss_list[-1]))\n",
        "\n",
        "\n",
        "#Validate the model\n",
        "\n",
        "model.eval()\n",
        "for epoch in range(epochs):\n",
        "    valid_loss = []\n",
        "    for batch_idx, (data, target) in enumerate(valid_loader):\n",
        "        optimizer.zero_grad()\n",
        "        # Forward pass\n",
        "        output = model(data)\n",
        "        # Calculating loss\n",
        "        validation_loss = loss_func(output, target)\n",
        "        # Backward pass\n",
        "        validation_loss.backward()\n",
        "        # Optimize the weights\n",
        "        optimizer.step()\n",
        "        \n",
        "        valid_loss.append(validation_loss.item())\n",
        "    loss_list_V.append(sum(valid_loss)/len(valid_loss))\n",
        "    #print('Training [{:.0f}%]\\tLoss: {:.4f}'.format(100. * (epoch + 1) / epochs, loss_list_V[-1]))\n",
        "    print('Epoch: {} \\tTraining Loss: {:.6f} \\tValidation Loss: {:.6f}'.format(\n",
        "        epoch, loss_list[-1], loss_list_V[-1]))\n",
        "\n",
        "if (validation_loss)<=(valid_loss_min):\n",
        "        print('Validation loss decreased ({:.6f} --> {:.6f}).  Saving model ...'.format(\n",
        "        valid_loss_min,\n",
        "        validation_loss))\n",
        "        torch.save(model.state_dict(), 'model_cifar.pt')\n",
        "        valid_loss_min = validation_loss\n",
        "\n",
        "\n",
        "#Now plotting the training graph\n",
        "plt.plot(loss_list,label='Training Loss')  \n",
        "plt.plot(loss_list_V,label='Validation Loss')  \n",
        "plt.legend()  \n",
        "plt.show() "
      ],
      "execution_count": 32,
      "outputs": [
        {
          "output_type": "stream",
          "text": [
            "Epoch: 0 \tTraining Loss: -0.636267 \tValidation Loss: -0.446000\n",
            "Epoch: 1 \tTraining Loss: -0.636267 \tValidation Loss: -0.582200\n",
            "Epoch: 2 \tTraining Loss: -0.636267 \tValidation Loss: -0.617800\n",
            "Epoch: 3 \tTraining Loss: -0.636267 \tValidation Loss: -0.645800\n",
            "Epoch: 4 \tTraining Loss: -0.636267 \tValidation Loss: -0.682000\n",
            "Epoch: 5 \tTraining Loss: -0.636267 \tValidation Loss: -0.713800\n",
            "Epoch: 6 \tTraining Loss: -0.636267 \tValidation Loss: -0.761400\n",
            "Epoch: 7 \tTraining Loss: -0.636267 \tValidation Loss: -0.775600\n",
            "Epoch: 8 \tTraining Loss: -0.636267 \tValidation Loss: -0.792000\n",
            "Epoch: 9 \tTraining Loss: -0.636267 \tValidation Loss: -0.808400\n",
            "Epoch: 10 \tTraining Loss: -0.636267 \tValidation Loss: -0.839200\n",
            "Epoch: 11 \tTraining Loss: -0.636267 \tValidation Loss: -0.846200\n",
            "Epoch: 12 \tTraining Loss: -0.636267 \tValidation Loss: -0.845000\n",
            "Epoch: 13 \tTraining Loss: -0.636267 \tValidation Loss: -0.883000\n",
            "Epoch: 14 \tTraining Loss: -0.636267 \tValidation Loss: -0.886400\n",
            "Epoch: 15 \tTraining Loss: -0.636267 \tValidation Loss: -0.901000\n",
            "Epoch: 16 \tTraining Loss: -0.636267 \tValidation Loss: -0.920400\n",
            "Epoch: 17 \tTraining Loss: -0.636267 \tValidation Loss: -0.950400\n",
            "Epoch: 18 \tTraining Loss: -0.636267 \tValidation Loss: -0.960000\n",
            "Epoch: 19 \tTraining Loss: -0.636267 \tValidation Loss: -0.962400\n",
            "Epoch: 20 \tTraining Loss: -0.636267 \tValidation Loss: -0.955400\n",
            "Epoch: 21 \tTraining Loss: -0.636267 \tValidation Loss: -0.956400\n",
            "Epoch: 22 \tTraining Loss: -0.636267 \tValidation Loss: -0.968600\n",
            "Epoch: 23 \tTraining Loss: -0.636267 \tValidation Loss: -0.974000\n",
            "Epoch: 24 \tTraining Loss: -0.636267 \tValidation Loss: -0.976000\n",
            "Validation loss decreased (inf --> -1.000000).  Saving model ...\n"
          ],
          "name": "stdout"
        },
        {
          "output_type": "display_data",
          "data": {
            "image/png": "[encoded data removed]",
            "text/plain": [
              "<Figure size 432x288 with 1 Axes>"
            ]
          },
          "metadata": {
            "tags": [],
            "needs_background": "light"
          }
        }
      ]
    },
    {
      "cell_type": "code",
      "metadata": {
        "id": "D8Lqz4iaExfc"
      },
      "source": [
        ""
      ],
      "execution_count": null,
      "outputs": []
    },
    {
      "cell_type": "code",
      "metadata": {
        "id": "lQomhusmExh7"
      },
      "source": [
        ""
      ],
      "execution_count": null,
      "outputs": []
    },
    {
      "cell_type": "code",
      "metadata": {
        "id": "V1cBAj2ZExkq"
      },
      "source": [
        ""
      ],
      "execution_count": null,
      "outputs": []
    },
    {
      "cell_type": "code",
      "metadata": {
        "id": "xj5scsCJExnQ"
      },
      "source": [
        ""
      ],
      "execution_count": null,
      "outputs": []
    },
    {
      "cell_type": "code",
      "metadata": {
        "id": "giXq6ef9Exrf"
      },
      "source": [
        ""
      ],
      "execution_count": null,
      "outputs": []
    },
    {
      "cell_type": "code",
      "metadata": {
        "id": "ESMyrp2v6J3g"
      },
      "source": [
        "%matplotlib inline\n",
        "import matplotlib.pyplot as plt\n",
        "model = Net()\n",
        "valid_loss_min = np.Inf # track change in validation loss\n",
        "optimizer = optim.Adam(model.parameters(), lr=0.001)\n",
        "loss_func = nn.NLLLoss()\n",
        "\n",
        "epochs = 5\n",
        "loss_list = []\n",
        "loss_list_V = []\n",
        "\n",
        "#training the model\n",
        "model.train()\n",
        "for epoch in range(epochs):\n",
        "    train_loss = []\n",
        "    for batch_idx, (data, target) in enumerate(train_loader):\n",
        "        optimizer.zero_grad()\n",
        "        # Forward pass\n",
        "        output = model(data)\n",
        "        # Calculating loss\n",
        "        loss = loss_func(output, target)\n",
        "        # Backward pass\n",
        "        loss.backward()\n",
        "        # Optimize the weights\n",
        "        optimizer.step()\n",
        "        \n",
        "        train_loss.append(loss.item())\n",
        "    loss_list.append(sum(train_loss)/len(train_loss))\n",
        "    #print('Training [{:.0f}%]\\tLoss: {:.4f}'.format(100. * (epoch + 1) / epochs, loss_list[-1]))\n",
        "\n",
        "\n",
        "#Validate the model\n",
        "\n",
        "model.eval()\n",
        "for epoch in range(epochs):\n",
        "    valid_loss = []\n",
        "    for batch_idx, (data, target) in enumerate(valid_loader):\n",
        "        optimizer.zero_grad()\n",
        "        # Forward pass\n",
        "        output = model(data)\n",
        "        # Calculating loss\n",
        "        validation_loss = loss_func(output, target)\n",
        "        # Backward pass\n",
        "        validation_loss.backward()\n",
        "        # Optimize the weights\n",
        "        optimizer.step()\n",
        "        \n",
        "        valid_loss.append(validation_loss.item())\n",
        "    loss_list_V.append(sum(valid_loss)/len(valid_loss))\n",
        "    #print('Training [{:.0f}%]\\tLoss: {:.4f}'.format(100. * (epoch + 1) / epochs, loss_list_V[-1]))\n",
        "    print('Epoch: {} \\tTraining Loss: {:.6f} \\tValidation Loss: {:.6f}'.format(\n",
        "        epoch, loss_list[-1], loss_list_V[-1]))\n",
        "\n",
        "if (validation_loss)<=(valid_loss_min):\n",
        "        print('Validation loss decreased ({:.6f} --> {:.6f}).  Saving model ...'.format(\n",
        "        valid_loss_min,\n",
        "        validation_loss))\n",
        "        torch.save(model.state_dict(), 'model_cifar.pt')\n",
        "        valid_loss_min = validation_loss\n",
        "\n",
        "\n",
        "#Now plotting the training graph\n",
        "plt.plot(loss_list,label='Training Loss')  \n",
        "plt.plot(loss_list_V,label='Validation Loss')  \n",
        "plt.legend()  \n",
        "plt.show() "
      ],
      "execution_count": null,
      "outputs": []
    },
    {
      "cell_type": "markdown",
      "metadata": {
        "id": "N-UdFIAH6M-r"
      },
      "source": [
        ""
      ]
    },
    {
      "cell_type": "code",
      "metadata": {
        "id": "u0q7JvHyxNLz"
      },
      "source": [
        "%matplotlib inline\n",
        "import matplotlib.pyplot as plt\n",
        "model = Net()\n",
        "optimizer = optim.Adam(model.parameters(), lr=0.001)\n",
        "loss_func = nn.NLLLoss()\n",
        "\n",
        "epochs = 5\n",
        "loss_list = []\n",
        "loss_list_V = []\n",
        "\n",
        "#training the model\n",
        "model.train()\n",
        "for epoch in range(epochs):\n",
        "    train_loss = []\n",
        "    for batch_idx, (data, target) in enumerate(train_loader):\n",
        "        optimizer.zero_grad()\n",
        "        # Forward pass\n",
        "        output = model(data)\n",
        "        # Calculating loss\n",
        "        loss = loss_func(output, target)\n",
        "        # Backward pass\n",
        "        loss.backward()\n",
        "        # Optimize the weights\n",
        "        optimizer.step()\n",
        "        \n",
        "        train_loss.append(loss.item())\n",
        "    loss_list.append(sum(train_loss)/len(train_loss))\n",
        "    #print('Training [{:.0f}%]\\tLoss: {:.4f}'.format(100. * (epoch + 1) / epochs, loss_list[-1]))\n",
        "\n",
        "\n",
        "#Validate the model\n",
        "\n",
        "model.eval()\n",
        "for epoch in range(epochs):\n",
        "    valid_loss = []\n",
        "    for batch_idx, (data, target) in enumerate(valid_loader):\n",
        "        optimizer.zero_grad()\n",
        "        # Forward pass\n",
        "        output = model(data)\n",
        "        # Calculating loss\n",
        "        validation_loss = loss_func(output, target)\n",
        "        # Backward pass\n",
        "        validation_loss.backward()\n",
        "        # Optimize the weights\n",
        "        optimizer.step()\n",
        "        \n",
        "        valid_loss.append(validation_loss.item())\n",
        "    loss_list_V.append(sum(valid_loss)/len(valid_loss))\n",
        "    #print('Training [{:.0f}%]\\tLoss: {:.4f}'.format(100. * (epoch + 1) / epochs, loss_list_V[-1]))\n",
        "    print('Epoch: {} \\tTraining Loss: {:.6f} \\tValidation Loss: {:.6f}'.format(\n",
        "        epoch, loss_list[-1], loss_list_V[-1]))\n",
        "\n",
        "\n",
        "\n",
        "\n",
        "#Now plotting the training graph\n",
        "plt.plot(loss_list,label='Training Loss')  \n",
        "plt.plot(loss_list_V,label='Validation Loss')  \n",
        "plt.legend()  \n",
        "plt.show() "
      ],
      "execution_count": null,
      "outputs": []
    },
    {
      "cell_type": "code",
      "metadata": {
        "id": "OpOsgNA1OFjq"
      },
      "source": [
        ""
      ],
      "execution_count": null,
      "outputs": []
    },
    {
      "cell_type": "code",
      "metadata": {
        "colab": {
          "base_uri": "https://localhost:8080/",
          "height": 402
        },
        "id": "Ur6t9UeqMlpa",
        "outputId": "2679f86f-6829-439e-861d-19616348b15a"
      },
      "source": [
        "%matplotlib inline\n",
        "import matplotlib.pyplot as plt\n",
        "model = Net()\n",
        "optimizer = optim.Adam(model.parameters(), lr=0.001)\n",
        "loss_func = nn.NLLLoss()\n",
        "\n",
        "epochs = 5\n",
        "loss_list = []\n",
        "loss_list_V = []\n",
        "\n",
        "#training the model\n",
        "model.train()\n",
        "for epoch in range(epochs):\n",
        "    train_loss = []\n",
        "    for batch_idx, (data, target) in enumerate(train_loader):\n",
        "        optimizer.zero_grad()\n",
        "        # Forward pass\n",
        "        output = model(data)\n",
        "        # Calculating loss\n",
        "        loss = loss_func(output, target)\n",
        "        # Backward pass\n",
        "        loss.backward()\n",
        "        # Optimize the weights\n",
        "        optimizer.step()\n",
        "        \n",
        "        train_loss.append(loss.item())\n",
        "    loss_list.append(sum(train_loss)/len(train_loss))\n",
        "    #print('Training [{:.0f}%]\\tLoss: {:.4f}'.format(100. * (epoch + 1) / epochs, loss_list[-1]))\n",
        "\n",
        "\n",
        "#Validate the model\n",
        "\n",
        "model.eval()\n",
        "for epoch in range(epochs):\n",
        "    valid_loss = []\n",
        "    for batch_idx, (data, target) in enumerate(valid_loader):\n",
        "        optimizer.zero_grad()\n",
        "        # Forward pass\n",
        "        output = model(data)\n",
        "        # Calculating loss\n",
        "        validation_loss = loss_func(output, target)\n",
        "        # Backward pass\n",
        "        validation_loss.backward()\n",
        "        # Optimize the weights\n",
        "        optimizer.step()\n",
        "        \n",
        "        valid_loss.append(validation_loss.item())\n",
        "    loss_list_V.append(sum(valid_loss)/len(valid_loss))\n",
        "    #print('Training [{:.0f}%]\\tLoss: {:.4f}'.format(100. * (epoch + 1) / epochs, loss_list_V[-1]))\n",
        "    print('Epoch: {} \\tTraining Loss: {:.6f} \\tValidation Loss: {:.6f}'.format(\n",
        "        epoch, loss_list[-1], loss_list_V[-1]))\n",
        "\n",
        "\n",
        "\n",
        "\n",
        "#Now plotting the training graph\n",
        "plt.plot(loss_list,label='Training Loss')  \n",
        "plt.plot(loss_list_V,label='Validation Loss')  \n",
        "plt.legend()  \n",
        "plt.show() \n"
      ],
      "execution_count": 17,
      "outputs": [
        {
          "output_type": "stream",
          "text": [
            "/usr/local/lib/python3.7/dist-packages/torch/nn/functional.py:718: UserWarning: Named tensors and all their associated APIs are an experimental feature and subject to change. Please do not use them for anything important until they are released as stable. (Triggered internally at  /pytorch/c10/core/TensorImpl.h:1156.)\n",
            "  return torch.max_pool2d(input, kernel_size, stride, padding, dilation, ceil_mode)\n"
          ],
          "name": "stderr"
        },
        {
          "output_type": "stream",
          "text": [
            "Epoch: 0 \tTraining Loss: -0.558867 \tValidation Loss: -0.567200\n",
            "Epoch: 1 \tTraining Loss: -0.558867 \tValidation Loss: -0.617000\n",
            "Epoch: 2 \tTraining Loss: -0.558867 \tValidation Loss: -0.581200\n",
            "Epoch: 3 \tTraining Loss: -0.558867 \tValidation Loss: -0.605000\n",
            "Epoch: 4 \tTraining Loss: -0.558867 \tValidation Loss: -0.565800\n"
          ],
          "name": "stdout"
        },
        {
          "output_type": "display_data",
          "data": {
            "image/png": "[encoded data removed]",
            "text/plain": [
              "<Figure size 432x288 with 1 Axes>"
            ]
          },
          "metadata": {
            "tags": [],
            "needs_background": "light"
          }
        }
      ]
    },
    {
      "cell_type": "code",
      "metadata": {
        "colab": {
          "base_uri": "https://localhost:8080/"
        },
        "id": "bo6vTTvimIj4",
        "outputId": "f2020e35-30ca-4e78-dbdd-0ebae1740945"
      },
      "source": [
        "total_loss=[]\n",
        "model.eval()\n",
        "with torch.no_grad():\n",
        "    \n",
        "    correct = 0\n",
        "    for batch_idx, (data, target) in enumerate(test_loader):\n",
        "        output = model(data)\n",
        "        \n",
        "        pred = output.argmax(dim=1, keepdim=True) \n",
        "        correct += pred.eq(target.view_as(pred)).sum().item()\n",
        "        \n",
        "        loss = loss_func(output, target)\n",
        "        total_loss.append(loss.item())\n",
        "        \n",
        "    print('Performance on train data:\\n\\tLoss: {:.4f}\\n\\tAccuracy: {:.1f}%'.format(\n",
        "        sum(total_loss) / len(total_loss),\n",
        "        correct / len(test_loader) * 100)\n",
        "        )\n"
      ],
      "execution_count": 18,
      "outputs": [
        {
          "output_type": "stream",
          "text": [
            "Performance on train data:\n",
            "\tLoss: -0.5689\n",
            "\tAccuracy: 61.5%\n"
          ],
          "name": "stdout"
        }
      ]
    },
    {
      "cell_type": "markdown",
      "metadata": {
        "id": "3wWAtgkDoJKX"
      },
      "source": [
        ""
      ]
    },
    {
      "cell_type": "code",
      "metadata": {
        "colab": {
          "base_uri": "https://localhost:8080/",
          "height": 349
        },
        "id": "M3fh0tOGoJjc",
        "outputId": "6f517a34-23d9-44e7-cf12-96b7beb1ceb5"
      },
      "source": [
        "model = Net()\n",
        "optimizer = optim.Adam(model.parameters(), lr=0.0005)\n",
        "loss_func = nn.NLLLoss()\n",
        "\n",
        "epochs = 5\n",
        "loss_list = []\n",
        "loss_list_V = []\n",
        "\n",
        "#training the model\n",
        "model.train()\n",
        "for epoch in range(epochs):\n",
        "    train_loss = []\n",
        "    for batch_idx, (data, target) in enumerate(train_loader):\n",
        "        optimizer.zero_grad()\n",
        "        # Forward pass\n",
        "        output = model(data)\n",
        "        # Calculating loss\n",
        "        loss = loss_func(output, target)\n",
        "        # Backward pass\n",
        "        loss.backward()\n",
        "        # Optimize the weights\n",
        "        optimizer.step()\n",
        "        \n",
        "        train_loss.append(loss.item())\n",
        "    loss_list.append(sum(train_loss)/len(train_loss))\n",
        "    #print('Training [{:.0f}%]\\tLoss: {:.4f}'.format(100. * (epoch + 1) / epochs, loss_list[-1]))\n",
        "\n",
        "\n",
        "#Validate the model\n",
        "\n",
        "model.eval()\n",
        "for epoch in range(epochs):\n",
        "    valid_loss = []\n",
        "    for batch_idx, (data, target) in enumerate(valid_loader):\n",
        "        optimizer.zero_grad()\n",
        "        # Forward pass\n",
        "        output = model(data)\n",
        "        # Calculating loss\n",
        "        validation_loss = loss_func(output, target)\n",
        "        # Backward pass\n",
        "        validation_loss.backward()\n",
        "        # Optimize the weights\n",
        "        optimizer.step()\n",
        "        \n",
        "        valid_loss.append(validation_loss.item())\n",
        "    loss_list_V.append(sum(valid_loss)/len(valid_loss))\n",
        "    #print('Training [{:.0f}%]\\tLoss: {:.4f}'.format(100. * (epoch + 1) / epochs, loss_list_V[-1]))\n",
        "    print('Epoch: {} \\tTraining Loss: {:.6f} \\tValidation Loss: {:.6f}'.format(\n",
        "        epoch, loss_list[-1], loss_list_V[-1]))\n",
        "\n",
        "\n",
        "\n",
        "\n",
        "#Now plotting the training graph\n",
        "plt.plot(loss_list,label='Training Loss')  \n",
        "plt.plot(loss_list_V,label='Validation Loss')  \n",
        "plt.legend()  \n",
        "plt.show() \n"
      ],
      "execution_count": 19,
      "outputs": [
        {
          "output_type": "stream",
          "text": [
            "Epoch: 0 \tTraining Loss: -0.681800 \tValidation Loss: -0.726800\n",
            "Epoch: 1 \tTraining Loss: -0.681800 \tValidation Loss: -0.801400\n",
            "Epoch: 2 \tTraining Loss: -0.681800 \tValidation Loss: -0.808200\n",
            "Epoch: 3 \tTraining Loss: -0.681800 \tValidation Loss: -0.847200\n",
            "Epoch: 4 \tTraining Loss: -0.681800 \tValidation Loss: -0.858200\n"
          ],
          "name": "stdout"
        },
        {
          "output_type": "display_data",
          "data": {
            "image/png": "[encoded data removed]",
            "text/plain": [
              "<Figure size 432x288 with 1 Axes>"
            ]
          },
          "metadata": {
            "tags": [],
            "needs_background": "light"
          }
        }
      ]
    },
    {
      "cell_type": "code",
      "metadata": {
        "colab": {
          "base_uri": "https://localhost:8080/"
        },
        "id": "ITm0KFcRopha",
        "outputId": "4de7a7a2-935b-4601-89fc-53dc41c61481"
      },
      "source": [
        "total_loss=[]\n",
        "model.eval()\n",
        "with torch.no_grad():\n",
        "    \n",
        "    correct = 0\n",
        "    for batch_idx, (data, target) in enumerate(test_loader):\n",
        "        output = model(data)\n",
        "        \n",
        "        pred = output.argmax(dim=1, keepdim=True) \n",
        "        correct += pred.eq(target.view_as(pred)).sum().item()\n",
        "        \n",
        "        loss = loss_func(output, target)\n",
        "        total_loss.append(loss.item())\n",
        "        \n",
        "    print('Performance on train data:\\n\\tLoss: {:.4f}\\n\\tAccuracy: {:.1f}%'.format(\n",
        "        sum(total_loss) / len(total_loss),\n",
        "        correct / len(test_loader) * 100)\n",
        "        )"
      ],
      "execution_count": 20,
      "outputs": [
        {
          "output_type": "stream",
          "text": [
            "Performance on train data:\n",
            "\tLoss: -0.7310\n",
            "\tAccuracy: 76.0%\n"
          ],
          "name": "stdout"
        }
      ]
    },
    {
      "cell_type": "code",
      "metadata": {
        "colab": {
          "base_uri": "https://localhost:8080/",
          "height": 130
        },
        "id": "r1sFUe4QovkP",
        "outputId": "8d0a5f13-7f37-4a75-cc71-6e1ffbde5ad5"
      },
      "source": [
        "n_samples_show = 6\n",
        "count = 0\n",
        "fig, axes = plt.subplots(nrows=1, ncols=n_samples_show, figsize=(10, 3))\n",
        "\n",
        "model.eval()\n",
        "with torch.no_grad():\n",
        "    for batch_idx, (data, target) in enumerate(test_loader):\n",
        "        if count == n_samples_show:\n",
        "            break\n",
        "        output = model(data)\n",
        "        \n",
        "        pred = output.argmax(dim=1, keepdim=True) \n",
        "        data=data.squeeze()\n",
        "        axes[count].imshow(data[0].numpy().squeeze(), cmap='gray')\n",
        "\n",
        "        axes[count].set_xticks([])\n",
        "        axes[count].set_yticks([])\n",
        "        axes[count].set_title('Predicted {}'.format(pred.item()))\n",
        "        \n",
        "        count += 1"
      ],
      "execution_count": 21,
      "outputs": [
        {
          "output_type": "display_data",
          "data": {
            "image/png": "[encoded data removed]",
            "text/plain": [
              "<Figure size 720x216 with 6 Axes>"
            ]
          },
          "metadata": {
            "tags": []
          }
        }
      ]
    },
    {
      "cell_type": "code",
      "metadata": {
        "colab": {
          "base_uri": "https://localhost:8080/",
          "height": 483
        },
        "id": "Nd6CIUcZqawL",
        "outputId": "05a2f623-9c05-4b2d-e5ab-f6f09694a7f9"
      },
      "source": [
        "model = Net()\n",
        "optimizer = optim.Adam(model.parameters(), lr=0.0005)\n",
        "loss_func = nn.NLLLoss()\n",
        "\n",
        "epochs = 10\n",
        "loss_list = []\n",
        "loss_list_V = []\n",
        "\n",
        "#training the model\n",
        "model.train()\n",
        "for epoch in range(epochs):\n",
        "    train_loss = []\n",
        "    for batch_idx, (data, target) in enumerate(train_loader):\n",
        "        optimizer.zero_grad()\n",
        "        # Forward pass\n",
        "        output = model(data)\n",
        "        # Calculating loss\n",
        "        loss = loss_func(output, target)\n",
        "        # Backward pass\n",
        "        loss.backward()\n",
        "        # Optimize the weights\n",
        "        optimizer.step()\n",
        "        \n",
        "        train_loss.append(loss.item())\n",
        "    loss_list.append(sum(train_loss)/len(train_loss))\n",
        "    #print('Training [{:.0f}%]\\tLoss: {:.4f}'.format(100. * (epoch + 1) / epochs, loss_list[-1]))\n",
        "\n",
        "\n",
        "#Validate the model\n",
        "\n",
        "model.eval()\n",
        "for epoch in range(epochs):\n",
        "    valid_loss = []\n",
        "    for batch_idx, (data, target) in enumerate(valid_loader):\n",
        "        optimizer.zero_grad()\n",
        "        # Forward pass\n",
        "        output = model(data)\n",
        "        # Calculating loss\n",
        "        validation_loss = loss_func(output, target)\n",
        "        # Backward pass\n",
        "        validation_loss.backward()\n",
        "        # Optimize the weights\n",
        "        optimizer.step()\n",
        "        \n",
        "        valid_loss.append(validation_loss.item())\n",
        "    loss_list_V.append(sum(valid_loss)/len(valid_loss))\n",
        "    #print('Training [{:.0f}%]\\tLoss: {:.4f}'.format(100. * (epoch + 1) / epochs, loss_list_V[-1]))\n",
        "    print('Epoch: {} \\tTraining Loss: {:.6f} \\tValidation Loss: {:.6f}'.format(\n",
        "        epoch, loss_list[-1], loss_list_V[-1]))\n",
        "\n",
        "\n",
        "\n",
        "\n",
        "#Now plotting the training graph\n",
        "plt.plot(loss_list,label='Training Loss')  \n",
        "plt.plot(loss_list_V,label='Validation Loss')  \n",
        "plt.legend()  \n",
        "plt.show() \n",
        "\n",
        "total_loss=[]\n",
        "model.eval()\n",
        "with torch.no_grad():\n",
        "    \n",
        "    correct = 0\n",
        "    for batch_idx, (data, target) in enumerate(test_loader):\n",
        "        output = model(data)\n",
        "        \n",
        "        pred = output.argmax(dim=1, keepdim=True) \n",
        "        correct += pred.eq(target.view_as(pred)).sum().item()\n",
        "        \n",
        "        loss = loss_func(output, target)\n",
        "        total_loss.append(loss.item())\n",
        "        \n",
        "    print('Performance on train data:\\n\\tLoss: {:.4f}\\n\\tAccuracy: {:.1f}%'.format(\n",
        "        sum(total_loss) / len(total_loss),\n",
        "        correct / len(test_loader) * 100)\n",
        "        )"
      ],
      "execution_count": 22,
      "outputs": [
        {
          "output_type": "stream",
          "text": [
            "Epoch: 0 \tTraining Loss: -0.790267 \tValidation Loss: -0.800400\n",
            "Epoch: 1 \tTraining Loss: -0.790267 \tValidation Loss: -0.777800\n",
            "Epoch: 2 \tTraining Loss: -0.790267 \tValidation Loss: -0.855400\n",
            "Epoch: 3 \tTraining Loss: -0.790267 \tValidation Loss: -0.825400\n",
            "Epoch: 4 \tTraining Loss: -0.790267 \tValidation Loss: -0.867000\n",
            "Epoch: 5 \tTraining Loss: -0.790267 \tValidation Loss: -0.898000\n",
            "Epoch: 6 \tTraining Loss: -0.790267 \tValidation Loss: -0.877600\n",
            "Epoch: 7 \tTraining Loss: -0.790267 \tValidation Loss: -0.915400\n",
            "Epoch: 8 \tTraining Loss: -0.790267 \tValidation Loss: -0.918600\n",
            "Epoch: 9 \tTraining Loss: -0.790267 \tValidation Loss: -0.926800\n"
          ],
          "name": "stdout"
        },
        {
          "output_type": "display_data",
          "data": {
            "image/png": "[encoded data removed]",
            "text/plain": [
              "<Figure size 432x288 with 1 Axes>"
            ]
          },
          "metadata": {
            "tags": [],
            "needs_background": "light"
          }
        },
        {
          "output_type": "stream",
          "text": [
            "Performance on train data:\n",
            "\tLoss: -0.7769\n",
            "\tAccuracy: 82.0%\n"
          ],
          "name": "stdout"
        }
      ]
    },
    {
      "cell_type": "code",
      "metadata": {
        "id": "nQwZiaqrxQ1E"
      },
      "source": [
        ""
      ],
      "execution_count": null,
      "outputs": []
    },
    {
      "cell_type": "code",
      "metadata": {
        "colab": {
          "base_uri": "https://localhost:8080/",
          "height": 433
        },
        "id": "JaWXpkBqqa9l",
        "outputId": "6e834ac3-94bb-4fd9-ccf0-2a88e6ef0a90"
      },
      "source": [
        "model = Net()\n",
        "optimizer = optim.Adam(model.parameters(), lr=0.0005)\n",
        "loss_func = nn.NLLLoss()\n",
        "\n",
        "epochs = 7\n",
        "loss_list = []\n",
        "loss_list_V = []\n",
        "\n",
        "#training the model\n",
        "model.train()\n",
        "for epoch in range(epochs):\n",
        "    train_loss = []\n",
        "    for batch_idx, (data, target) in enumerate(train_loader):\n",
        "        optimizer.zero_grad()\n",
        "        # Forward pass\n",
        "        output = model(data)\n",
        "        # Calculating loss\n",
        "        loss = loss_func(output, target)\n",
        "        # Backward pass\n",
        "        loss.backward()\n",
        "        # Optimize the weights\n",
        "        optimizer.step()\n",
        "        \n",
        "        train_loss.append(loss.item())\n",
        "    loss_list.append(sum(train_loss)/len(train_loss))\n",
        "    #print('Training [{:.0f}%]\\tLoss: {:.4f}'.format(100. * (epoch + 1) / epochs, loss_list[-1]))\n",
        "\n",
        "\n",
        "#Validate the model\n",
        "\n",
        "model.eval()\n",
        "for epoch in range(epochs):\n",
        "    valid_loss = []\n",
        "    for batch_idx, (data, target) in enumerate(valid_loader):\n",
        "        optimizer.zero_grad()\n",
        "        # Forward pass\n",
        "        output = model(data)\n",
        "        # Calculating loss\n",
        "        validation_loss = loss_func(output, target)\n",
        "        # Backward pass\n",
        "        validation_loss.backward()\n",
        "        # Optimize the weights\n",
        "        optimizer.step()\n",
        "        \n",
        "        valid_loss.append(validation_loss.item())\n",
        "    loss_list_V.append(sum(valid_loss)/len(valid_loss))\n",
        "    #print('Training [{:.0f}%]\\tLoss: {:.4f}'.format(100. * (epoch + 1) / epochs, loss_list_V[-1]))\n",
        "    print('Epoch: {} \\tTraining Loss: {:.6f} \\tValidation Loss: {:.6f}'.format(\n",
        "        epoch, loss_list[-1], loss_list_V[-1]))\n",
        "\n",
        "\n",
        "\n",
        "\n",
        "#Now plotting the training graph\n",
        "plt.plot(loss_list,label='Training Loss')  \n",
        "plt.plot(loss_list_V,label='Validation Loss')  \n",
        "plt.legend()  \n",
        "plt.show() \n",
        "\n",
        "total_loss=[]\n",
        "model.eval()\n",
        "with torch.no_grad():\n",
        "    \n",
        "    correct = 0\n",
        "    for batch_idx, (data, target) in enumerate(test_loader):\n",
        "        output = model(data)\n",
        "        \n",
        "        pred = output.argmax(dim=1, keepdim=True) \n",
        "        correct += pred.eq(target.view_as(pred)).sum().item()\n",
        "        \n",
        "        loss = loss_func(output, target)\n",
        "        total_loss.append(loss.item())\n",
        "        \n",
        "    print('Performance on train data:\\n\\tLoss: {:.4f}\\n\\tAccuracy: {:.1f}%'.format(\n",
        "        sum(total_loss) / len(total_loss),\n",
        "        correct / len(test_loader) * 100)\n",
        "        )"
      ],
      "execution_count": 24,
      "outputs": [
        {
          "output_type": "stream",
          "text": [
            "Epoch: 0 \tTraining Loss: -0.720333 \tValidation Loss: -0.747000\n",
            "Epoch: 1 \tTraining Loss: -0.720333 \tValidation Loss: -0.801000\n",
            "Epoch: 2 \tTraining Loss: -0.720333 \tValidation Loss: -0.832000\n",
            "Epoch: 3 \tTraining Loss: -0.720333 \tValidation Loss: -0.870800\n",
            "Epoch: 4 \tTraining Loss: -0.720333 \tValidation Loss: -0.863400\n",
            "Epoch: 5 \tTraining Loss: -0.720333 \tValidation Loss: -0.870000\n",
            "Epoch: 6 \tTraining Loss: -0.720333 \tValidation Loss: -0.867200\n"
          ],
          "name": "stdout"
        },
        {
          "output_type": "display_data",
          "data": {
            "image/png": "[encoded data removed]",
            "text/plain": [
              "<Figure size 432x288 with 1 Axes>"
            ]
          },
          "metadata": {
            "tags": [],
            "needs_background": "light"
          }
        },
        {
          "output_type": "stream",
          "text": [
            "Performance on train data:\n",
            "\tLoss: -0.7197\n",
            "\tAccuracy: 78.0%\n"
          ],
          "name": "stdout"
        }
      ]
    },
    {
      "cell_type": "markdown",
      "metadata": {
        "id": "JKdrOqUTxRY0"
      },
      "source": [
        ""
      ]
    },
    {
      "cell_type": "code",
      "metadata": {
        "colab": {
          "base_uri": "https://localhost:8080/",
          "height": 450
        },
        "id": "bJ2z8XanxpzK",
        "outputId": "b644f7b9-db48-494d-ebe3-c42f2eab35d9"
      },
      "source": [
        "model = Net()\n",
        "optimizer = optim.Adam(model.parameters(), lr=0.0005)\n",
        "loss_func = nn.NLLLoss()\n",
        "\n",
        "epochs = 8\n",
        "loss_list = []\n",
        "loss_list_V = []\n",
        "\n",
        "#training the model\n",
        "model.train()\n",
        "for epoch in range(epochs):\n",
        "    train_loss = []\n",
        "    for batch_idx, (data, target) in enumerate(train_loader):\n",
        "        optimizer.zero_grad()\n",
        "        # Forward pass\n",
        "        output = model(data)\n",
        "        # Calculating loss\n",
        "        loss = loss_func(output, target)\n",
        "        # Backward pass\n",
        "        loss.backward()\n",
        "        # Optimize the weights\n",
        "        optimizer.step()\n",
        "        \n",
        "        train_loss.append(loss.item())\n",
        "    loss_list.append(sum(train_loss)/len(train_loss))\n",
        "    #print('Training [{:.0f}%]\\tLoss: {:.4f}'.format(100. * (epoch + 1) / epochs, loss_list[-1]))\n",
        "\n",
        "\n",
        "#Validate the model\n",
        "\n",
        "model.eval()\n",
        "for epoch in range(epochs):\n",
        "    valid_loss = []\n",
        "    for batch_idx, (data, target) in enumerate(valid_loader):\n",
        "        optimizer.zero_grad()\n",
        "        # Forward pass\n",
        "        output = model(data)\n",
        "        # Calculating loss\n",
        "        validation_loss = loss_func(output, target)\n",
        "        # Backward pass\n",
        "        validation_loss.backward()\n",
        "        # Optimize the weights\n",
        "        optimizer.step()\n",
        "        \n",
        "        valid_loss.append(validation_loss.item())\n",
        "    loss_list_V.append(sum(valid_loss)/len(valid_loss))\n",
        "    #print('Training [{:.0f}%]\\tLoss: {:.4f}'.format(100. * (epoch + 1) / epochs, loss_list_V[-1]))\n",
        "    print('Epoch: {} \\tTraining Loss: {:.6f} \\tValidation Loss: {:.6f}'.format(\n",
        "        epoch, loss_list[-1], loss_list_V[-1]))\n",
        "\n",
        "\n",
        "\n",
        "\n",
        "#Now plotting the training graph\n",
        "plt.plot(loss_list,label='Training Loss')  \n",
        "plt.plot(loss_list_V,label='Validation Loss')  \n",
        "plt.legend()  \n",
        "plt.show() \n",
        "\n",
        "total_loss=[]\n",
        "model.eval()\n",
        "with torch.no_grad():\n",
        "    \n",
        "    correct = 0\n",
        "    for batch_idx, (data, target) in enumerate(test_loader):\n",
        "        output = model(data)\n",
        "        \n",
        "        pred = output.argmax(dim=1, keepdim=True) \n",
        "        correct += pred.eq(target.view_as(pred)).sum().item()\n",
        "        \n",
        "        loss = loss_func(output, target)\n",
        "        total_loss.append(loss.item())\n",
        "        \n",
        "    print('Performance on train data:\\n\\tLoss: {:.4f}\\n\\tAccuracy: {:.1f}%'.format(\n",
        "        sum(total_loss) / len(total_loss),\n",
        "        correct / len(test_loader) * 100)\n",
        "        )"
      ],
      "execution_count": 27,
      "outputs": [
        {
          "output_type": "stream",
          "text": [
            "Epoch: 0 \tTraining Loss: -0.707333 \tValidation Loss: -0.744000\n",
            "Epoch: 1 \tTraining Loss: -0.707333 \tValidation Loss: -0.799600\n",
            "Epoch: 2 \tTraining Loss: -0.707333 \tValidation Loss: -0.819400\n",
            "Epoch: 3 \tTraining Loss: -0.707333 \tValidation Loss: -0.843400\n",
            "Epoch: 4 \tTraining Loss: -0.707333 \tValidation Loss: -0.834400\n",
            "Epoch: 5 \tTraining Loss: -0.707333 \tValidation Loss: -0.860800\n",
            "Epoch: 6 \tTraining Loss: -0.707333 \tValidation Loss: -0.881800\n",
            "Epoch: 7 \tTraining Loss: -0.707333 \tValidation Loss: -0.880400\n"
          ],
          "name": "stdout"
        },
        {
          "output_type": "display_data",
          "data": {
            "image/png": "[encoded data removed]",
            "text/plain": [
              "<Figure size 432x288 with 1 Axes>"
            ]
          },
          "metadata": {
            "tags": [],
            "needs_background": "light"
          }
        },
        {
          "output_type": "stream",
          "text": [
            "Performance on train data:\n",
            "\tLoss: -0.7404\n",
            "\tAccuracy: 77.0%\n"
          ],
          "name": "stdout"
        }
      ]
    },
    {
      "cell_type": "markdown",
      "metadata": {
        "id": "L3AUOWOkyXSU"
      },
      "source": [
        ""
      ]
    },
    {
      "cell_type": "code",
      "metadata": {
        "colab": {
          "base_uri": "https://localhost:8080/",
          "height": 466
        },
        "id": "hVsTsIv0yXl7",
        "outputId": "d040a1c2-9521-4ec2-a0f5-f4f9710d20b7"
      },
      "source": [
        "model = Net()\n",
        "optimizer = optim.Adam(model.parameters(), lr=0.0005)\n",
        "loss_func = nn.NLLLoss()\n",
        "\n",
        "epochs = 9\n",
        "loss_list = []\n",
        "loss_list_V = []\n",
        "\n",
        "#training the model\n",
        "model.train()\n",
        "for epoch in range(epochs):\n",
        "    train_loss = []\n",
        "    for batch_idx, (data, target) in enumerate(train_loader):\n",
        "        optimizer.zero_grad()\n",
        "        # Forward pass\n",
        "        output = model(data)\n",
        "        # Calculating loss\n",
        "        loss = loss_func(output, target)\n",
        "        # Backward pass\n",
        "        loss.backward()\n",
        "        # Optimize the weights\n",
        "        optimizer.step()\n",
        "        \n",
        "        train_loss.append(loss.item())\n",
        "    loss_list.append(sum(train_loss)/len(train_loss))\n",
        "    #print('Training [{:.0f}%]\\tLoss: {:.4f}'.format(100. * (epoch + 1) / epochs, loss_list[-1]))\n",
        "\n",
        "\n",
        "#Validate the model\n",
        "\n",
        "model.eval()\n",
        "for epoch in range(epochs):\n",
        "    valid_loss = []\n",
        "    for batch_idx, (data, target) in enumerate(valid_loader):\n",
        "        optimizer.zero_grad()\n",
        "        # Forward pass\n",
        "        output = model(data)\n",
        "        # Calculating loss\n",
        "        validation_loss = loss_func(output, target)\n",
        "        # Backward pass\n",
        "        validation_loss.backward()\n",
        "        # Optimize the weights\n",
        "        optimizer.step()\n",
        "        \n",
        "        valid_loss.append(validation_loss.item())\n",
        "    loss_list_V.append(sum(valid_loss)/len(valid_loss))\n",
        "    #print('Training [{:.0f}%]\\tLoss: {:.4f}'.format(100. * (epoch + 1) / epochs, loss_list_V[-1]))\n",
        "    print('Epoch: {} \\tTraining Loss: {:.6f} \\tValidation Loss: {:.6f}'.format(\n",
        "        epoch, loss_list[-1], loss_list_V[-1]))\n",
        "\n",
        "\n",
        "\n",
        "\n",
        "#Now plotting the training graph\n",
        "plt.plot(loss_list,label='Training Loss')  \n",
        "plt.plot(loss_list_V,label='Validation Loss')  \n",
        "plt.legend()  \n",
        "plt.show() \n",
        "\n",
        "total_loss=[]\n",
        "model.eval()\n",
        "with torch.no_grad():\n",
        "    \n",
        "    correct = 0\n",
        "    for batch_idx, (data, target) in enumerate(test_loader):\n",
        "        output = model(data)\n",
        "        \n",
        "        pred = output.argmax(dim=1, keepdim=True) \n",
        "        correct += pred.eq(target.view_as(pred)).sum().item()\n",
        "        \n",
        "        loss = loss_func(output, target)\n",
        "        total_loss.append(loss.item())\n",
        "        \n",
        "    print('Performance on train data:\\n\\tLoss: {:.4f}\\n\\tAccuracy: {:.1f}%'.format(\n",
        "        sum(total_loss) / len(total_loss),\n",
        "        correct / len(test_loader) * 100)\n",
        "        )"
      ],
      "execution_count": 28,
      "outputs": [
        {
          "output_type": "stream",
          "text": [
            "Epoch: 0 \tTraining Loss: -0.734200 \tValidation Loss: -0.788800\n",
            "Epoch: 1 \tTraining Loss: -0.734200 \tValidation Loss: -0.842000\n",
            "Epoch: 2 \tTraining Loss: -0.734200 \tValidation Loss: -0.866000\n",
            "Epoch: 3 \tTraining Loss: -0.734200 \tValidation Loss: -0.887200\n",
            "Epoch: 4 \tTraining Loss: -0.734200 \tValidation Loss: -0.890000\n",
            "Epoch: 5 \tTraining Loss: -0.734200 \tValidation Loss: -0.885600\n",
            "Epoch: 6 \tTraining Loss: -0.734200 \tValidation Loss: -0.897800\n",
            "Epoch: 7 \tTraining Loss: -0.734200 \tValidation Loss: -0.914800\n",
            "Epoch: 8 \tTraining Loss: -0.734200 \tValidation Loss: -0.933200\n"
          ],
          "name": "stdout"
        },
        {
          "output_type": "display_data",
          "data": {
            "image/png": "[encoded data removed]",
            "text/plain": [
              "<Figure size 432x288 with 1 Axes>"
            ]
          },
          "metadata": {
            "tags": [],
            "needs_background": "light"
          }
        },
        {
          "output_type": "stream",
          "text": [
            "Performance on train data:\n",
            "\tLoss: -0.7684\n",
            "\tAccuracy: 81.0%\n"
          ],
          "name": "stdout"
        }
      ]
    },
    {
      "cell_type": "markdown",
      "metadata": {
        "id": "VkJ_RAoco4Oq"
      },
      "source": [
        ""
      ]
    },
    {
      "cell_type": "code",
      "metadata": {
        "colab": {
          "base_uri": "https://localhost:8080/",
          "height": 416
        },
        "id": "UJjCJPCKyvnd",
        "outputId": "e925b99d-a79e-431b-81da-f15a8087ff1c"
      },
      "source": [
        "model = Net()\n",
        "optimizer = optim.Adam(model.parameters(), lr=0.0005)\n",
        "loss_func = nn.NLLLoss()\n",
        "\n",
        "epochs = 6\n",
        "loss_list = []\n",
        "loss_list_V = []\n",
        "\n",
        "#training the model\n",
        "model.train()\n",
        "for epoch in range(epochs):\n",
        "    train_loss = []\n",
        "    for batch_idx, (data, target) in enumerate(train_loader):\n",
        "        optimizer.zero_grad()\n",
        "        # Forward pass\n",
        "        output = model(data)\n",
        "        # Calculating loss\n",
        "        loss = loss_func(output, target)\n",
        "        # Backward pass\n",
        "        loss.backward()\n",
        "        # Optimize the weights\n",
        "        optimizer.step()\n",
        "        \n",
        "        train_loss.append(loss.item())\n",
        "    loss_list.append(sum(train_loss)/len(train_loss))\n",
        "    #print('Training [{:.0f}%]\\tLoss: {:.4f}'.format(100. * (epoch + 1) / epochs, loss_list[-1]))\n",
        "\n",
        "\n",
        "#Validate the model\n",
        "\n",
        "model.eval()\n",
        "for epoch in range(epochs):\n",
        "    valid_loss = []\n",
        "    for batch_idx, (data, target) in enumerate(valid_loader):\n",
        "        optimizer.zero_grad()\n",
        "        # Forward pass\n",
        "        output = model(data)\n",
        "        # Calculating loss\n",
        "        validation_loss = loss_func(output, target)\n",
        "        # Backward pass\n",
        "        validation_loss.backward()\n",
        "        # Optimize the weights\n",
        "        optimizer.step()\n",
        "        \n",
        "        valid_loss.append(validation_loss.item())\n",
        "    loss_list_V.append(sum(valid_loss)/len(valid_loss))\n",
        "    #print('Training [{:.0f}%]\\tLoss: {:.4f}'.format(100. * (epoch + 1) / epochs, loss_list_V[-1]))\n",
        "    print('Epoch: {} \\tTraining Loss: {:.6f} \\tValidation Loss: {:.6f}'.format(\n",
        "        epoch, loss_list[-1], loss_list_V[-1]))\n",
        "\n",
        "\n",
        "\n",
        "\n",
        "#Now plotting the training graph\n",
        "plt.plot(loss_list,label='Training Loss')  \n",
        "plt.plot(loss_list_V,label='Validation Loss')  \n",
        "plt.legend()  \n",
        "plt.show() \n",
        "\n",
        "total_loss=[]\n",
        "model.eval()\n",
        "with torch.no_grad():\n",
        "    \n",
        "    correct = 0\n",
        "    for batch_idx, (data, target) in enumerate(test_loader):\n",
        "        output = model(data)\n",
        "        \n",
        "        pred = output.argmax(dim=1, keepdim=True) \n",
        "        correct += pred.eq(target.view_as(pred)).sum().item()\n",
        "        \n",
        "        loss = loss_func(output, target)\n",
        "        total_loss.append(loss.item())\n",
        "        \n",
        "    print('Performance on train data:\\n\\tLoss: {:.4f}\\n\\tAccuracy: {:.1f}%'.format(\n",
        "        sum(total_loss) / len(total_loss),\n",
        "        correct / len(test_loader) * 100)\n",
        "        )"
      ],
      "execution_count": 29,
      "outputs": [
        {
          "output_type": "stream",
          "text": [
            "Epoch: 0 \tTraining Loss: -0.620800 \tValidation Loss: -0.754600\n",
            "Epoch: 1 \tTraining Loss: -0.620800 \tValidation Loss: -0.791600\n",
            "Epoch: 2 \tTraining Loss: -0.620800 \tValidation Loss: -0.819600\n",
            "Epoch: 3 \tTraining Loss: -0.620800 \tValidation Loss: -0.822200\n",
            "Epoch: 4 \tTraining Loss: -0.620800 \tValidation Loss: -0.841800\n",
            "Epoch: 5 \tTraining Loss: -0.620800 \tValidation Loss: -0.880000\n"
          ],
          "name": "stdout"
        },
        {
          "output_type": "display_data",
          "data": {
            "image/png": "[encoded data removed]",
            "text/plain": [
              "<Figure size 432x288 with 1 Axes>"
            ]
          },
          "metadata": {
            "tags": [],
            "needs_background": "light"
          }
        },
        {
          "output_type": "stream",
          "text": [
            "Performance on train data:\n",
            "\tLoss: -0.7780\n",
            "\tAccuracy: 81.5%\n"
          ],
          "name": "stdout"
        }
      ]
    },
    {
      "cell_type": "markdown",
      "metadata": {
        "id": "T_tJp8-eywTl"
      },
      "source": [
        ""
      ]
    },
    {
      "cell_type": "code",
      "metadata": {
        "colab": {
          "base_uri": "https://localhost:8080/",
          "height": 416
        },
        "id": "TOfKUXfFzH__",
        "outputId": "42d81e04-b4ef-4b14-97c2-dc841b5b1b49"
      },
      "source": [
        "model = Net()\n",
        "optimizer = optim.Adam(model.parameters(), lr=0.0004)\n",
        "loss_func = nn.NLLLoss()\n",
        "\n",
        "epochs = 6\n",
        "loss_list = []\n",
        "loss_list_V = []\n",
        "\n",
        "#training the model\n",
        "model.train()\n",
        "for epoch in range(epochs):\n",
        "    train_loss = []\n",
        "    for batch_idx, (data, target) in enumerate(train_loader):\n",
        "        optimizer.zero_grad()\n",
        "        # Forward pass\n",
        "        output = model(data)\n",
        "        # Calculating loss\n",
        "        loss = loss_func(output, target)\n",
        "        # Backward pass\n",
        "        loss.backward()\n",
        "        # Optimize the weights\n",
        "        optimizer.step()\n",
        "        \n",
        "        train_loss.append(loss.item())\n",
        "    loss_list.append(sum(train_loss)/len(train_loss))\n",
        "    #print('Training [{:.0f}%]\\tLoss: {:.4f}'.format(100. * (epoch + 1) / epochs, loss_list[-1]))\n",
        "\n",
        "\n",
        "#Validate the model\n",
        "\n",
        "model.eval()\n",
        "for epoch in range(epochs):\n",
        "    valid_loss = []\n",
        "    for batch_idx, (data, target) in enumerate(valid_loader):\n",
        "        optimizer.zero_grad()\n",
        "        # Forward pass\n",
        "        output = model(data)\n",
        "        # Calculating loss\n",
        "        validation_loss = loss_func(output, target)\n",
        "        # Backward pass\n",
        "        validation_loss.backward()\n",
        "        # Optimize the weights\n",
        "        optimizer.step()\n",
        "        \n",
        "        valid_loss.append(validation_loss.item())\n",
        "    loss_list_V.append(sum(valid_loss)/len(valid_loss))\n",
        "    #print('Training [{:.0f}%]\\tLoss: {:.4f}'.format(100. * (epoch + 1) / epochs, loss_list_V[-1]))\n",
        "    print('Epoch: {} \\tTraining Loss: {:.6f} \\tValidation Loss: {:.6f}'.format(\n",
        "        epoch, loss_list[-1], loss_list_V[-1]))\n",
        "\n",
        "\n",
        "\n",
        "\n",
        "#Now plotting the training graph\n",
        "plt.plot(loss_list,label='Training Loss')  \n",
        "plt.plot(loss_list_V,label='Validation Loss')  \n",
        "plt.legend()  \n",
        "plt.show() \n",
        "\n",
        "total_loss=[]\n",
        "model.eval()\n",
        "with torch.no_grad():\n",
        "    \n",
        "    correct = 0\n",
        "    for batch_idx, (data, target) in enumerate(test_loader):\n",
        "        output = model(data)\n",
        "        \n",
        "        pred = output.argmax(dim=1, keepdim=True) \n",
        "        correct += pred.eq(target.view_as(pred)).sum().item()\n",
        "        \n",
        "        loss = loss_func(output, target)\n",
        "        total_loss.append(loss.item())\n",
        "        \n",
        "    print('Performance on train data:\\n\\tLoss: {:.4f}\\n\\tAccuracy: {:.1f}%'.format(\n",
        "        sum(total_loss) / len(total_loss),\n",
        "        correct / len(test_loader) * 100)\n",
        "        )"
      ],
      "execution_count": 30,
      "outputs": [
        {
          "output_type": "stream",
          "text": [
            "Epoch: 0 \tTraining Loss: -0.715867 \tValidation Loss: -0.783400\n",
            "Epoch: 1 \tTraining Loss: -0.715867 \tValidation Loss: -0.816200\n",
            "Epoch: 2 \tTraining Loss: -0.715867 \tValidation Loss: -0.834600\n",
            "Epoch: 3 \tTraining Loss: -0.715867 \tValidation Loss: -0.865200\n",
            "Epoch: 4 \tTraining Loss: -0.715867 \tValidation Loss: -0.869800\n",
            "Epoch: 5 \tTraining Loss: -0.715867 \tValidation Loss: -0.884600\n"
          ],
          "name": "stdout"
        },
        {
          "output_type": "display_data",
          "data": {
            "image/png": "[encoded data removed]",
            "text/plain": [
              "<Figure size 432x288 with 1 Axes>"
            ]
          },
          "metadata": {
            "tags": [],
            "needs_background": "light"
          }
        },
        {
          "output_type": "stream",
          "text": [
            "Performance on train data:\n",
            "\tLoss: -0.7421\n",
            "\tAccuracy: 78.0%\n"
          ],
          "name": "stdout"
        }
      ]
    },
    {
      "cell_type": "code",
      "metadata": {
        "id": "27pNhttv1A-G"
      },
      "source": [
        ""
      ],
      "execution_count": null,
      "outputs": []
    },
    {
      "cell_type": "markdown",
      "metadata": {
        "id": "8romOTch1CPN"
      },
      "source": [
        ""
      ]
    },
    {
      "cell_type": "code",
      "metadata": {
        "colab": {
          "base_uri": "https://localhost:8080/",
          "height": 399
        },
        "id": "QJ3UYvyx1C3E",
        "outputId": "3fbb06ff-84d9-4054-9c64-440c80d18db5"
      },
      "source": [
        "model = Net()\n",
        "optimizer = optim.Adam(model.parameters(), lr=0.0003)\n",
        "loss_func = nn.NLLLoss()\n",
        "\n",
        "epochs = 5\n",
        "loss_list = []\n",
        "loss_list_V = []\n",
        "\n",
        "#training the model\n",
        "model.train()\n",
        "for epoch in range(epochs):\n",
        "    train_loss = []\n",
        "    for batch_idx, (data, target) in enumerate(train_loader):\n",
        "        optimizer.zero_grad()\n",
        "        # Forward pass\n",
        "        output = model(data)\n",
        "        # Calculating loss\n",
        "        loss = loss_func(output, target)\n",
        "        # Backward pass\n",
        "        loss.backward()\n",
        "        # Optimize the weights\n",
        "        optimizer.step()\n",
        "        \n",
        "        train_loss.append(loss.item())\n",
        "    loss_list.append(sum(train_loss)/len(train_loss))\n",
        "    #print('Training [{:.0f}%]\\tLoss: {:.4f}'.format(100. * (epoch + 1) / epochs, loss_list[-1]))\n",
        "\n",
        "\n",
        "#Validate the model\n",
        "\n",
        "model.eval()\n",
        "for epoch in range(epochs):\n",
        "    valid_loss = []\n",
        "    for batch_idx, (data, target) in enumerate(valid_loader):\n",
        "        optimizer.zero_grad()\n",
        "        # Forward pass\n",
        "        output = model(data)\n",
        "        # Calculating loss\n",
        "        validation_loss = loss_func(output, target)\n",
        "        # Backward pass\n",
        "        validation_loss.backward()\n",
        "        # Optimize the weights\n",
        "        optimizer.step()\n",
        "        \n",
        "        valid_loss.append(validation_loss.item())\n",
        "    loss_list_V.append(sum(valid_loss)/len(valid_loss))\n",
        "    #print('Training [{:.0f}%]\\tLoss: {:.4f}'.format(100. * (epoch + 1) / epochs, loss_list_V[-1]))\n",
        "    print('Epoch: {} \\tTraining Loss: {:.6f} \\tValidation Loss: {:.6f}'.format(\n",
        "        epoch, loss_list[-1], loss_list_V[-1]))\n",
        "\n",
        "\n",
        "\n",
        "\n",
        "#Now plotting the training graph\n",
        "plt.plot(loss_list,label='Training Loss')  \n",
        "plt.plot(loss_list_V,label='Validation Loss')  \n",
        "plt.legend()  \n",
        "plt.show() \n",
        "\n",
        "total_loss=[]\n",
        "model.eval()\n",
        "with torch.no_grad():\n",
        "    \n",
        "    correct = 0\n",
        "    for batch_idx, (data, target) in enumerate(test_loader):\n",
        "        output = model(data)\n",
        "        \n",
        "        pred = output.argmax(dim=1, keepdim=True) \n",
        "        correct += pred.eq(target.view_as(pred)).sum().item()\n",
        "        \n",
        "        loss = loss_func(output, target)\n",
        "        total_loss.append(loss.item())\n",
        "        \n",
        "    print('Performance on train data:\\n\\tLoss: {:.4f}\\n\\tAccuracy: {:.1f}%'.format(\n",
        "        sum(total_loss) / len(total_loss),\n",
        "        correct / len(test_loader) * 100)\n",
        "        )"
      ],
      "execution_count": 32,
      "outputs": [
        {
          "output_type": "stream",
          "text": [
            "Epoch: 0 \tTraining Loss: -0.699533 \tValidation Loss: -0.777600\n",
            "Epoch: 1 \tTraining Loss: -0.699533 \tValidation Loss: -0.817400\n",
            "Epoch: 2 \tTraining Loss: -0.699533 \tValidation Loss: -0.858200\n",
            "Epoch: 3 \tTraining Loss: -0.699533 \tValidation Loss: -0.866400\n",
            "Epoch: 4 \tTraining Loss: -0.699533 \tValidation Loss: -0.857600\n"
          ],
          "name": "stdout"
        },
        {
          "output_type": "display_data",
          "data": {
            "image/png": "[encoded data removed]",
            "text/plain": [
              "<Figure size 432x288 with 1 Axes>"
            ]
          },
          "metadata": {
            "tags": [],
            "needs_background": "light"
          }
        },
        {
          "output_type": "stream",
          "text": [
            "Performance on train data:\n",
            "\tLoss: -0.7549\n",
            "\tAccuracy: 78.0%\n"
          ],
          "name": "stdout"
        }
      ]
    },
    {
      "cell_type": "markdown",
      "metadata": {
        "id": "3iLRHTvn1n6E"
      },
      "source": [
        ""
      ]
    },
    {
      "cell_type": "code",
      "metadata": {
        "colab": {
          "base_uri": "https://localhost:8080/",
          "height": 433
        },
        "id": "4-UtOZZr1oK7",
        "outputId": "aac1ac19-543c-41d8-aa45-09e45f6f47f6"
      },
      "source": [
        "model = Net()\n",
        "optimizer = optim.Adam(model.parameters(), lr=0.0008)\n",
        "loss_func = nn.NLLLoss()\n",
        "\n",
        "epochs = 7\n",
        "loss_list = []\n",
        "loss_list_V = []\n",
        "\n",
        "#training the model\n",
        "model.train()\n",
        "for epoch in range(epochs):\n",
        "    train_loss = []\n",
        "    for batch_idx, (data, target) in enumerate(train_loader):\n",
        "        optimizer.zero_grad()\n",
        "        # Forward pass\n",
        "        output = model(data)\n",
        "        # Calculating loss\n",
        "        loss = loss_func(output, target)\n",
        "        # Backward pass\n",
        "        loss.backward()\n",
        "        # Optimize the weights\n",
        "        optimizer.step()\n",
        "        \n",
        "        train_loss.append(loss.item())\n",
        "    loss_list.append(sum(train_loss)/len(train_loss))\n",
        "    #print('Training [{:.0f}%]\\tLoss: {:.4f}'.format(100. * (epoch + 1) / epochs, loss_list[-1]))\n",
        "\n",
        "\n",
        "#Validate the model\n",
        "\n",
        "model.eval()\n",
        "for epoch in range(epochs):\n",
        "    valid_loss = []\n",
        "    for batch_idx, (data, target) in enumerate(valid_loader):\n",
        "        optimizer.zero_grad()\n",
        "        # Forward pass\n",
        "        output = model(data)\n",
        "        # Calculating loss\n",
        "        validation_loss = loss_func(output, target)\n",
        "        # Backward pass\n",
        "        validation_loss.backward()\n",
        "        # Optimize the weights\n",
        "        optimizer.step()\n",
        "        \n",
        "        valid_loss.append(validation_loss.item())\n",
        "    loss_list_V.append(sum(valid_loss)/len(valid_loss))\n",
        "    #print('Training [{:.0f}%]\\tLoss: {:.4f}'.format(100. * (epoch + 1) / epochs, loss_list_V[-1]))\n",
        "    print('Epoch: {} \\tTraining Loss: {:.6f} \\tValidation Loss: {:.6f}'.format(\n",
        "        epoch, loss_list[-1], loss_list_V[-1]))\n",
        "\n",
        "\n",
        "\n",
        "\n",
        "#Now plotting the training graph\n",
        "plt.plot(loss_list,label='Training Loss')  \n",
        "plt.plot(loss_list_V,label='Validation Loss')  \n",
        "plt.legend()  \n",
        "plt.show() \n",
        "\n",
        "total_loss=[]\n",
        "model.eval()\n",
        "with torch.no_grad():\n",
        "    \n",
        "    correct = 0\n",
        "    for batch_idx, (data, target) in enumerate(test_loader):\n",
        "        output = model(data)\n",
        "        \n",
        "        pred = output.argmax(dim=1, keepdim=True) \n",
        "        correct += pred.eq(target.view_as(pred)).sum().item()\n",
        "        \n",
        "        loss = loss_func(output, target)\n",
        "        total_loss.append(loss.item())\n",
        "        \n",
        "    print('Performance on train data:\\n\\tLoss: {:.4f}\\n\\tAccuracy: {:.1f}%'.format(\n",
        "        sum(total_loss) / len(total_loss),\n",
        "        correct / len(test_loader) * 100)\n",
        "        )"
      ],
      "execution_count": 37,
      "outputs": [
        {
          "output_type": "stream",
          "text": [
            "Epoch: 0 \tTraining Loss: -0.532400 \tValidation Loss: -0.559000\n",
            "Epoch: 1 \tTraining Loss: -0.532400 \tValidation Loss: -0.434400\n",
            "Epoch: 2 \tTraining Loss: -0.532400 \tValidation Loss: -0.493600\n",
            "Epoch: 3 \tTraining Loss: -0.532400 \tValidation Loss: -0.438400\n",
            "Epoch: 4 \tTraining Loss: -0.532400 \tValidation Loss: -0.548800\n",
            "Epoch: 5 \tTraining Loss: -0.532400 \tValidation Loss: -0.477800\n",
            "Epoch: 6 \tTraining Loss: -0.532400 \tValidation Loss: -0.537800\n"
          ],
          "name": "stdout"
        },
        {
          "output_type": "display_data",
          "data": {
            "image/png": "[encoded data removed]",
            "text/plain": [
              "<Figure size 432x288 with 1 Axes>"
            ]
          },
          "metadata": {
            "tags": [],
            "needs_background": "light"
          }
        },
        {
          "output_type": "stream",
          "text": [
            "Performance on train data:\n",
            "\tLoss: -0.5010\n",
            "\tAccuracy: 48.5%\n"
          ],
          "name": "stdout"
        }
      ]
    },
    {
      "cell_type": "markdown",
      "metadata": {
        "id": "wBT3gAmk1D66"
      },
      "source": [
        ""
      ]
    },
    {
      "cell_type": "code",
      "metadata": {
        "colab": {
          "base_uri": "https://localhost:8080/",
          "height": 433
        },
        "id": "7vBWuBteo4gt",
        "outputId": "a443272b-5f3f-478d-9f30-8ec82086c2b1"
      },
      "source": [
        "model = Net()\n",
        "optimizer = optim.SGD(model.parameters(), lr=0.001)\n",
        "loss_func = nn.NLLLoss()\n",
        "\n",
        "epochs = 10\n",
        "loss_list = []\n",
        "loss_list_V = []\n",
        "\n",
        "#training the model\n",
        "model.train()\n",
        "for epoch in range(epochs):\n",
        "    train_loss = []\n",
        "    for batch_idx, (data, target) in enumerate(train_loader):\n",
        "        optimizer.zero_grad()\n",
        "        # Forward pass\n",
        "        output = model(data)\n",
        "        # Calculating loss\n",
        "        loss = loss_func(output, target)\n",
        "        # Backward pass\n",
        "        loss.backward()\n",
        "        # Optimize the weights\n",
        "        optimizer.step()\n",
        "        \n",
        "        train_loss.append(loss.item())\n",
        "    loss_list.append(sum(train_loss)/len(train_loss))\n",
        "    #print('Training [{:.0f}%]\\tLoss: {:.4f}'.format(100. * (epoch + 1) / epochs, loss_list[-1]))\n",
        "\n",
        "\n",
        "#Validate the model\n",
        "\n",
        "model.eval()\n",
        "for epoch in range(epochs):\n",
        "    valid_loss = []\n",
        "    for batch_idx, (data, target) in enumerate(valid_loader):\n",
        "        optimizer.zero_grad()\n",
        "        # Forward pass\n",
        "        output = model(data)\n",
        "        # Calculating loss\n",
        "        validation_loss = loss_func(output, target)\n",
        "        # Backward pass\n",
        "        validation_loss.backward()\n",
        "        # Optimize the weights\n",
        "        optimizer.step()\n",
        "        \n",
        "        valid_loss.append(validation_loss.item())\n",
        "    loss_list_V.append(sum(valid_loss)/len(valid_loss))\n",
        "    #print('Training [{:.0f}%]\\tLoss: {:.4f}'.format(100. * (epoch + 1) / epochs, loss_list_V[-1]))\n",
        "    print('Epoch: {} \\tTraining Loss: {:.6f} \\tValidation Loss: {:.6f}'.format(\n",
        "        epoch, loss_list[-1], loss_list_V[-1]))\n",
        "\n",
        "\n",
        "\n",
        "\n",
        "#Now plotting the training graph\n",
        "plt.plot(loss_list,label='Training Loss')  \n",
        "plt.plot(loss_list_V,label='Validation Loss')  \n",
        "plt.legend()  \n",
        "plt.show() "
      ],
      "execution_count": 41,
      "outputs": [
        {
          "output_type": "stream",
          "text": [
            "Epoch: 0 \tTraining Loss: -0.505200 \tValidation Loss: -0.507400\n",
            "Epoch: 1 \tTraining Loss: -0.505200 \tValidation Loss: -0.512400\n",
            "Epoch: 2 \tTraining Loss: -0.505200 \tValidation Loss: -0.524800\n",
            "Epoch: 3 \tTraining Loss: -0.505200 \tValidation Loss: -0.541800\n",
            "Epoch: 4 \tTraining Loss: -0.505200 \tValidation Loss: -0.564000\n",
            "Epoch: 5 \tTraining Loss: -0.505200 \tValidation Loss: -0.578000\n",
            "Epoch: 6 \tTraining Loss: -0.505200 \tValidation Loss: -0.589200\n",
            "Epoch: 7 \tTraining Loss: -0.505200 \tValidation Loss: -0.600800\n",
            "Epoch: 8 \tTraining Loss: -0.505200 \tValidation Loss: -0.600600\n",
            "Epoch: 9 \tTraining Loss: -0.505200 \tValidation Loss: -0.599000\n"
          ],
          "name": "stdout"
        },
        {
          "output_type": "display_data",
          "data": {
            "image/png": "[encoded data removed]",
            "text/plain": [
              "<Figure size 432x288 with 1 Axes>"
            ]
          },
          "metadata": {
            "tags": [],
            "needs_background": "light"
          }
        }
      ]
    },
    {
      "cell_type": "code",
      "metadata": {
        "colab": {
          "base_uri": "https://localhost:8080/"
        },
        "id": "Wgl2JvbspNb0",
        "outputId": "f380abb8-9b0f-457e-a51e-a2c10dfecfe9"
      },
      "source": [
        "total_loss=[]\n",
        "model.eval()\n",
        "with torch.no_grad():\n",
        "    \n",
        "    correct = 0\n",
        "    for batch_idx, (data, target) in enumerate(test_loader):\n",
        "        output = model(data)\n",
        "        \n",
        "        pred = output.argmax(dim=1, keepdim=True) \n",
        "        correct += pred.eq(target.view_as(pred)).sum().item()\n",
        "        \n",
        "        loss = loss_func(output, target)\n",
        "        total_loss.append(loss.item())\n",
        "        \n",
        "    print('Performance on train data:\\n\\tLoss: {:.4f}\\n\\tAccuracy: {:.1f}%'.format(\n",
        "        sum(total_loss) / len(total_loss),\n",
        "        correct / len(test_loader) * 100)\n",
        "        )"
      ],
      "execution_count": 42,
      "outputs": [
        {
          "output_type": "stream",
          "text": [
            "Performance on train data:\n",
            "\tLoss: -0.5369\n",
            "\tAccuracy: 50.0%\n"
          ],
          "name": "stdout"
        }
      ]
    },
    {
      "cell_type": "code",
      "metadata": {
        "colab": {
          "base_uri": "https://localhost:8080/",
          "height": 517
        },
        "id": "VOlqJAtHpP9g",
        "outputId": "9d0050ca-a088-4fdf-d6cf-75a365f7f0d3"
      },
      "source": [
        "model = Net()\n",
        "optimizer = optim.Adam(model.parameters(), lr=0.001)\n",
        "loss_func = nn.NLLLoss()\n",
        "\n",
        "epochs = 15\n",
        "loss_list = []\n",
        "loss_list_V = []\n",
        "\n",
        "#training the model\n",
        "model.train()\n",
        "for epoch in range(epochs):\n",
        "    train_loss = []\n",
        "    for batch_idx, (data, target) in enumerate(train_loader):\n",
        "        optimizer.zero_grad()\n",
        "        # Forward pass\n",
        "        output = model(data)\n",
        "        # Calculating loss\n",
        "        loss = loss_func(output, target)\n",
        "        # Backward pass\n",
        "        loss.backward()\n",
        "        # Optimize the weights\n",
        "        optimizer.step()\n",
        "        \n",
        "        train_loss.append(loss.item())\n",
        "    loss_list.append(sum(train_loss)/len(train_loss))\n",
        "    #print('Training [{:.0f}%]\\tLoss: {:.4f}'.format(100. * (epoch + 1) / epochs, loss_list[-1]))\n",
        "\n",
        "\n",
        "#Validate the model\n",
        "\n",
        "model.eval()\n",
        "for epoch in range(epochs):\n",
        "    valid_loss = []\n",
        "    for batch_idx, (data, target) in enumerate(valid_loader):\n",
        "        optimizer.zero_grad()\n",
        "        # Forward pass\n",
        "        output = model(data)\n",
        "        # Calculating loss\n",
        "        validation_loss = loss_func(output, target)\n",
        "        # Backward pass\n",
        "        validation_loss.backward()\n",
        "        # Optimize the weights\n",
        "        optimizer.step()\n",
        "        \n",
        "        valid_loss.append(validation_loss.item())\n",
        "    loss_list_V.append(sum(valid_loss)/len(valid_loss))\n",
        "    #print('Training [{:.0f}%]\\tLoss: {:.4f}'.format(100. * (epoch + 1) / epochs, loss_list_V[-1]))\n",
        "    print('Epoch: {} \\tTraining Loss: {:.6f} \\tValidation Loss: {:.6f}'.format(\n",
        "        epoch, loss_list[-1], loss_list_V[-1]))\n",
        "\n",
        "\n",
        "\n",
        "\n",
        "#Now plotting the training graph\n",
        "plt.plot(loss_list,label='Training Loss')  \n",
        "plt.plot(loss_list_V,label='Validation Loss')  \n",
        "plt.legend()  \n",
        "plt.show() "
      ],
      "execution_count": 43,
      "outputs": [
        {
          "output_type": "stream",
          "text": [
            "Epoch: 0 \tTraining Loss: -0.741600 \tValidation Loss: -0.758400\n",
            "Epoch: 1 \tTraining Loss: -0.741600 \tValidation Loss: -0.812200\n",
            "Epoch: 2 \tTraining Loss: -0.741600 \tValidation Loss: -0.832000\n",
            "Epoch: 3 \tTraining Loss: -0.741600 \tValidation Loss: -0.861000\n",
            "Epoch: 4 \tTraining Loss: -0.741600 \tValidation Loss: -0.899000\n",
            "Epoch: 5 \tTraining Loss: -0.741600 \tValidation Loss: -0.902600\n",
            "Epoch: 6 \tTraining Loss: -0.741600 \tValidation Loss: -0.926600\n",
            "Epoch: 7 \tTraining Loss: -0.741600 \tValidation Loss: -0.925200\n",
            "Epoch: 8 \tTraining Loss: -0.741600 \tValidation Loss: -0.945000\n",
            "Epoch: 9 \tTraining Loss: -0.741600 \tValidation Loss: -0.952000\n",
            "Epoch: 10 \tTraining Loss: -0.741600 \tValidation Loss: -0.957800\n",
            "Epoch: 11 \tTraining Loss: -0.741600 \tValidation Loss: -0.958200\n",
            "Epoch: 12 \tTraining Loss: -0.741600 \tValidation Loss: -0.975600\n",
            "Epoch: 13 \tTraining Loss: -0.741600 \tValidation Loss: -0.980600\n",
            "Epoch: 14 \tTraining Loss: -0.741600 \tValidation Loss: -0.979400\n"
          ],
          "name": "stdout"
        },
        {
          "output_type": "display_data",
          "data": {
            "image/png": "[encoded data removed]",
            "text/plain": [
              "<Figure size 432x288 with 1 Axes>"
            ]
          },
          "metadata": {
            "tags": [],
            "needs_background": "light"
          }
        }
      ]
    },
    {
      "cell_type": "markdown",
      "metadata": {
        "id": "G5uTZl-_rh4n"
      },
      "source": [
        "The above graph shows that the model suffers through overfitting"
      ]
    },
    {
      "cell_type": "code",
      "metadata": {
        "colab": {
          "base_uri": "https://localhost:8080/"
        },
        "id": "Pp4SVQGqrXnu",
        "outputId": "c789550a-d10b-4f98-d231-065713ecb941"
      },
      "source": [
        "total_loss=[]\n",
        "model.eval()\n",
        "with torch.no_grad():\n",
        "    \n",
        "    correct = 0\n",
        "    for batch_idx, (data, target) in enumerate(test_loader):\n",
        "        output = model(data)\n",
        "        \n",
        "        pred = output.argmax(dim=1, keepdim=True) \n",
        "        correct += pred.eq(target.view_as(pred)).sum().item()\n",
        "        \n",
        "        loss = loss_func(output, target)\n",
        "        total_loss.append(loss.item())\n",
        "        \n",
        "    print('Performance on train data:\\n\\tLoss: {:.4f}\\n\\tAccuracy: {:.1f}%'.format(\n",
        "        sum(total_loss) / len(total_loss),\n",
        "        correct / len(test_loader) * 100)\n",
        "        )"
      ],
      "execution_count": 44,
      "outputs": [
        {
          "output_type": "stream",
          "text": [
            "Performance on train data:\n",
            "\tLoss: -0.7533\n",
            "\tAccuracy: 77.0%\n"
          ],
          "name": "stdout"
        }
      ]
    },
    {
      "cell_type": "code",
      "metadata": {
        "colab": {
          "base_uri": "https://localhost:8080/",
          "height": 517
        },
        "id": "TKcTFTT0rnHY",
        "outputId": "f69df77e-0d0d-46b1-8585-a389191950f7"
      },
      "source": [
        "model = Net()\n",
        "optimizer = optim.Adam(model.parameters(), lr=0.01)\n",
        "loss_func = nn.NLLLoss()\n",
        "\n",
        "epochs = 15\n",
        "loss_list = []\n",
        "loss_list_V = []\n",
        "\n",
        "#training the model\n",
        "model.train()\n",
        "for epoch in range(epochs):\n",
        "    train_loss = []\n",
        "    for batch_idx, (data, target) in enumerate(train_loader):\n",
        "        optimizer.zero_grad()\n",
        "        # Forward pass\n",
        "        output = model(data)\n",
        "        # Calculating loss\n",
        "        loss = loss_func(output, target)\n",
        "        # Backward pass\n",
        "        loss.backward()\n",
        "        # Optimize the weights\n",
        "        optimizer.step()\n",
        "        \n",
        "        train_loss.append(loss.item())\n",
        "    loss_list.append(sum(train_loss)/len(train_loss))\n",
        "    #print('Training [{:.0f}%]\\tLoss: {:.4f}'.format(100. * (epoch + 1) / epochs, loss_list[-1]))\n",
        "\n",
        "\n",
        "#Validate the model\n",
        "\n",
        "model.eval()\n",
        "for epoch in range(epochs):\n",
        "    valid_loss = []\n",
        "    for batch_idx, (data, target) in enumerate(valid_loader):\n",
        "        optimizer.zero_grad()\n",
        "        # Forward pass\n",
        "        output = model(data)\n",
        "        # Calculating loss\n",
        "        validation_loss = loss_func(output, target)\n",
        "        # Backward pass\n",
        "        validation_loss.backward()\n",
        "        # Optimize the weights\n",
        "        optimizer.step()\n",
        "        \n",
        "        valid_loss.append(validation_loss.item())\n",
        "    loss_list_V.append(sum(valid_loss)/len(valid_loss))\n",
        "    #print('Training [{:.0f}%]\\tLoss: {:.4f}'.format(100. * (epoch + 1) / epochs, loss_list_V[-1]))\n",
        "    print('Epoch: {} \\tTraining Loss: {:.6f} \\tValidation Loss: {:.6f}'.format(\n",
        "        epoch, loss_list[-1], loss_list_V[-1]))\n",
        "\n",
        "\n",
        "\n",
        "\n",
        "#Now plotting the training graph\n",
        "plt.plot(loss_list,label='Training Loss')  \n",
        "plt.plot(loss_list_V,label='Validation Loss')  \n",
        "plt.legend()  \n",
        "plt.show() "
      ],
      "execution_count": 45,
      "outputs": [
        {
          "output_type": "stream",
          "text": [
            "Epoch: 0 \tTraining Loss: -0.470133 \tValidation Loss: -0.426800\n",
            "Epoch: 1 \tTraining Loss: -0.470133 \tValidation Loss: -0.533200\n",
            "Epoch: 2 \tTraining Loss: -0.470133 \tValidation Loss: -0.528200\n",
            "Epoch: 3 \tTraining Loss: -0.470133 \tValidation Loss: -0.464600\n",
            "Epoch: 4 \tTraining Loss: -0.470133 \tValidation Loss: -0.478200\n",
            "Epoch: 5 \tTraining Loss: -0.470133 \tValidation Loss: -0.418400\n",
            "Epoch: 6 \tTraining Loss: -0.470133 \tValidation Loss: -0.492200\n",
            "Epoch: 7 \tTraining Loss: -0.470133 \tValidation Loss: -0.534000\n",
            "Epoch: 8 \tTraining Loss: -0.470133 \tValidation Loss: -0.472600\n",
            "Epoch: 9 \tTraining Loss: -0.470133 \tValidation Loss: -0.531400\n",
            "Epoch: 10 \tTraining Loss: -0.470133 \tValidation Loss: -0.459600\n",
            "Epoch: 11 \tTraining Loss: -0.470133 \tValidation Loss: -0.513200\n",
            "Epoch: 12 \tTraining Loss: -0.470133 \tValidation Loss: -0.535200\n",
            "Epoch: 13 \tTraining Loss: -0.470133 \tValidation Loss: -0.484000\n",
            "Epoch: 14 \tTraining Loss: -0.470133 \tValidation Loss: -0.521600\n"
          ],
          "name": "stdout"
        },
        {
          "output_type": "display_data",
          "data": {
            "image/png": "[encoded data removed]",
            "text/plain": [
              "<Figure size 432x288 with 1 Axes>"
            ]
          },
          "metadata": {
            "tags": [],
            "needs_background": "light"
          }
        }
      ]
    },
    {
      "cell_type": "code",
      "metadata": {
        "colab": {
          "base_uri": "https://localhost:8080/"
        },
        "id": "geckPcpAsMPA",
        "outputId": "79b8f42f-1c76-4d70-9ee6-eea45c365a86"
      },
      "source": [
        "total_loss=[]\n",
        "model.eval()\n",
        "with torch.no_grad():\n",
        "    \n",
        "    correct = 0\n",
        "    for batch_idx, (data, target) in enumerate(test_loader):\n",
        "        output = model(data)\n",
        "        \n",
        "        pred = output.argmax(dim=1, keepdim=True) \n",
        "        correct += pred.eq(target.view_as(pred)).sum().item()\n",
        "        \n",
        "        loss = loss_func(output, target)\n",
        "        total_loss.append(loss.item())\n",
        "        \n",
        "    print('Performance on train data:\\n\\tLoss: {:.4f}\\n\\tAccuracy: {:.1f}%'.format(\n",
        "        sum(total_loss) / len(total_loss),\n",
        "        correct / len(test_loader) * 100)\n",
        "        )"
      ],
      "execution_count": 46,
      "outputs": [
        {
          "output_type": "stream",
          "text": [
            "Performance on train data:\n",
            "\tLoss: -0.5075\n",
            "\tAccuracy: 50.0%\n"
          ],
          "name": "stdout"
        }
      ]
    },
    {
      "cell_type": "code",
      "metadata": {
        "colab": {
          "base_uri": "https://localhost:8080/",
          "height": 567
        },
        "id": "ptvbWAoYsODp",
        "outputId": "0d861e1a-ffc0-441d-9cae-43e93a79e9c4"
      },
      "source": [
        "model = Net()\n",
        "optimizer = optim.Adam(model.parameters(), lr=0.0005)\n",
        "loss_func = nn.NLLLoss()\n",
        "\n",
        "epochs = 15\n",
        "loss_list = []\n",
        "loss_list_V = []\n",
        "\n",
        "#training the model\n",
        "model.train()\n",
        "for epoch in range(epochs):\n",
        "    train_loss = []\n",
        "    for batch_idx, (data, target) in enumerate(train_loader):\n",
        "        optimizer.zero_grad()\n",
        "        # Forward pass\n",
        "        output = model(data)\n",
        "        # Calculating loss\n",
        "        loss = loss_func(output, target)\n",
        "        # Backward pass\n",
        "        loss.backward()\n",
        "        # Optimize the weights\n",
        "        optimizer.step()\n",
        "        \n",
        "        train_loss.append(loss.item())\n",
        "    loss_list.append(sum(train_loss)/len(train_loss))\n",
        "    #print('Training [{:.0f}%]\\tLoss: {:.4f}'.format(100. * (epoch + 1) / epochs, loss_list[-1]))\n",
        "\n",
        "\n",
        "#Validate the model\n",
        "\n",
        "model.eval()\n",
        "for epoch in range(epochs):\n",
        "    valid_loss = []\n",
        "    for batch_idx, (data, target) in enumerate(valid_loader):\n",
        "        optimizer.zero_grad()\n",
        "        # Forward pass\n",
        "        output = model(data)\n",
        "        # Calculating loss\n",
        "        validation_loss = loss_func(output, target)\n",
        "        # Backward pass\n",
        "        validation_loss.backward()\n",
        "        # Optimize the weights\n",
        "        optimizer.step()\n",
        "        \n",
        "        valid_loss.append(validation_loss.item())\n",
        "    loss_list_V.append(sum(valid_loss)/len(valid_loss))\n",
        "    #print('Training [{:.0f}%]\\tLoss: {:.4f}'.format(100. * (epoch + 1) / epochs, loss_list_V[-1]))\n",
        "    print('Epoch: {} \\tTraining Loss: {:.6f} \\tValidation Loss: {:.6f}'.format(\n",
        "        epoch, loss_list[-1], loss_list_V[-1]))\n",
        "\n",
        "\n",
        "\n",
        "\n",
        "#Now plotting the training graph\n",
        "plt.plot(loss_list,label='Training Loss')  \n",
        "plt.plot(loss_list_V,label='Validation Loss')  \n",
        "plt.legend()  \n",
        "plt.show() \n",
        "\n",
        "total_loss=[]\n",
        "model.eval()\n",
        "with torch.no_grad():\n",
        "    \n",
        "    correct = 0\n",
        "    for batch_idx, (data, target) in enumerate(test_loader):\n",
        "        output = model(data)\n",
        "        \n",
        "        pred = output.argmax(dim=1, keepdim=True) \n",
        "        correct += pred.eq(target.view_as(pred)).sum().item()\n",
        "        \n",
        "        loss = loss_func(output, target)\n",
        "        total_loss.append(loss.item())\n",
        "        \n",
        "    print('Performance on test data:\\n\\tLoss: {:.4f}\\n\\tAccuracy: {:.1f}%'.format(\n",
        "        sum(total_loss) / len(total_loss),\n",
        "        correct / len(test_loader) * 100)\n",
        "        )"
      ],
      "execution_count": 47,
      "outputs": [
        {
          "output_type": "stream",
          "text": [
            "Epoch: 0 \tTraining Loss: -0.730200 \tValidation Loss: -0.746000\n",
            "Epoch: 1 \tTraining Loss: -0.730200 \tValidation Loss: -0.774200\n",
            "Epoch: 2 \tTraining Loss: -0.730200 \tValidation Loss: -0.801000\n",
            "Epoch: 3 \tTraining Loss: -0.730200 \tValidation Loss: -0.804200\n",
            "Epoch: 4 \tTraining Loss: -0.730200 \tValidation Loss: -0.828200\n",
            "Epoch: 5 \tTraining Loss: -0.730200 \tValidation Loss: -0.868000\n",
            "Epoch: 6 \tTraining Loss: -0.730200 \tValidation Loss: -0.894400\n",
            "Epoch: 7 \tTraining Loss: -0.730200 \tValidation Loss: -0.894800\n",
            "Epoch: 8 \tTraining Loss: -0.730200 \tValidation Loss: -0.934200\n",
            "Epoch: 9 \tTraining Loss: -0.730200 \tValidation Loss: -0.947000\n",
            "Epoch: 10 \tTraining Loss: -0.730200 \tValidation Loss: -0.961400\n",
            "Epoch: 11 \tTraining Loss: -0.730200 \tValidation Loss: -0.969200\n",
            "Epoch: 12 \tTraining Loss: -0.730200 \tValidation Loss: -0.977200\n",
            "Epoch: 13 \tTraining Loss: -0.730200 \tValidation Loss: -0.988000\n",
            "Epoch: 14 \tTraining Loss: -0.730200 \tValidation Loss: -0.987400\n"
          ],
          "name": "stdout"
        },
        {
          "output_type": "display_data",
          "data": {
            "image/png": "[encoded data removed]",
            "text/plain": [
              "<Figure size 432x288 with 1 Axes>"
            ]
          },
          "metadata": {
            "tags": [],
            "needs_background": "light"
          }
        },
        {
          "output_type": "stream",
          "text": [
            "Performance on test data:\n",
            "\tLoss: -0.7544\n",
            "\tAccuracy: 79.0%\n"
          ],
          "name": "stdout"
        }
      ]
    },
    {
      "cell_type": "code",
      "metadata": {
        "colab": {
          "base_uri": "https://localhost:8080/",
          "height": 483
        },
        "id": "H-cbEVR_som-",
        "outputId": "f9a6a189-af06-4da5-8112-b984c18e903e"
      },
      "source": [
        "model = Net()\n",
        "optimizer = optim.Adam(model.parameters(), lr=0.0005)\n",
        "loss_func = nn.NLLLoss()\n",
        "\n",
        "epochs = 10\n",
        "loss_list = []\n",
        "loss_list_V = []\n",
        "\n",
        "#training the model\n",
        "model.train()\n",
        "for epoch in range(epochs):\n",
        "    train_loss = []\n",
        "    for batch_idx, (data, target) in enumerate(train_loader):\n",
        "        optimizer.zero_grad()\n",
        "        # Forward pass\n",
        "        output = model(data)\n",
        "        # Calculating loss\n",
        "        loss = loss_func(output, target)\n",
        "        # Backward pass\n",
        "        loss.backward()\n",
        "        # Optimize the weights\n",
        "        optimizer.step()\n",
        "        \n",
        "        train_loss.append(loss.item())\n",
        "    loss_list.append(sum(train_loss)/len(train_loss))\n",
        "    #print('Training [{:.0f}%]\\tLoss: {:.4f}'.format(100. * (epoch + 1) / epochs, loss_list[-1]))\n",
        "\n",
        "\n",
        "#Validate the model\n",
        "\n",
        "model.eval()\n",
        "for epoch in range(epochs):\n",
        "    valid_loss = []\n",
        "    for batch_idx, (data, target) in enumerate(valid_loader):\n",
        "        optimizer.zero_grad()\n",
        "        # Forward pass\n",
        "        output = model(data)\n",
        "        # Calculating loss\n",
        "        validation_loss = loss_func(output, target)\n",
        "        # Backward pass\n",
        "        validation_loss.backward()\n",
        "        # Optimize the weights\n",
        "        optimizer.step()\n",
        "        \n",
        "        valid_loss.append(validation_loss.item())\n",
        "    loss_list_V.append(sum(valid_loss)/len(valid_loss))\n",
        "    #print('Training [{:.0f}%]\\tLoss: {:.4f}'.format(100. * (epoch + 1) / epochs, loss_list_V[-1]))\n",
        "    print('Epoch: {} \\tTraining Loss: {:.6f} \\tValidation Loss: {:.6f}'.format(\n",
        "        epoch, loss_list[-1], loss_list_V[-1]))\n",
        "\n",
        "\n",
        "\n",
        "\n",
        "#Now plotting the training graph\n",
        "plt.plot(loss_list,label='Training Loss')  \n",
        "plt.plot(loss_list_V,label='Validation Loss')  \n",
        "plt.legend()  \n",
        "plt.show() \n",
        "\n",
        "total_loss=[]\n",
        "model.eval()\n",
        "with torch.no_grad():\n",
        "    \n",
        "    correct = 0\n",
        "    for batch_idx, (data, target) in enumerate(test_loader):\n",
        "        output = model(data)\n",
        "        \n",
        "        pred = output.argmax(dim=1, keepdim=True) \n",
        "        correct += pred.eq(target.view_as(pred)).sum().item()\n",
        "        \n",
        "        loss = loss_func(output, target)\n",
        "        total_loss.append(loss.item())\n",
        "        \n",
        "    print('Performance on test data:\\n\\tLoss: {:.4f}\\n\\tAccuracy: {:.1f}%'.format(\n",
        "        sum(total_loss) / len(total_loss),\n",
        "        correct / len(test_loader) * 100)\n",
        "        )"
      ],
      "execution_count": 48,
      "outputs": [
        {
          "output_type": "stream",
          "text": [
            "Epoch: 0 \tTraining Loss: -0.513667 \tValidation Loss: -0.438200\n",
            "Epoch: 1 \tTraining Loss: -0.513667 \tValidation Loss: -0.493600\n",
            "Epoch: 2 \tTraining Loss: -0.513667 \tValidation Loss: -0.581200\n",
            "Epoch: 3 \tTraining Loss: -0.513667 \tValidation Loss: -0.679200\n",
            "Epoch: 4 \tTraining Loss: -0.513667 \tValidation Loss: -0.724400\n",
            "Epoch: 5 \tTraining Loss: -0.513667 \tValidation Loss: -0.787000\n",
            "Epoch: 6 \tTraining Loss: -0.513667 \tValidation Loss: -0.794600\n",
            "Epoch: 7 \tTraining Loss: -0.513667 \tValidation Loss: -0.796000\n",
            "Epoch: 8 \tTraining Loss: -0.513667 \tValidation Loss: -0.807200\n",
            "Epoch: 9 \tTraining Loss: -0.513667 \tValidation Loss: -0.857800\n"
          ],
          "name": "stdout"
        },
        {
          "output_type": "display_data",
          "data": {
            "image/png": "[encoded data removed]",
            "text/plain": [
              "<Figure size 432x288 with 1 Axes>"
            ]
          },
          "metadata": {
            "tags": [],
            "needs_background": "light"
          }
        },
        {
          "output_type": "stream",
          "text": [
            "Performance on test data:\n",
            "\tLoss: -0.7366\n",
            "\tAccuracy: 80.5%\n"
          ],
          "name": "stdout"
        }
      ]
    },
    {
      "cell_type": "code",
      "metadata": {
        "id": "d0WyMksmuxg4"
      },
      "source": [
        ""
      ],
      "execution_count": null,
      "outputs": []
    },
    {
      "cell_type": "code",
      "metadata": {
        "colab": {
          "base_uri": "https://localhost:8080/",
          "height": 366
        },
        "id": "ik_a4Bj6u0PB",
        "outputId": "7e351f17-db2d-4833-b666-dbdede89ef4c"
      },
      "source": [
        "model = Net()\n",
        "optimizer = optim.Adam(model.parameters(), lr=0.0005)\n",
        "loss_func = nn.NLLLoss()\n",
        "\n",
        "epochs = 3\n",
        "loss_list = []\n",
        "loss_list_V = []\n",
        "\n",
        "#training the model\n",
        "model.train()\n",
        "for epoch in range(epochs):\n",
        "    train_loss = []\n",
        "    for batch_idx, (data, target) in enumerate(train_loader):\n",
        "        optimizer.zero_grad()\n",
        "        # Forward pass\n",
        "        output = model(data)\n",
        "        # Calculating loss\n",
        "        loss = loss_func(output, target)\n",
        "        # Backward pass\n",
        "        loss.backward()\n",
        "        # Optimize the weights\n",
        "        optimizer.step()\n",
        "        \n",
        "        train_loss.append(loss.item())\n",
        "    loss_list.append(sum(train_loss)/len(train_loss))\n",
        "    #print('Training [{:.0f}%]\\tLoss: {:.4f}'.format(100. * (epoch + 1) / epochs, loss_list[-1]))\n",
        "\n",
        "\n",
        "#Validate the model\n",
        "\n",
        "model.eval()\n",
        "for epoch in range(epochs):\n",
        "    valid_loss = []\n",
        "    for batch_idx, (data, target) in enumerate(valid_loader):\n",
        "        optimizer.zero_grad()\n",
        "        # Forward pass\n",
        "        output = model(data)\n",
        "        # Calculating loss\n",
        "        validation_loss = loss_func(output, target)\n",
        "        # Backward pass\n",
        "        validation_loss.backward()\n",
        "        # Optimize the weights\n",
        "        optimizer.step()\n",
        "        \n",
        "        valid_loss.append(validation_loss.item())\n",
        "    loss_list_V.append(sum(valid_loss)/len(valid_loss))\n",
        "    #print('Training [{:.0f}%]\\tLoss: {:.4f}'.format(100. * (epoch + 1) / epochs, loss_list_V[-1]))\n",
        "    print('Epoch: {} \\tTraining Loss: {:.6f} \\tValidation Loss: {:.6f}'.format(\n",
        "        epoch, loss_list[-1], loss_list_V[-1]))\n",
        "\n",
        "\n",
        "\n",
        "\n",
        "#Now plotting the training graph\n",
        "plt.plot(loss_list,label='Training Loss')  \n",
        "plt.plot(loss_list_V,label='Validation Loss')  \n",
        "plt.legend()  \n",
        "plt.show() \n",
        "\n",
        "total_loss=[]\n",
        "model.eval()\n",
        "with torch.no_grad():\n",
        "    \n",
        "    correct = 0\n",
        "    for batch_idx, (data, target) in enumerate(test_loader):\n",
        "        output = model(data)\n",
        "        \n",
        "        pred = output.argmax(dim=1, keepdim=True) \n",
        "        correct += pred.eq(target.view_as(pred)).sum().item()\n",
        "        \n",
        "        loss = loss_func(output, target)\n",
        "        total_loss.append(loss.item())\n",
        "        \n",
        "    print('Performance on test data:\\n\\tLoss: {:.4f}\\n\\tAccuracy: {:.1f}%'.format(\n",
        "        sum(total_loss) / len(total_loss),\n",
        "        correct / len(test_loader) * 100)\n",
        "        )"
      ],
      "execution_count": 49,
      "outputs": [
        {
          "output_type": "stream",
          "text": [
            "Epoch: 0 \tTraining Loss: -0.490600 \tValidation Loss: -0.417400\n",
            "Epoch: 1 \tTraining Loss: -0.490600 \tValidation Loss: -0.507200\n",
            "Epoch: 2 \tTraining Loss: -0.490600 \tValidation Loss: -0.520800\n"
          ],
          "name": "stdout"
        },
        {
          "output_type": "display_data",
          "data": {
            "image/png": "[encoded data removed]",
            "text/plain": [
              "<Figure size 432x288 with 1 Axes>"
            ]
          },
          "metadata": {
            "tags": [],
            "needs_background": "light"
          }
        },
        {
          "output_type": "stream",
          "text": [
            "Performance on test data:\n",
            "\tLoss: -0.5172\n",
            "\tAccuracy: 52.5%\n"
          ],
          "name": "stdout"
        }
      ]
    },
    {
      "cell_type": "code",
      "metadata": {
        "id": "cqGqJwQeu7jS"
      },
      "source": [
        ""
      ],
      "execution_count": null,
      "outputs": []
    },
    {
      "cell_type": "code",
      "metadata": {
        "colab": {
          "base_uri": "https://localhost:8080/",
          "height": 433
        },
        "id": "Qh4_yxtDu7p1",
        "outputId": "61c4b7f6-8320-4fa9-9515-7cee892c6f6c"
      },
      "source": [
        "model = Net()\n",
        "optimizer = optim.Adam(model.parameters(), lr=0.0005)\n",
        "loss_func = nn.NLLLoss()\n",
        "\n",
        "epochs = 7\n",
        "loss_list = []\n",
        "loss_list_V = []\n",
        "\n",
        "#training the model\n",
        "model.train()\n",
        "for epoch in range(epochs):\n",
        "    train_loss = []\n",
        "    for batch_idx, (data, target) in enumerate(train_loader):\n",
        "        optimizer.zero_grad()\n",
        "        # Forward pass\n",
        "        output = model(data)\n",
        "        # Calculating loss\n",
        "        loss = loss_func(output, target)\n",
        "        # Backward pass\n",
        "        loss.backward()\n",
        "        # Optimize the weights\n",
        "        optimizer.step()\n",
        "        \n",
        "        train_loss.append(loss.item())\n",
        "    loss_list.append(sum(train_loss)/len(train_loss))\n",
        "    #print('Training [{:.0f}%]\\tLoss: {:.4f}'.format(100. * (epoch + 1) / epochs, loss_list[-1]))\n",
        "\n",
        "\n",
        "#Validate the model\n",
        "\n",
        "model.eval()\n",
        "for epoch in range(epochs):\n",
        "    valid_loss = []\n",
        "    for batch_idx, (data, target) in enumerate(valid_loader):\n",
        "        optimizer.zero_grad()\n",
        "        # Forward pass\n",
        "        output = model(data)\n",
        "        # Calculating loss\n",
        "        validation_loss = loss_func(output, target)\n",
        "        # Backward pass\n",
        "        validation_loss.backward()\n",
        "        # Optimize the weights\n",
        "        optimizer.step()\n",
        "        \n",
        "        valid_loss.append(validation_loss.item())\n",
        "    loss_list_V.append(sum(valid_loss)/len(valid_loss))\n",
        "    #print('Training [{:.0f}%]\\tLoss: {:.4f}'.format(100. * (epoch + 1) / epochs, loss_list_V[-1]))\n",
        "    print('Epoch: {} \\tTraining Loss: {:.6f} \\tValidation Loss: {:.6f}'.format(\n",
        "        epoch, loss_list[-1], loss_list_V[-1]))\n",
        "\n",
        "\n",
        "\n",
        "\n",
        "#Now plotting the training graph\n",
        "plt.plot(loss_list,label='Training Loss')  \n",
        "plt.plot(loss_list_V,label='Validation Loss')  \n",
        "plt.legend()  \n",
        "plt.show() \n",
        "\n",
        "total_loss=[]\n",
        "model.eval()\n",
        "with torch.no_grad():\n",
        "    \n",
        "    correct = 0\n",
        "    for batch_idx, (data, target) in enumerate(test_loader):\n",
        "        output = model(data)\n",
        "        \n",
        "        pred = output.argmax(dim=1, keepdim=True) \n",
        "        correct += pred.eq(target.view_as(pred)).sum().item()\n",
        "        \n",
        "        loss = loss_func(output, target)\n",
        "        total_loss.append(loss.item())\n",
        "        \n",
        "    print('Performance on test data:\\n\\tLoss: {:.4f}\\n\\tAccuracy: {:.1f}%'.format(\n",
        "        sum(total_loss) / len(total_loss),\n",
        "        correct / len(test_loader) * 100)\n",
        "        )"
      ],
      "execution_count": 50,
      "outputs": [
        {
          "output_type": "stream",
          "text": [
            "Epoch: 0 \tTraining Loss: -0.471067 \tValidation Loss: -0.378800\n",
            "Epoch: 1 \tTraining Loss: -0.471067 \tValidation Loss: -0.484600\n",
            "Epoch: 2 \tTraining Loss: -0.471067 \tValidation Loss: -0.509200\n",
            "Epoch: 3 \tTraining Loss: -0.471067 \tValidation Loss: -0.493800\n",
            "Epoch: 4 \tTraining Loss: -0.471067 \tValidation Loss: -0.526600\n",
            "Epoch: 5 \tTraining Loss: -0.471067 \tValidation Loss: -0.486800\n",
            "Epoch: 6 \tTraining Loss: -0.471067 \tValidation Loss: -0.533800\n"
          ],
          "name": "stdout"
        },
        {
          "output_type": "display_data",
          "data": {
            "image/png": "[encoded data removed]",
            "text/plain": [
              "<Figure size 432x288 with 1 Axes>"
            ]
          },
          "metadata": {
            "tags": [],
            "needs_background": "light"
          }
        },
        {
          "output_type": "stream",
          "text": [
            "Performance on test data:\n",
            "\tLoss: -0.4957\n",
            "\tAccuracy: 52.0%\n"
          ],
          "name": "stdout"
        }
      ]
    },
    {
      "cell_type": "code",
      "metadata": {
        "id": "hDXnsVi5vEn3"
      },
      "source": [
        ""
      ],
      "execution_count": null,
      "outputs": []
    },
    {
      "cell_type": "code",
      "metadata": {
        "colab": {
          "base_uri": "https://localhost:8080/",
          "height": 483
        },
        "id": "4y3xtly_vE6B",
        "outputId": "646be02f-484f-4376-d558-3dfb0ac64ba3"
      },
      "source": [
        "model = Net()\n",
        "optimizer = optim.Adam(model.parameters(), lr=0.0008)\n",
        "loss_func = nn.NLLLoss()\n",
        "\n",
        "epochs = 10\n",
        "loss_list = []\n",
        "loss_list_V = []\n",
        "\n",
        "#training the model\n",
        "model.train()\n",
        "for epoch in range(epochs):\n",
        "    train_loss = []\n",
        "    for batch_idx, (data, target) in enumerate(train_loader):\n",
        "        optimizer.zero_grad()\n",
        "        # Forward pass\n",
        "        output = model(data)\n",
        "        # Calculating loss\n",
        "        loss = loss_func(output, target)\n",
        "        # Backward pass\n",
        "        loss.backward()\n",
        "        # Optimize the weights\n",
        "        optimizer.step()\n",
        "        \n",
        "        train_loss.append(loss.item())\n",
        "    loss_list.append(sum(train_loss)/len(train_loss))\n",
        "    #print('Training [{:.0f}%]\\tLoss: {:.4f}'.format(100. * (epoch + 1) / epochs, loss_list[-1]))\n",
        "\n",
        "\n",
        "#Validate the model\n",
        "\n",
        "model.eval()\n",
        "for epoch in range(epochs):\n",
        "    valid_loss = []\n",
        "    for batch_idx, (data, target) in enumerate(valid_loader):\n",
        "        optimizer.zero_grad()\n",
        "        # Forward pass\n",
        "        output = model(data)\n",
        "        # Calculating loss\n",
        "        validation_loss = loss_func(output, target)\n",
        "        # Backward pass\n",
        "        validation_loss.backward()\n",
        "        # Optimize the weights\n",
        "        optimizer.step()\n",
        "        \n",
        "        valid_loss.append(validation_loss.item())\n",
        "    loss_list_V.append(sum(valid_loss)/len(valid_loss))\n",
        "    #print('Training [{:.0f}%]\\tLoss: {:.4f}'.format(100. * (epoch + 1) / epochs, loss_list_V[-1]))\n",
        "    print('Epoch: {} \\tTraining Loss: {:.6f} \\tValidation Loss: {:.6f}'.format(\n",
        "        epoch, loss_list[-1], loss_list_V[-1]))\n",
        "\n",
        "\n",
        "\n",
        "\n",
        "#Now plotting the training graph\n",
        "plt.plot(loss_list,label='Training Loss')  \n",
        "plt.plot(loss_list_V,label='Validation Loss')  \n",
        "plt.legend()  \n",
        "plt.show() \n",
        "\n",
        "total_loss=[]\n",
        "model.eval()\n",
        "with torch.no_grad():\n",
        "    \n",
        "    correct = 0\n",
        "    for batch_idx, (data, target) in enumerate(test_loader):\n",
        "        output = model(data)\n",
        "        \n",
        "        pred = output.argmax(dim=1, keepdim=True) \n",
        "        correct += pred.eq(target.view_as(pred)).sum().item()\n",
        "        \n",
        "        loss = loss_func(output, target)\n",
        "        total_loss.append(loss.item())\n",
        "        \n",
        "    print('Performance on test data:\\n\\tLoss: {:.4f}\\n\\tAccuracy: {:.1f}%'.format(\n",
        "        sum(total_loss) / len(total_loss),\n",
        "        correct / len(test_loader) * 100)\n",
        "        )"
      ],
      "execution_count": 51,
      "outputs": [
        {
          "output_type": "stream",
          "text": [
            "Epoch: 0 \tTraining Loss: -0.498733 \tValidation Loss: -0.619600\n",
            "Epoch: 1 \tTraining Loss: -0.498733 \tValidation Loss: -0.675800\n",
            "Epoch: 2 \tTraining Loss: -0.498733 \tValidation Loss: -0.677000\n",
            "Epoch: 3 \tTraining Loss: -0.498733 \tValidation Loss: -0.657600\n",
            "Epoch: 4 \tTraining Loss: -0.498733 \tValidation Loss: -0.651200\n",
            "Epoch: 5 \tTraining Loss: -0.498733 \tValidation Loss: -0.700800\n",
            "Epoch: 6 \tTraining Loss: -0.498733 \tValidation Loss: -0.673200\n",
            "Epoch: 7 \tTraining Loss: -0.498733 \tValidation Loss: -0.696000\n",
            "Epoch: 8 \tTraining Loss: -0.498733 \tValidation Loss: -0.694800\n",
            "Epoch: 9 \tTraining Loss: -0.498733 \tValidation Loss: -0.719000\n"
          ],
          "name": "stdout"
        },
        {
          "output_type": "display_data",
          "data": {
            "image/png": "[encoded data removed]",
            "text/plain": [
              "<Figure size 432x288 with 1 Axes>"
            ]
          },
          "metadata": {
            "tags": [],
            "needs_background": "light"
          }
        },
        {
          "output_type": "stream",
          "text": [
            "Performance on test data:\n",
            "\tLoss: -0.6472\n",
            "\tAccuracy: 69.5%\n"
          ],
          "name": "stdout"
        }
      ]
    },
    {
      "cell_type": "code",
      "metadata": {
        "id": "rlzC5_253tm-"
      },
      "source": [
        ""
      ],
      "execution_count": null,
      "outputs": []
    },
    {
      "cell_type": "code",
      "metadata": {
        "colab": {
          "base_uri": "https://localhost:8080/",
          "height": 567
        },
        "id": "n8fMJ4mz3uwN",
        "outputId": "6126d679-233e-454c-bca7-b52c10d80ad5"
      },
      "source": [
        "model = Net()\n",
        "optimizer = optim.Adam(model.parameters(), lr=0.0008)\n",
        "loss_func = nn.NLLLoss()\n",
        "\n",
        "epochs = 15\n",
        "loss_list = []\n",
        "loss_list_V = []\n",
        "\n",
        "#training the model\n",
        "model.train()\n",
        "for epoch in range(epochs):\n",
        "    train_loss = []\n",
        "    for batch_idx, (data, target) in enumerate(train_loader):\n",
        "        optimizer.zero_grad()\n",
        "        # Forward pass\n",
        "        output = model(data)\n",
        "        # Calculating loss\n",
        "        loss = loss_func(output, target)\n",
        "        # Backward pass\n",
        "        loss.backward()\n",
        "        # Optimize the weights\n",
        "        optimizer.step()\n",
        "        \n",
        "        train_loss.append(loss.item())\n",
        "    loss_list.append(sum(train_loss)/len(train_loss))\n",
        "    #print('Training [{:.0f}%]\\tLoss: {:.4f}'.format(100. * (epoch + 1) / epochs, loss_list[-1]))\n",
        "\n",
        "\n",
        "#Validate the model\n",
        "\n",
        "model.eval()\n",
        "for epoch in range(epochs):\n",
        "    valid_loss = []\n",
        "    for batch_idx, (data, target) in enumerate(valid_loader):\n",
        "        optimizer.zero_grad()\n",
        "        # Forward pass\n",
        "        output = model(data)\n",
        "        # Calculating loss\n",
        "        validation_loss = loss_func(output, target)\n",
        "        # Backward pass\n",
        "        validation_loss.backward()\n",
        "        # Optimize the weights\n",
        "        optimizer.step()\n",
        "        \n",
        "        valid_loss.append(validation_loss.item())\n",
        "    loss_list_V.append(sum(valid_loss)/len(valid_loss))\n",
        "    #print('Training [{:.0f}%]\\tLoss: {:.4f}'.format(100. * (epoch + 1) / epochs, loss_list_V[-1]))\n",
        "    print('Epoch: {} \\tTraining Loss: {:.6f} \\tValidation Loss: {:.6f}'.format(\n",
        "        epoch, loss_list[-1], loss_list_V[-1]))\n",
        "\n",
        "\n",
        "\n",
        "\n",
        "#Now plotting the training graph\n",
        "plt.plot(loss_list,label='Training Loss')  \n",
        "plt.plot(loss_list_V,label='Validation Loss')  \n",
        "plt.legend()  \n",
        "plt.show() \n",
        "\n",
        "total_loss=[]\n",
        "model.eval()\n",
        "with torch.no_grad():\n",
        "    \n",
        "    correct = 0\n",
        "    for batch_idx, (data, target) in enumerate(test_loader):\n",
        "        output = model(data)\n",
        "        \n",
        "        pred = output.argmax(dim=1, keepdim=True) \n",
        "        correct += pred.eq(target.view_as(pred)).sum().item()\n",
        "        \n",
        "        loss = loss_func(output, target)\n",
        "        total_loss.append(loss.item())\n",
        "        \n",
        "    print('Performance on test data:\\n\\tLoss: {:.4f}\\n\\tAccuracy: {:.1f}%'.format(\n",
        "        sum(total_loss) / len(total_loss),\n",
        "        correct / len(test_loader) * 100)\n",
        "        )"
      ],
      "execution_count": 52,
      "outputs": [
        {
          "output_type": "stream",
          "text": [
            "Epoch: 0 \tTraining Loss: -0.455533 \tValidation Loss: -0.556800\n",
            "Epoch: 1 \tTraining Loss: -0.455533 \tValidation Loss: -0.584400\n",
            "Epoch: 2 \tTraining Loss: -0.455533 \tValidation Loss: -0.591200\n",
            "Epoch: 3 \tTraining Loss: -0.455533 \tValidation Loss: -0.587800\n",
            "Epoch: 4 \tTraining Loss: -0.455533 \tValidation Loss: -0.650800\n",
            "Epoch: 5 \tTraining Loss: -0.455533 \tValidation Loss: -0.654400\n",
            "Epoch: 6 \tTraining Loss: -0.455533 \tValidation Loss: -0.699800\n",
            "Epoch: 7 \tTraining Loss: -0.455533 \tValidation Loss: -0.671200\n",
            "Epoch: 8 \tTraining Loss: -0.455533 \tValidation Loss: -0.710600\n",
            "Epoch: 9 \tTraining Loss: -0.455533 \tValidation Loss: -0.768600\n",
            "Epoch: 10 \tTraining Loss: -0.455533 \tValidation Loss: -0.802400\n",
            "Epoch: 11 \tTraining Loss: -0.455533 \tValidation Loss: -0.794200\n",
            "Epoch: 12 \tTraining Loss: -0.455533 \tValidation Loss: -0.832200\n",
            "Epoch: 13 \tTraining Loss: -0.455533 \tValidation Loss: -0.838000\n",
            "Epoch: 14 \tTraining Loss: -0.455533 \tValidation Loss: -0.847000\n"
          ],
          "name": "stdout"
        },
        {
          "output_type": "display_data",
          "data": {
            "image/png": "[encoded data removed]",
            "text/plain": [
              "<Figure size 432x288 with 1 Axes>"
            ]
          },
          "metadata": {
            "tags": [],
            "needs_background": "light"
          }
        },
        {
          "output_type": "stream",
          "text": [
            "Performance on test data:\n",
            "\tLoss: -0.7039\n",
            "\tAccuracy: 77.0%\n"
          ],
          "name": "stdout"
        }
      ]
    },
    {
      "cell_type": "code",
      "metadata": {
        "id": "m-zK1_qu4DdO"
      },
      "source": [
        ""
      ],
      "execution_count": null,
      "outputs": []
    },
    {
      "cell_type": "code",
      "metadata": {
        "colab": {
          "base_uri": "https://localhost:8080/",
          "height": 399
        },
        "id": "xA_whWFD4DzS",
        "outputId": "31ba080c-75c8-4be7-f4d8-df377f6e63a7"
      },
      "source": [
        "model = Net()\n",
        "optimizer = optim.Adam(model.parameters(), lr=0.0008)\n",
        "loss_func = nn.NLLLoss()\n",
        "\n",
        "epochs = 5\n",
        "loss_list = []\n",
        "loss_list_V = []\n",
        "\n",
        "#training the model\n",
        "model.train()\n",
        "for epoch in range(epochs):\n",
        "    train_loss = []\n",
        "    for batch_idx, (data, target) in enumerate(train_loader):\n",
        "        optimizer.zero_grad()\n",
        "        # Forward pass\n",
        "        output = model(data)\n",
        "        # Calculating loss\n",
        "        loss = loss_func(output, target)\n",
        "        # Backward pass\n",
        "        loss.backward()\n",
        "        # Optimize the weights\n",
        "        optimizer.step()\n",
        "        \n",
        "        train_loss.append(loss.item())\n",
        "    loss_list.append(sum(train_loss)/len(train_loss))\n",
        "    #print('Training [{:.0f}%]\\tLoss: {:.4f}'.format(100. * (epoch + 1) / epochs, loss_list[-1]))\n",
        "\n",
        "\n",
        "#Validate the model\n",
        "\n",
        "model.eval()\n",
        "for epoch in range(epochs):\n",
        "    valid_loss = []\n",
        "    for batch_idx, (data, target) in enumerate(valid_loader):\n",
        "        optimizer.zero_grad()\n",
        "        # Forward pass\n",
        "        output = model(data)\n",
        "        # Calculating loss\n",
        "        validation_loss = loss_func(output, target)\n",
        "        # Backward pass\n",
        "        validation_loss.backward()\n",
        "        # Optimize the weights\n",
        "        optimizer.step()\n",
        "        \n",
        "        valid_loss.append(validation_loss.item())\n",
        "    loss_list_V.append(sum(valid_loss)/len(valid_loss))\n",
        "    #print('Training [{:.0f}%]\\tLoss: {:.4f}'.format(100. * (epoch + 1) / epochs, loss_list_V[-1]))\n",
        "    print('Epoch: {} \\tTraining Loss: {:.6f} \\tValidation Loss: {:.6f}'.format(\n",
        "        epoch, loss_list[-1], loss_list_V[-1]))\n",
        "\n",
        "\n",
        "\n",
        "\n",
        "#Now plotting the training graph\n",
        "plt.plot(loss_list,label='Training Loss')  \n",
        "plt.plot(loss_list_V,label='Validation Loss')  \n",
        "plt.legend()  \n",
        "plt.show() \n",
        "\n",
        "total_loss=[]\n",
        "model.eval()\n",
        "with torch.no_grad():\n",
        "    \n",
        "    correct = 0\n",
        "    for batch_idx, (data, target) in enumerate(test_loader):\n",
        "        output = model(data)\n",
        "        \n",
        "        pred = output.argmax(dim=1, keepdim=True) \n",
        "        correct += pred.eq(target.view_as(pred)).sum().item()\n",
        "        \n",
        "        loss = loss_func(output, target)\n",
        "        total_loss.append(loss.item())\n",
        "        \n",
        "    print('Performance on test data:\\n\\tLoss: {:.4f}\\n\\tAccuracy: {:.1f}%'.format(\n",
        "        sum(total_loss) / len(total_loss),\n",
        "        correct / len(test_loader) * 100)\n",
        "        )"
      ],
      "execution_count": 53,
      "outputs": [
        {
          "output_type": "stream",
          "text": [
            "Epoch: 0 \tTraining Loss: -0.723733 \tValidation Loss: -0.637800\n",
            "Epoch: 1 \tTraining Loss: -0.723733 \tValidation Loss: -0.751000\n",
            "Epoch: 2 \tTraining Loss: -0.723733 \tValidation Loss: -0.813000\n",
            "Epoch: 3 \tTraining Loss: -0.723733 \tValidation Loss: -0.835600\n",
            "Epoch: 4 \tTraining Loss: -0.723733 \tValidation Loss: -0.853600\n"
          ],
          "name": "stdout"
        },
        {
          "output_type": "display_data",
          "data": {
            "image/png": "[encoded data removed]",
            "text/plain": [
              "<Figure size 432x288 with 1 Axes>"
            ]
          },
          "metadata": {
            "tags": [],
            "needs_background": "light"
          }
        },
        {
          "output_type": "stream",
          "text": [
            "Performance on test data:\n",
            "\tLoss: -0.7523\n",
            "\tAccuracy: 78.0%\n"
          ],
          "name": "stdout"
        }
      ]
    },
    {
      "cell_type": "code",
      "metadata": {
        "id": "VnEWdxhM5SU_"
      },
      "source": [
        ""
      ],
      "execution_count": null,
      "outputs": []
    },
    {
      "cell_type": "code",
      "metadata": {
        "colab": {
          "base_uri": "https://localhost:8080/",
          "height": 366
        },
        "id": "8TB2E0Gl5SnW",
        "outputId": "df420ac3-e94d-4fa8-e633-3e2c5e7f1ce6"
      },
      "source": [
        "model = Net()\n",
        "optimizer = optim.Adam(model.parameters(), lr=0.0008)\n",
        "loss_func = nn.NLLLoss()\n",
        "\n",
        "epochs = 3\n",
        "loss_list = []\n",
        "loss_list_V = []\n",
        "\n",
        "#training the model\n",
        "model.train()\n",
        "for epoch in range(epochs):\n",
        "    train_loss = []\n",
        "    for batch_idx, (data, target) in enumerate(train_loader):\n",
        "        optimizer.zero_grad()\n",
        "        # Forward pass\n",
        "        output = model(data)\n",
        "        # Calculating loss\n",
        "        loss = loss_func(output, target)\n",
        "        # Backward pass\n",
        "        loss.backward()\n",
        "        # Optimize the weights\n",
        "        optimizer.step()\n",
        "        \n",
        "        train_loss.append(loss.item())\n",
        "    loss_list.append(sum(train_loss)/len(train_loss))\n",
        "    #print('Training [{:.0f}%]\\tLoss: {:.4f}'.format(100. * (epoch + 1) / epochs, loss_list[-1]))\n",
        "\n",
        "\n",
        "#Validate the model\n",
        "\n",
        "model.eval()\n",
        "for epoch in range(epochs):\n",
        "    valid_loss = []\n",
        "    for batch_idx, (data, target) in enumerate(valid_loader):\n",
        "        optimizer.zero_grad()\n",
        "        # Forward pass\n",
        "        output = model(data)\n",
        "        # Calculating loss\n",
        "        validation_loss = loss_func(output, target)\n",
        "        # Backward pass\n",
        "        validation_loss.backward()\n",
        "        # Optimize the weights\n",
        "        optimizer.step()\n",
        "        \n",
        "        valid_loss.append(validation_loss.item())\n",
        "    loss_list_V.append(sum(valid_loss)/len(valid_loss))\n",
        "    #print('Training [{:.0f}%]\\tLoss: {:.4f}'.format(100. * (epoch + 1) / epochs, loss_list_V[-1]))\n",
        "    print('Epoch: {} \\tTraining Loss: {:.6f} \\tValidation Loss: {:.6f}'.format(\n",
        "        epoch, loss_list[-1], loss_list_V[-1]))\n",
        "\n",
        "\n",
        "\n",
        "\n",
        "#Now plotting the training graph\n",
        "plt.plot(loss_list,label='Training Loss')  \n",
        "plt.plot(loss_list_V,label='Validation Loss')  \n",
        "plt.legend()  \n",
        "plt.show() \n",
        "\n",
        "total_loss=[]\n",
        "model.eval()\n",
        "with torch.no_grad():\n",
        "    \n",
        "    correct = 0\n",
        "    for batch_idx, (data, target) in enumerate(test_loader):\n",
        "        output = model(data)\n",
        "        \n",
        "        pred = output.argmax(dim=1, keepdim=True) \n",
        "        correct += pred.eq(target.view_as(pred)).sum().item()\n",
        "        \n",
        "        loss = loss_func(output, target)\n",
        "        total_loss.append(loss.item())\n",
        "        \n",
        "    print('Performance on test data:\\n\\tLoss: {:.4f}\\n\\tAccuracy: {:.1f}%'.format(\n",
        "        sum(total_loss) / len(total_loss),\n",
        "        correct / len(test_loader) * 100)\n",
        "        )"
      ],
      "execution_count": 54,
      "outputs": [
        {
          "output_type": "stream",
          "text": [
            "Epoch: 0 \tTraining Loss: -0.498533 \tValidation Loss: -0.469600\n",
            "Epoch: 1 \tTraining Loss: -0.498533 \tValidation Loss: -0.506600\n",
            "Epoch: 2 \tTraining Loss: -0.498533 \tValidation Loss: -0.562600\n"
          ],
          "name": "stdout"
        },
        {
          "output_type": "display_data",
          "data": {
            "image/png": "[encoded data removed]",
            "text/plain": [
              "<Figure size 432x288 with 1 Axes>"
            ]
          },
          "metadata": {
            "tags": [],
            "needs_background": "light"
          }
        },
        {
          "output_type": "stream",
          "text": [
            "Performance on test data:\n",
            "\tLoss: -0.5128\n",
            "\tAccuracy: 52.5%\n"
          ],
          "name": "stdout"
        }
      ]
    }
  ]
}